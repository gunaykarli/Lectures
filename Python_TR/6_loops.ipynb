{
 "cells": [
  {
   "attachments": {},
   "cell_type": "markdown",
   "metadata": {},
   "source": [
    "# Döngüler (Loops)\n",
    "Bir döngü ifadesi, bir ifadeyi veya ifadeler grubunu birden çok kez yürütmemize izin verir. Aşağıdaki şemada bir döngü ifadesi gösterilmektedir.\n",
    "\n",
    "Conditional Code - Koşullu Kod, Condition - Koşul"
   ]
  },
  {
   "attachments": {},
   "cell_type": "markdown",
   "metadata": {},
   "source": [
    "![for loop](../Images/for_loop.png)"
   ]
  },
  {
   "attachments": {},
   "cell_type": "markdown",
   "metadata": {},
   "source": [
    "Python programlama dili, döngü gereksinimlerini karşılamak için aşağıdaki döngü türlerini sağlar.\n",
    "\n",
    "**For döngüsü:**\n",
    "   -  Bir dizi ifadeyi birden çok kez yürütür ve döngü değişkenini yöneten kodu kısaltır.\n",
    "\n",
    "**While döngüsü:**\n",
    "   - Belirli bir koşul DOĞRU iken bir ifadeyi veya ifadeler grubunu tekrarlar. Döngü gövdesini yürütmeden önce durumu test eder.\n",
    "     \n",
    "**İç içe geçmiş (nested) döngüler:** \n",
    "   - Herhangi bir while, for veya do..while döngüsünün içinde bir veya daha fazla döngü kullanabilirsiniz."
   ]
  },
  {
   "attachments": {},
   "cell_type": "markdown",
   "metadata": {},
   "source": [
    "# For Döngüsü\n",
    "Python'da, for döngüsü,  liste, string, tuple gibi yinelenebilir nesneler veya bir menzil üzerinde yineleme yapmak için kullanılır.\n",
    "\n",
    "For döngüsü ile ifade bloğunu sabit sayıda tekrarlayabiliriz."
   ]
  },
  {
   "cell_type": "code",
   "execution_count": null,
   "metadata": {},
   "outputs": [],
   "source": [
    "# for döngüsü kullanarak ilk 10 sayıyı yazdır\n",
    "\n",
    "for number in range(10):\n",
    "    print(number)"
   ]
  },
  {
   "attachments": {},
   "cell_type": "markdown",
   "metadata": {},
   "source": [
    "# range() *(menzil)* ile for döngüsü\n",
    "range() fonksiyonu, başlangıç sınırı belirtilmezse 0'dan (varsayılan olarak) başlayan bir sayı dizisi döndürür ve son sınıra ulaşılana kadar 1 (varsayılan olarak) artar.\n",
    "\n",
    "range() fonksiyonu, kod bloğunun yürütüleceği aralığı (kaç kez) belirtmek için bir döngü ile birlikte kullanılır."
   ]
  },
  {
   "cell_type": "code",
   "execution_count": null,
   "metadata": {},
   "outputs": [],
   "source": [
    "# ilk 10 sayıyı range() kullanarak yazdır\n",
    "for number in range(1, 11, 1):\n",
    "    print(number)"
   ]
  },
  {
   "cell_type": "code",
   "execution_count": null,
   "metadata": {},
   "outputs": [],
   "source": [
    "# 10'dan 1'e kadar sayıları yazdır\n",
    "for number in range(11, 1, -1):\n",
    "    print(number)"
   ]
  },
  {
   "cell_type": "code",
   "execution_count": null,
   "metadata": {},
   "outputs": [],
   "source": [
    "# 1'den 10'a kadar sayıların toplamını hesapla\n",
    "sum = 0\n",
    "for number in range(11):\n",
    "    sum = sum + number\n",
    "\n",
    "print(\"Total: \", sum )"
   ]
  },
  {
   "cell_type": "code",
   "execution_count": null,
   "metadata": {},
   "outputs": [],
   "source": [
    "# 1'den 10'a kadar tüm ÇİFT sayıların toplamı (1)\n",
    "total_even_numbers = 0          # total_çift_sayılar\n",
    "for number in range(11):\n",
    "    if number % 2 == 0:\n",
    "        total_even_numbers = total_even_numbers + number\n",
    "\n",
    "print(\"Total: \", total_even_numbers )"
   ]
  },
  {
   "cell_type": "code",
   "execution_count": null,
   "metadata": {},
   "outputs": [],
   "source": [
    "# 1'den 10'a kadar tüm ÇİFT sayıların toplamı (2)\n",
    "total_even_numbers = 0\n",
    "for number in range(2, 11, 2):\n",
    "    total_even_numbers = total_even_numbers + number\n",
    "\n",
    "print(total_even_numbers)"
   ]
  },
  {
   "attachments": {},
   "cell_type": "markdown",
   "metadata": {},
   "source": [
    "# Quiz\n",
    "1'den 10'a kadar tüm TEK sayıların toplamını yazdırın "
   ]
  },
  {
   "cell_type": "code",
   "execution_count": null,
   "metadata": {},
   "outputs": [],
   "source": [
    "total_odd_numbers = 0           # total_tek_sayılar\n",
    "for number in range(1, 11, 2):\n",
    "    total_odd_numbers = total_odd_numbers + number\n",
    "\n",
    "print(total_even_numbers)"
   ]
  },
  {
   "attachments": {},
   "cell_type": "markdown",
   "metadata": {},
   "source": [
    "# Break (kır) ifadesi\n",
    "Break ifadesi döngüyü sonlandırmak için kullanılır. Döngüyü durdurmak istediğinizde break ifadesini kullanabilirsiniz.\n",
    "\n",
    "Break ifadesi ile karşılaşıldığında Python mevcut döngüyü durdurur ve kontrol akışı döngünün hemen ardından aşağıdaki kod satırına aktarılır."
   ]
  },
  {
   "cell_type": "code",
   "execution_count": null,
   "metadata": {},
   "outputs": [],
   "source": [
    "control_number = int(input(\"Kontrol sayısını girin (1..10)\"))\n",
    "for number in range(11):\n",
    "    if number == control_number:\n",
    "        print(\"Döngüden çıkılıyor...\")\n",
    "        break\n",
    "        print(\"Bu ifade hiçbir zaman çalıştırılmaz\")\n",
    "    else:\n",
    "        print(number)\n",
    "\n",
    "print(\"Döndüden sonraki ilk ifade\")"
   ]
  },
  {
   "attachments": {},
   "cell_type": "markdown",
   "metadata": {},
   "source": [
    "# Continue *(devam)* ifadesi\n",
    "Continue ifadesi, bir döngünün şu anki yinelemesini atlar ve hemen bir sonraki yinelemeye geçer.\n",
    "\n",
    "Döngünün bir sonraki yinelemesine hemen atlamak istediğinizde devam deyimini kullanın. Basitçe, interpreter (yorumlayıcı) döngü içinde continue ifadesini bulduğunda, kalan kodu atlar ve bir sonraki yinelemeye geçer.\n",
    "\n",
    "Continue ifadesi, yalnızca şu anki yineleme için döngüdeki bir kod bloğunu atlar. Döngüyü sonlandırmaz, ancak belirtilen kod bloğunu yok sayarak bir sonraki yinelemede devam eder. Continue ifadesinin kullanımını bir örnekle görelim."
   ]
  },
  {
   "cell_type": "code",
   "execution_count": null,
   "metadata": {},
   "outputs": [],
   "source": [
    "control_number = int(input(\"Kontrol sayısını girin (1..10)\"))\n",
    "for number in range(11):\n",
    "    if number == control_number:\n",
    "        print(\"Döngüden bir sonraki iterasyonuna geçiliyor...\")\n",
    "        continue\n",
    "        print(\"Bu ifade hiçbir zaman çalıştırılmaz\")\n",
    "    else:\n",
    "        print(number)\n",
    "\n",
    "print(\"Döndüden sonraki ilk ifade\")"
   ]
  },
  {
   "attachments": {},
   "cell_type": "markdown",
   "metadata": {},
   "source": [
    "# While Döngüsü\n",
    "Python While Loop belirli bir koşul sağlanana kadar bir ifade bloğunu tekrar tekrar yürütmek için kullanılır. Koşul yanlış olduğunda ise programdaki döngüden hemen sonraki satır çalıştırılır.\n",
    "While döngüsü belirsiz yineleme kategorisine girer. Belirsiz yineleme, döngünün yürütülme sayısının önceden açıkça belirtilmediği anlamına gelir.\n",
    "\n",
    "Syntax:\n",
    "\n",
    "while statement:    \n",
    "    &emsp;&emsp; statements(s)\n",
    "\n",
    "statement - ifade\n",
    "\n",
    "\n",
    "While ifadesi, while anahtar sözcüğüyle başlar, ardından bir koşul gelir ve sonunda iki nokta üst üste gelir. While ifadesinden sonra, while döngüsünün bloğu başlar. Girinti düzeyine sahip bir grup ifade içerir. Bir bloktaki bu ifadelere python'da ifadeler takımı da denir."
   ]
  },
  {
   "attachments": {},
   "cell_type": "markdown",
   "metadata": {},
   "source": [
    "# Örnek 1\n",
    "1'den 10'a kadar sayıların toplamını hesaplayın."
   ]
  },
  {
   "cell_type": "code",
   "execution_count": 3,
   "metadata": {},
   "outputs": [
    {
     "name": "stdout",
     "output_type": "stream",
     "text": [
      "Total:  55\n"
     ]
    }
   ],
   "source": [
    "total = 0\n",
    "number = 1                      # sayı\n",
    "while number <= 10:\n",
    "    total = total + number\n",
    "    number = number + 1 \n",
    "print(\"Total: \", total )"
   ]
  },
  {
   "attachments": {},
   "cell_type": "markdown",
   "metadata": {},
   "source": [
    "# Quiz\n",
    "Aşağıdaki Python kodunun çıktısı ne olacaktır?"
   ]
  },
  {
   "cell_type": "code",
   "execution_count": null,
   "metadata": {},
   "outputs": [],
   "source": [
    "i = 1\n",
    "while True:\n",
    "    if i%3 == 0:\n",
    "        break\n",
    "    print(i)\n",
    " \n",
    "    i += 1"
   ]
  },
  {
   "attachments": {},
   "cell_type": "markdown",
   "metadata": {},
   "source": [
    "# Örnek - 2\n",
    "1'den 10'a kadar çift sayıların toplamını hesaplayın."
   ]
  },
  {
   "cell_type": "code",
   "execution_count": 4,
   "metadata": {},
   "outputs": [
    {
     "name": "stdout",
     "output_type": "stream",
     "text": [
      "Total:  30\n"
     ]
    }
   ],
   "source": [
    "total_even_numbers = 0          # çift sayıların toplamı\n",
    "number = 1\n",
    "while number <= 10:\n",
    "    if number % 2 == 0:\n",
    "        total_even_numbers = total_even_numbers + number\n",
    "    number = number + 1 \n",
    "print(\"Total: \", total_even_numbers )"
   ]
  },
  {
   "attachments": {},
   "cell_type": "markdown",
   "metadata": {},
   "source": [
    "# Örnek - 3\n",
    "1'den 10'a kadar çift ve tek sayıların toplamını hesaplayın."
   ]
  },
  {
   "cell_type": "code",
   "execution_count": 1,
   "metadata": {},
   "outputs": [
    {
     "name": "stdout",
     "output_type": "stream",
     "text": [
      "Çift sayıların toplamı:  30\n",
      "Tek sayıların toplamı  25\n"
     ]
    }
   ],
   "source": [
    "total_even_numbers = 0              # çift sayıların toplamı\n",
    "total_odd_numbers = 0               # tek sayıların toplamı\n",
    "number = 1\n",
    "while number <= 10:\n",
    "    if number % 2 == 0:\n",
    "        total_even_numbers = total_even_numbers + number\n",
    "    else:\n",
    "        total_odd_numbers = total_odd_numbers + number \n",
    "    number = number + 1 \n",
    "\n",
    "print(\"Çift sayıların toplamı: \", total_even_numbers )\n",
    "print(\"Tek sayıların toplamı \", total_odd_numbers )\n"
   ]
  },
  {
   "attachments": {},
   "cell_type": "markdown",
   "metadata": {},
   "source": [
    "# While Döngüsü - Sentinel Kontrollü Bildirim\n",
    "While döngüsü herhangi bir sayaç değişkeni kullanmaz çünkü döngünün kaç kez çalışacağı belirli değildir. Burada kullanıcı döngüyü kaç kez yürütmek istediğine karar verir. Bunun için bir koruyucu değer kullanılır. Koruyucu değer,  kullanıcı döngüye her girişinde döngüyü sonlandırmak için kullanılan bir değerdir, genellikle koruyucu değer -1'dir."
   ]
  },
  {
   "attachments": {},
   "cell_type": "markdown",
   "metadata": {},
   "source": [
    "# Örnek - 4\n",
    "Bu alıştırmada, kullanıcı tarafından girilen bir değer koleksiyonunun toplamını hesaplayan bir program oluşturacaksınız. Kullanıcı, daha fazla değer sağlanmayacağını belirtmek için koruyucu değer olarak -1'i girecektir. "
   ]
  },
  {
   "cell_type": "code",
   "execution_count": null,
   "metadata": {},
   "outputs": [],
   "source": [
    "# Versiyon 1\n",
    "sum = 0                                                     # toplam\n",
    "value = int(input('Bir sayı girin (çıkmak için -1): '))     # değer\n",
    "  \n",
    "while value != -1:\n",
    "    sum = sum + value\n",
    "    value = int(input('Bir sayı girin (çıkmak için -1): '))\n",
    "print(\"Toplam: \", sum)"
   ]
  },
  {
   "cell_type": "code",
   "execution_count": null,
   "metadata": {},
   "outputs": [],
   "source": [
    "# Versiyon 2\n",
    "sum = 0\n",
    "\n",
    "interrupted = False\t\t\t\t# kesintiye uğradı\n",
    "while not interrupted:\n",
    "\tvalue = int(input('Bir sayı girin (çıkmak için -1): '))\n",
    "\tif value != -1:\n",
    "\t\tsum += value\n",
    "\telse:\n",
    "\t\tinterrupted = True \n",
    "\t\t\n",
    "print(\"Toplam: \", sum)"
   ]
  },
  {
   "attachments": {},
   "cell_type": "markdown",
   "metadata": {},
   "source": [
    "# Örnek - 5\n",
    "Bu alıştırmada, kullanıcı tarafından girilen bir değerler koleksiyonunun ortalamasını hesaplayan bir program oluşturacaksınız. Kullanıcı, daha fazla değer sağlanmayacağını belirtmek için koruyucu değer olarak 0 girecektir."
   ]
  },
  {
   "cell_type": "code",
   "execution_count": null,
   "metadata": {},
   "outputs": [],
   "source": [
    "sum = 0\n",
    "number_of_entered_value = 0\t\t# girilen sayıların miktarı\n",
    "\n",
    "interrupted = False\n",
    "while not interrupted:\n",
    "\tvalue = int(input('Bir sayı girin (çıkmak için 0): '))\n",
    "\tif value != 0:\n",
    "\t\tsum += value\n",
    "\t\tnumber_of_entered_value += 1\n",
    "\telse:\n",
    "\t\tinterrupted = True \n",
    "\t\t\n",
    "avg = sum / number_of_entered_value \n",
    "print(\"The average is {}.\".format(avg))"
   ]
  },
  {
   "attachments": {},
   "cell_type": "markdown",
   "metadata": {},
   "source": [
    "# Sorular"
   ]
  },
  {
   "attachments": {},
   "cell_type": "markdown",
   "metadata": {},
   "source": [
    "1. M'den N'ye kadar olan tam sayıların toplamını hesaplayan bir program geliştiriniz."
   ]
  },
  {
   "attachments": {},
   "cell_type": "markdown",
   "metadata": {},
   "source": [
    "### Analiz\n",
    "Programın M'den N'ye kadar tüm sayıları toplamını hesaplaması gerekiyor. M ve N'nin değerini kullanıcıdan alınınır.\n",
    "\n",
    "for(M; M<=N; M++){ \\\n",
    "&emsp;&emsp;toplam =toplam+M; \\\n",
    "} \n"
   ]
  },
  {
   "attachments": {},
   "cell_type": "markdown",
   "metadata": {},
   "source": [
    "### Tasarım\n",
    "\n",
    "1. Değişkenleri tanımlayın \\\n",
    "toplam (integer)\n",
    "\n",
    "2. Kullanıcıdan girdiler alın. \\\n",
    "N (integer), M (integer)\n",
    "\n",
    "3. Toplamı hesaplamak için for döngüsünü kullanın\n",
    "\n",
    "4. Toplamı çıkartın \\\n",
    "toplam"
   ]
  },
  {
   "cell_type": "code",
   "execution_count": null,
   "metadata": {},
   "outputs": [],
   "source": [
    "# Kod\n",
    "# 1. Değişkenleri tanımlayın & 2. Kullanıcıdan girdileri alın\n",
    "m = int(input('Başlangıç sayısını girin'))\n",
    "n = int(input('Bitiş sayısını girin'))\n",
    " \n",
    "# 3. Toplamı hesaplamak için for döngüsünü kullanın\n",
    "for sayı in range(m+1, n):\n",
    "    toplam = toplam + sayı\n",
    "    \n",
    "# 4. Toplamı çıkartın\n",
    "print('Toplam: ', toplam)"
   ]
  },
  {
   "attachments": {},
   "cell_type": "markdown",
   "metadata": {},
   "source": [
    "2. N'nin faktöriyelini hesaplamak için bir program geliştirin"
   ]
  },
  {
   "attachments": {},
   "cell_type": "markdown",
   "metadata": {},
   "source": [
    "### Analiz\n",
    "Matematikte, negatif olmayan bir n tamsayısının n! ile gösterilen faktöriyeli, n'den küçük veya n'ye eşit tüm pozitif tam sayıların çarpımıdır. Yani kullanıcımız bir faktöriyel girmeli ve for döngüsünün o sayıdan 1 sayısına gitmesi ve tüm sayıların çarpımını hesaplaması gerekiyor.\n",
    "\n",
    "for(int i=1; i<=N; i++){  \\\n",
    "&emsp;&emsp;factorial=factorial*i; \\\n",
    "}\n"
   ]
  },
  {
   "attachments": {},
   "cell_type": "markdown",
   "metadata": {},
   "source": [
    "### Tasarım\n",
    "1. Değişkenleri tanımlayın \\\n",
    "n (integer), factorial (integer)\n",
    "\n",
    "2. Kullanıcıdan girdiler alın  \\\n",
    "N\n",
    "3. Girilen sayının negatif olmadığından emin olun\n",
    "4. Faktöriyeli hesaplamak için for döngüsünü kullanın\n",
    "5. Faktöriyeli  çıkartın\n"
   ]
  },
  {
   "cell_type": "code",
   "execution_count": 1,
   "metadata": {},
   "outputs": [
    {
     "name": "stdout",
     "output_type": "stream",
     "text": [
      "0 !:  1\n"
     ]
    }
   ],
   "source": [
    "# Kod\n",
    "# 1. Değişkenleri tanımlayın & 2. Kullanıcıdan girdileri alın\n",
    "n = int(input(\" N'nin değerini girin \"))    \n",
    "factorial = 1    \n",
    "\n",
    "# 3. Girilen sayının negatif olmadığından emin olun\n",
    "if n < 0:    \n",
    "   print(\" Negatif sayılar için faktöriyel yoktur\")       \n",
    "else: \n",
    "   # 4. Faktöriyeli hesaplamak için for döngüsünü kullanın   \n",
    "   for i in range(1,n+ 1):    \n",
    "       factorial = factorial*i    \n",
    "   # 5. Faktöriyeli  çıkartın\n",
    "   print(n ,\"! : \",factorial)    "
   ]
  },
  {
   "attachments": {},
   "cell_type": "markdown",
   "metadata": {},
   "source": [
    "3. E-oylamayı simüle edecek bir program geliştirin: 3 aday arasından bir komitede bir başkan seçiyorsunuz."
   ]
  },
  {
   "attachments": {},
   "cell_type": "markdown",
   "metadata": {},
   "source": [
    "### Analiz\n",
    "\n",
    "while(oy != -1) {\\\n",
    "&emsp;&emsp;if (oy == 1)\\\n",
    "&emsp;&emsp;&emsp;&emsp;aday_1 += oy;\\\n",
    "&emsp;&emsp;else if (oy == 2)\\\n",
    "&emsp;&emsp;&emsp;&emsp;aday_2 += oy;\\\n",
    "&emsp;&emsp;else if (oy == 3)\\\n",
    "&emsp;&emsp;&emsp;&emsp;aday_3 += oy;\\\n",
    "&emsp;&emsp;else\\\n",
    "&emsp;&emsp;&emsp;&emsp;\"Yanlış girdi, lütfen tekrar deneyin!\"\\\n",
    "}"
   ]
  },
  {
   "attachments": {},
   "cell_type": "markdown",
   "metadata": {},
   "source": [
    "1. Değişkenleri tanımlayın\n",
    "aday_1 (integer), aday_2 (integer), aday_3 (integer)\n",
    "\n",
    "2. Kullanıcıdan girdi alın.\n",
    "oy\n",
    "\n",
    "3. Adayların oylarını hesaplamak için while döngüsünü kullanın\n",
    "\n",
    "4. Adayların oylarını gösterin \n",
    "aday_1 , aday_2 , aday_3"
   ]
  },
  {
   "cell_type": "code",
   "execution_count": null,
   "metadata": {},
   "outputs": [],
   "source": [
    "# Kod\n",
    "# 1. Değişkenleri tanımlayın & 2. Kullanıcıdan girdi alın\n",
    "aday_1 = 0\n",
    "aday_2 = 0\n",
    "aday_3 = 0\n",
    "oy = int(input(\"Lütfen 1, 2 veya 3 numaralı adaylar için oyunuzu girin (iptal etmek için -1): \"))\n",
    "\n",
    "# 3. Adayların oylarını hesaplamak için while döngüsünü kullanın\n",
    "while oy != -1:\n",
    "    if oy == 1:\n",
    "        aday_1 +=1\n",
    "    elif oy == 2:\n",
    "        aday_2 +=1\n",
    "    elif oy == 3:\n",
    "        aday_3 +=1\n",
    "    else:\n",
    "        print(\"Yanlış girdi, lütfen tekrar deneyin!\")\n",
    "\n",
    "# 4. Adayların oylarını gösterin \n",
    "print (\"Aday 1 oy sayısı: \", aday_1)\n",
    "print (\"Aday 2 oy sayısı: \", aday_2)\n",
    "print (\"Aday 3 oy sayısı: \", aday_3)\n"
   ]
  },
  {
   "attachments": {},
   "cell_type": "markdown",
   "metadata": {},
   "source": [
    "4. İçinde bulunulan gün için toplam geliri hesaplayarak alışveriş istatistiklerini hazırlayacak bir program geliştiriniz. Programın, her müşterinin toplam faturasını alması ve siz programı sonlandırmak için koruyucu değeri girene kadar çalışması gerekir."
   ]
  },
  {
   "attachments": {},
   "cell_type": "markdown",
   "metadata": {},
   "source": [
    "### Analiz\n",
    "Kodun en az 1 kere döngüye (while) girmesi gerekir ve while döngüsünün koşulu sağladığı müddetçe çalısmaya devam eder. C++/Java bunun için do while döngüsü kullanır. Pyton'da aynı sonucu elde edebiliriz. \n",
    "\n",
    "***C++***\n",
    "\n",
    "do{\\\n",
    "// bir şey yap\\\n",
    "}\\\n",
    "while(koşul)\n",
    "\n",
    "***Python***\n",
    "\n",
    "while True\\\n",
    "// bir şey yap\\\n",
    "&emsp;&emsp;if koşul:\\\n",
    "&emsp;&emsp;&emsp;&emsp;break\n",
    "\n"
   ]
  },
  {
   "attachments": {},
   "cell_type": "markdown",
   "metadata": {},
   "source": [
    "### Tasarım\n",
    "1. Değişkenleri tanımlayın\\\n",
    "customer (integer) - müşteri, totalIncome (integer), bill (integer), finish (integer)\n",
    "2. Kullanıcıdan girdileri alın.\\\n",
    "bill\n",
    "3. Toplam geliri hesaplamak için while döngüsünü kullanın\n",
    "4. İstatistiği gösterin\n"
   ]
  },
  {
   "cell_type": "code",
   "execution_count": 6,
   "metadata": {},
   "outputs": [
    {
     "name": "stdout",
     "output_type": "stream",
     "text": [
      "Müşteri Sayısı: 4\n",
      "Günlük Toplam Kazanç 8\n"
     ]
    }
   ],
   "source": [
    "# Kod\n",
    "\n",
    "# 1. Değişkenleri tanımlayın\\\n",
    "customer = 0 \n",
    "totalIncome = 0 \n",
    "\n",
    "# 3. Toplam geliri hesaplamak için while döngüsünü kullanın & 2. Kullanıcıdan girdileri alın\n",
    "while True:\n",
    "        bill = int(input('Sıradaki  müşteri için fatura giriniz (sonlandırmak için -1)'))\n",
    "        totalIncome += bill\n",
    "        customer+=1\n",
    "        if bill == -1:\n",
    "            break\n",
    "\n",
    "# 4. İstatistiği gösterin\n",
    "print('Müşteri Sayısı:', customer)\n",
    "print('Günlük Toplam Kazanç', totalIncome)"
   ]
  },
  {
   "attachments": {},
   "cell_type": "markdown",
   "metadata": {},
   "source": [
    "5. Fibonacci dizisi şu sayılar dizisidir: 0, 1, 1, 2, 3, 5, 8, 13, 21, 34, ... Bir sonraki sayı, kendisinden önceki iki sayının toplanmasıyla bulunur. Verilen dizi sayısına göre sıradaki Fibonacci sayısını hesaplayan bir program geliştiriniz."
   ]
  },
  {
   "attachments": {},
   "cell_type": "markdown",
   "metadata": {},
   "source": [
    "### Analiz \n",
    "Dizide ilk iki sayı her zaman 0 ve 1 olacaktır. Üçüncü sayı ilk ikisinin toplamıdır. Bu yüzden programımızın dizideki üçüncü sayıyı hesaplaması gerekiyor. Üçüncü sayıyı aldığımızda, ikinci sayının değerini birinci değişkene, üçüncü sayının değerini ikinci değişkene atamamız gerekir.\n",
    "\n"
   ]
  },
  {
   "attachments": {},
   "cell_type": "markdown",
   "metadata": {},
   "source": [
    "### Tasarım\n",
    "1. Değişkenleri tanımlayın\n",
    "a (integer), b (integer), N (integer), nextFib (integer)\n",
    "\n",
    "2. Kullanıcıdan girdileri alın.\n",
    "a,b,N\n",
    "3. Fibonacci dizisini hesaplamak için bir döngü kullanın\n",
    "\n",
    "4. Dizideki bir sonraki sayıyı çıkartın\n",
    "\n",
    "\tfor(int i = 0; i<N; i++)\n",
    "    \t{\n",
    "        \t\tif(i==0)\n",
    "            \t\t\tnext = 0;\n",
    "        \t\telse if(i == 1)\n",
    "            \t\t\tnext  = 1;\n",
    "        \t\telse\n",
    "            \t\t\tnext = a+b;\n",
    "        \t\ta=b;\n",
    "        \t\tb=next;"
   ]
  },
  {
   "cell_type": "code",
   "execution_count": null,
   "metadata": {},
   "outputs": [],
   "source": [
    "# 1. Değişkenleri tanımlayın & 2. Kullanıcıdan girdileri alın\n",
    "a = 0\n",
    "b = 1 \n",
    "n = int(input(\"Dizi sayısını girin: \"))\n",
    "\n",
    "# 3. Fibonacci dizisini hesaplamak için bir döngü kullanın\n",
    "for num in range(n+1):\n",
    "    if num == 0:\n",
    "        nextFib = 0\n",
    "    elif num == 1:\n",
    "        nextFib = 1\n",
    "    else:\n",
    "        nextFib = a+b\n",
    "    a = b\n",
    "    b = nextFib\n",
    "\n",
    "# 4. Dizideki bir sonraki sayıyı çıkartın\n",
    "print(\"Sıradaki: \", nextFib)\n"
   ]
  }
 ],
 "metadata": {
  "kernelspec": {
   "display_name": "Python 3",
   "language": "python",
   "name": "python3"
  },
  "language_info": {
   "codemirror_mode": {
    "name": "ipython",
    "version": 3
   },
   "file_extension": ".py",
   "mimetype": "text/x-python",
   "name": "python",
   "nbconvert_exporter": "python",
   "pygments_lexer": "ipython3",
   "version": "3.11.1"
  },
  "orig_nbformat": 4,
  "vscode": {
   "interpreter": {
    "hash": "5c7b89af1651d0b8571dde13640ecdccf7d5a6204171d6ab33e7c296e100e08a"
   }
  }
 },
 "nbformat": 4,
 "nbformat_minor": 2
}
