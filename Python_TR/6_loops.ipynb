{
 "cells": [
  {
   "attachments": {},
   "cell_type": "markdown",
   "metadata": {},
   "source": [
    "# Döngüler (Loops)\n",
    "Bir döngü ifadesi, bir ifadeyi veya ifadeler grubunu birden çok kez yürütmemize izin verir. Aşağıdaki şemada bir döngü ifadesi gösterilmektedir.\n",
    "\n",
    "Conditional Code - Koşullu Kod, Condition - Koşul"
   ]
  },
  {
   "attachments": {},
   "cell_type": "markdown",
   "metadata": {},
   "source": [
    "![for loop](../Images/for_loop.png)"
   ]
  },
  {
   "attachments": {},
   "cell_type": "markdown",
   "metadata": {},
   "source": [
    "Python programlama dili, döngü gereksinimlerini karşılamak için aşağıdaki döngü türlerini sağlar.\n",
    "\n",
    "for döngüsü:\\\n",
    "     Bir dizi ifadeyi birden çok kez yürütür ve döngü değişkenini yöneten kodu kısaltır.\n",
    "\n",
    "while döngüsü:\\\n",
    "     Belirli bir koşul DOĞRU iken bir ifadeyi veya ifadeler grubunu tekrarlar. Döngü gövdesini yürütmeden önce durumu test eder.\n",
    "     \n",
    "İç içe geçmiş (nested) döngüler: \\\n",
    "     Herhangi bir while, for veya do..while döngüsünün içinde bir veya daha fazla döngü kullanabilirsiniz."
   ]
  },
  {
   "attachments": {},
   "cell_type": "markdown",
   "metadata": {},
   "source": [
    "# While Döngüsü\n",
    "Python While Loop belirli bir koşul sağlanana kadar bir ifade bloğunu tekrar tekrar yürütmek için kullanılır. Koşul yanlış olduğunda ise programdaki döngüden hemen sonraki satır çalıştırılır.\n",
    "While döngüsü belirsiz yineleme kategorisine girer. Belirsiz yineleme, döngünün yürütülme sayısının önceden açıkça belirtilmediği anlamına gelir.\n",
    "\n",
    "Syntax:\n",
    "\n",
    "while statement:    \n",
    "     statements(s)\n",
    "\n",
    "statement - ifade\n",
    "\n",
    "\n",
    "While ifadesi, while anahtar sözcüğüyle başlar, ardından bir koşul gelir ve sonunda iki nokta üst üste gelir. While ifadesinden sonra, while döngüsünün bloğu başlar. Girinti düzeyine sahip bir grup ifade içerir. Bir bloktaki bu ifadelere python'da ifadeler takımı da denir."
   ]
  },
  {
   "attachments": {},
   "cell_type": "markdown",
   "metadata": {},
   "source": [
    "# Örnek 1\n",
    "1'den 10'a kadar sayıların toplamını hesaplayın."
   ]
  },
  {
   "cell_type": "code",
   "execution_count": 3,
   "metadata": {},
   "outputs": [
    {
     "name": "stdout",
     "output_type": "stream",
     "text": [
      "Total:  55\n"
     ]
    }
   ],
   "source": [
    "total = 0\n",
    "number = 1                      # sayı\n",
    "while number <= 10:\n",
    "    total = total + number\n",
    "    number = number + 1 \n",
    "print(\"Total: \", total )"
   ]
  },
  {
   "attachments": {},
   "cell_type": "markdown",
   "metadata": {},
   "source": [
    "# Örnek - 2\n",
    "1'den 10'a kadar çift sayıların toplamını hesaplayın."
   ]
  },
  {
   "cell_type": "code",
   "execution_count": 4,
   "metadata": {},
   "outputs": [
    {
     "name": "stdout",
     "output_type": "stream",
     "text": [
      "Total:  30\n"
     ]
    }
   ],
   "source": [
    "total_even_numbers = 0          # çift sayıların toplamı\n",
    "number = 1\n",
    "while number <= 10:\n",
    "    if number % 2 == 0:\n",
    "        total_even_numbers = total_even_numbers + number\n",
    "    number = number + 1 \n",
    "print(\"Total: \", total_even_numbers )"
   ]
  },
  {
   "attachments": {},
   "cell_type": "markdown",
   "metadata": {},
   "source": [
    "# Örnek - 3\n",
    "1'den 10'a kadar çift ve tek sayıların toplamını hesaplayın."
   ]
  },
  {
   "cell_type": "code",
   "execution_count": 1,
   "metadata": {},
   "outputs": [
    {
     "name": "stdout",
     "output_type": "stream",
     "text": [
      "Çift sayıların toplamı:  30\n",
      "Tek sayıların toplamı  25\n"
     ]
    }
   ],
   "source": [
    "total_even_numbers = 0              # çift sayıların toplamı\n",
    "total_odd_numbers = 0               # tek sayıların toplamı\n",
    "number = 1\n",
    "while number <= 10:\n",
    "    if number % 2 == 0:\n",
    "        total_even_numbers = total_even_numbers + number\n",
    "    else:\n",
    "        total_odd_numbers = total_odd_numbers + number \n",
    "    number = number + 1 \n",
    "\n",
    "print(\"Çift sayıların toplamı: \", total_even_numbers )\n",
    "print(\"Tek sayıların toplamı \", total_odd_numbers )\n"
   ]
  },
  {
   "attachments": {},
   "cell_type": "markdown",
   "metadata": {},
   "source": [
    "# While Döngüsü - Sentinel Kontrollü Bildirim\n",
    "While döngüsü herhangi bir sayaç değişkeni kullanmaz çünkü döngünün kaç kez çalışacağı belirli değildir. Burada kullanıcı döngüyü kaç kez yürütmek istediğine karar verir. Bunun için bir koruyucu değer kullanılır. Koruyucu değer,  kullanıcı döngüye her girişinde döngüyü sonlandırmak için kullanılan bir değerdir, genellikle koruyucu değer -1'dir."
   ]
  },
  {
   "attachments": {},
   "cell_type": "markdown",
   "metadata": {},
   "source": [
    "# Örnek - 4\n",
    "Bu alıştırmada, kullanıcı tarafından girilen bir değer koleksiyonunun toplamını hesaplayan bir program oluşturacaksınız. Kullanıcı, daha fazla değer sağlanmayacağını belirtmek için koruyucu değer olarak -1'i girecektir. "
   ]
  },
  {
   "cell_type": "code",
   "execution_count": null,
   "metadata": {},
   "outputs": [],
   "source": [
    "# Versiyon 1\n",
    "sum = 0                                                     # toplam\n",
    "value = int(input('Bir sayı girin (çıkmak için -1): '))     # değer\n",
    "  \n",
    "while value != -1:\n",
    "    sum = sum + value\n",
    "    value = int(input('Bir sayı girin (çıkmak için -1): '))\n",
    "print(\"Toplam: \", sum)"
   ]
  },
  {
   "cell_type": "code",
   "execution_count": null,
   "metadata": {},
   "outputs": [],
   "source": [
    "# Versiyon 2\n",
    "sum = 0\n",
    "\n",
    "interrupted = False\t\t\t\t# kesintiye uğradı\n",
    "while not interrupted:\n",
    "\tvalue = int(input('Bir sayı girin (çıkmak için -1): '))\n",
    "\tif value != -1:\n",
    "\t\tsum += value\n",
    "\telse:\n",
    "\t\tinterrupted = True \n",
    "\t\t\n",
    "print(\"Toplam: \", sum)"
   ]
  },
  {
   "attachments": {},
   "cell_type": "markdown",
   "metadata": {},
   "source": [
    "# Örnek - 5\n",
    "Bu alıştırmada, kullanıcı tarafından girilen bir değerler koleksiyonunun ortalamasını hesaplayan bir program oluşturacaksınız. Kullanıcı, daha fazla değer sağlanmayacağını belirtmek için koruyucu değer olarak 0 girecektir."
   ]
  },
  {
   "cell_type": "code",
   "execution_count": null,
   "metadata": {},
   "outputs": [],
   "source": [
    "sum = 0\n",
    "number_of_entered_value = 0\t\t# girilen sayıların miktarı\n",
    "\n",
    "interrupted = False\n",
    "while not interrupted:\n",
    "\tvalue = int(input('Bir sayı girin (çıkmak için 0): '))\n",
    "\tif value != 0:\n",
    "\t\tsum += value\n",
    "\t\tnumber_of_entered_value += 1\n",
    "\telse:\n",
    "\t\tinterrupted = True \n",
    "\t\t\n",
    "avg = sum / number_of_entered_value \n",
    "print(\"The average is {}.\".format(avg))"
   ]
  }
 ],
 "metadata": {
  "kernelspec": {
   "display_name": "Python 3.8.9 64-bit",
   "language": "python",
   "name": "python3"
  },
  "language_info": {
   "codemirror_mode": {
    "name": "ipython",
    "version": 3
   },
   "file_extension": ".py",
   "mimetype": "text/x-python",
   "name": "python",
   "nbconvert_exporter": "python",
   "pygments_lexer": "ipython3",
   "version": "3.8.9"
  },
  "orig_nbformat": 4,
  "vscode": {
   "interpreter": {
    "hash": "31f2aee4e71d21fbe5cf8b01ff0e069b9275f58929596ceb00d14d90e3e16cd6"
   }
  }
 },
 "nbformat": 4,
 "nbformat_minor": 2
}
