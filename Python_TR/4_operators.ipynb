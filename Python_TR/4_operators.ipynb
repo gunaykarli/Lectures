{
 "cells": [
  {
   "attachments": {},
   "cell_type": "markdown",
   "metadata": {},
   "source": [
    "# Python Operatörleri\n",
    "Python operatörleri, işlenenlerin değerini değiştirebilen yapılardır. Bunlar mantıksal, aritmetik ve diğer çeşitli işlemler amacıyla kullanılan sembollerdir.\\\n",
    "4 + 5 = 9 ifadesini ele alalım. Burada 4 ve 5'e işlenenler *(operands)*, +'ya da operatör *(operator)* denir. Bu eğitimde, farklı Python operatörleri türlerini inceleyeceğiz.\n",
    "\n",
    "Python Operatör Türleri\n",
    "Python dili aşağıdaki operatör türlerini destekler.\n",
    "* Aritmetik operatörler\n",
    "* Karşılaştırma (İlişkisel) Operatörler\n",
    "* Atama Operatörleri\n",
    "* Mantıksal operatörler\n",
    "* Bitsel Operatörler\n",
    "* Üyelik Operatörleri\n",
    "* Kimlik Operatörleri"
   ]
  },
  {
   "attachments": {},
   "cell_type": "markdown",
   "metadata": {},
   "source": [
    "# Python Aritmetik Operatörleri\n",
    "Python aritmetik operatörleri, sayısal değerler üzerinde matematiksel işlemler gerçekleştirmek için kullanılır. Bu işlemler Toplama, Çıkarma, Çarpma, Bölme, Modül, Üsler ve Kat Bölme işlemleridir.\n",
    "\n",
    "- \"+\" Toplama 10 + 20 = 30\n",
    "- \"-\" Çıkarma 20 – 10 = 10\n",
    "- \"*\" Çarpma 10 * 20 = 200\n",
    "- \"/\" Bölüm 20 / 10 = 2\n",
    "- \"%\" Modül %22 10 = 2\n",
    "- \"** Üs 4**2 = 16\n",
    "- \"//\"Kat Bölümü 9//2 = 4\n",
    "\n",
    "Note: İşlem önceliği; Parentheses, Exponential, Multiplication, Division, Addition, Subtraction"
   ]
  },
  {
   "cell_type": "code",
   "execution_count": null,
   "metadata": {},
   "outputs": [],
   "source": [
    "a = 21\n",
    "b = 10\n",
    "\n",
    "# Toplama\n",
    "print (\"a + b : \", a + b)\n",
    "\n",
    "# Çıkarma\n",
    "print (\"a - b : \", a - b)\n",
    "\n",
    "# Çarpma\n",
    "print (\"a * b : \", a * b)\n",
    "\n",
    "# Bölme\n",
    "print (\"a / b : \", a / b)\n",
    "\n",
    "# Modül\n",
    "print (\"a % b : \", a % b)\n",
    "\n",
    "# Üs\n",
    "print (\"a ** b : \", a ** b)\n",
    "\n",
    "# Kat Bölümü\n",
    "print (\"a // b : \", a // b)"
   ]
  },
  {
   "attachments": {},
   "cell_type": "markdown",
   "metadata": {},
   "source": [
    "# Python Karşılaştırma Operatörleri\n",
    "Python karşılaştırma operatörleri, her iki taraftaki değerleri karşılaştırır ve aralarındaki ilişkiye karar verir. İlişkisel operatörler olarak da adlandırılırlar. Bu operatörler eşittir, eşit değildir, büyüktür, küçüktür, büyüktür veya eşittir ve küçüktür veya eşittir.\n",
    "\n",
    "\n",
    "- \"==\" Eşittir | 4 == 5 doğru değil.\n",
    "- \"!=\" Eşit Değildir | 4 != 5 doğrudur.\n",
    "- \">\" Büyüktür | 4 > 5  doğru değil.\n",
    "- \"<\" Küçüktür | 4 < 5  doğrudur.\n",
    "- \">=\" Büyüktür veya Eşittir | 4 >= 5 doğru değil.\n",
    "- \"<=\" Küçüktür veya Eşittir | 4 <= 5 doğrudur."
   ]
  },
  {
   "cell_type": "code",
   "execution_count": null,
   "metadata": {},
   "outputs": [],
   "source": [
    "a = 4\n",
    "b = 5\n",
    "\n",
    "# Eşittir\n",
    "print (\"a == b : \", a == b)\n",
    "\n",
    "# Eşit değildir\n",
    "print (\"a != b : \", a != b)\n",
    "\n",
    "# Büyüktür\n",
    "print (\"a > b : \", a > b)\n",
    "\n",
    "# Küçüktür\n",
    "print (\"a < b : \", a < b)\n",
    "\n",
    "# Büyüktür veya eşittir\n",
    "print (\"a >= b : \", a >= b)\n",
    "\n",
    "# Küçüktür veya eşittir\n",
    "print (\"a <= b : \", a <= b)"
   ]
  },
  {
   "attachments": {},
   "cell_type": "markdown",
   "metadata": {},
   "source": [
    "# Python Atama Operatörleri\n",
    "Değişkenlere değer atamak için Python atama operatör kullanılır. Bu operatörler, basit atama operatörü, toplama atama, çıkarma atama, çarpma atama, bölme ve atama operatörleri vb. içerir.\n",
    "\n",
    "- \"=\" Atama Operatörü | a = 10\n",
    "- \"+=\" Ek Ataması | a += 5 (a = a + 5 ile aynı)\n",
    "- \"-=\" Çıkarma Ataması | a -= 5 (a = a - 5 ile aynı)\n",
    "- \"*=\" Çarpma Ataması | a *= 5 (a = a * 5 ile aynı)\n",
    "- \"/=\" Bölüm Ataması | a /= 5 (a = a / 5 ile aynı)\n",
    "- \"%=\" Kalan Atama | a %= 5 (a = a % 5 ile aynı)\n",
    "- \"**=\" Üs Ataması | a **= 2 (a = a ** 2 ile aynı)\n",
    "- \"//=\" Kat Bölme Ataması | a //= 3 (a = a // 3 ile aynı)"
   ]
  },
  {
   "cell_type": "code",
   "execution_count": null,
   "metadata": {},
   "outputs": [],
   "source": [
    "# Atama operatörü\n",
    "a = 10\n",
    "print (\"a : \", a)\n",
    "\n",
    "# Ek ataması\n",
    "a += 5\n",
    "print (\"a += 5 : \", a)\n",
    "\n",
    "# Çıkarma ataması\n",
    "a -= 5\n",
    "print (\"a -= 5 : \", a)\n",
    "\n",
    "# Çarpma ataması\n",
    "a *= 5\n",
    "print (\"a *= 5 : \", a)\n",
    "\n",
    "# Bölme ataması\n",
    "a /= 5\n",
    "print (\"a /= 5 : \",a)\n",
    "\n",
    "# Kalan (Modül) atama\n",
    "a %= 3\n",
    "print (\"a %= 3 : \", a)\n",
    "\n",
    "# Üs ataması\n",
    "a **= 2\n",
    "print (\"a **= 2 : \", a)"
   ]
  }
 ],
 "metadata": {
  "kernelspec": {
   "display_name": "Python 3.8.9 64-bit",
   "language": "python",
   "name": "python3"
  },
  "language_info": {
   "codemirror_mode": {
    "name": "ipython",
    "version": 3
   },
   "file_extension": ".py",
   "mimetype": "text/x-python",
   "name": "python",
   "nbconvert_exporter": "python",
   "pygments_lexer": "ipython3",
   "version": "3.8.9"
  },
  "orig_nbformat": 4,
  "vscode": {
   "interpreter": {
    "hash": "31f2aee4e71d21fbe5cf8b01ff0e069b9275f58929596ceb00d14d90e3e16cd6"
   }
  }
 },
 "nbformat": 4,
 "nbformat_minor": 2
}
