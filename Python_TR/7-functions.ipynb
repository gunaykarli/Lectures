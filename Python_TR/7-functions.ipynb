{
 "cells": [
  {
   "attachments": {},
   "cell_type": "markdown",
   "metadata": {},
   "source": [
    "# Python Functions (Fonksiyonlar)\n",
    "Python'da foksiyon, bir adla tanımlanan bir kod bloğudur. Aynı kodu tekrar yazmadan aynı görevi birden çok kez gerçekleştirmemiz gerektiğinde işlevleri kullanırız. Argüman alabilir ve değeri döndürür.\n",
    "\n",
    "Python'un diğer programlama dilleri gibi bir DRY ilkesi vardır. DRY, Kendini Tekrarlama anlamına gelir. Bazı eylemleri/görevleri birçok kez yapmamız gereken bir senaryo düşünün. Bir işlevi kullanarak o eylemi yalnızca bir kez tanımlayabilir ve aynı etkinliği yapmak için gerektiğinde o foksiyonu çağırabiliriz.\n",
    "\n",
    "Foksiyonlar, bir kodun yeniden kullanılabilirliği nedeniyle verimliliği artırır ve hataları azaltır. Bir fonksiyon oluşturduğumuzda, onu her yerde ve her zaman çağırabiliriz. Bir işlevi kullanmanın yararı, yeniden kullanılabilirlik ve modülerliktir."
   ]
  },
  {
   "attachments": {},
   "cell_type": "markdown",
   "metadata": {},
   "source": [
    "# Fonsiyon Türleri\n",
    "Python iki tür işlevi destekler\n",
    "\n",
    "- Yerleşik (built-in) fonksiyon \n",
    "- Kullanıcı tanımlı (user-defined) fonksiyon\n",
    "\n",
    "**Yerleşik fonksiyon**\n",
    "Python'un kendisiyle birlikte gelen işlevlere yerleşik fonksiyon veya önceden tanımlanmış fonksiyon denir. Bunlardan bazıları aşağıda listelenmiştir.\n",
    "range(), input(), type() vb.\n",
    "\n",
    "**Kullanıcı tanımlı fonksiyon**\n",
    "Programcı tarafından açıkça ihtiyaca göre oluşturulan fonksiyonlara kullanıcı tanımlı fonksiyon denir."
   ]
  },
  {
   "attachments": {},
   "cell_type": "markdown",
   "metadata": {},
   "source": [
    "# Bir işlev tanımlama\n",
    "Python'da bir işlev tanımlamak için aşağıdaki adımları kullanın.\n",
    "\n",
    "Bir fonksiyonu tanımlamak için \"function_name\" ile \"def\" anahtar kelimesini kullanın.\n",
    "Ardından, gereksiniminize göre \"parametre\" sayısını iletin. (İsteğe bağlı).\n",
    "Ardından, bir kod bloğu ile \"işlev gövdesini\" tanımlayın. Bu kod bloğu, gerçekleştirmek istediğiniz eylemden başka bir şey değildir.\n",
    "Python'da işlev gövdesi için kaşlı ayraçlar belirtmeye gerek yoktur. Tek girinti, kod bloklarını ayırmak için gereklidir. Aksi takdirde, bir hata alırsınız.\n",
    "\n",
    "def function_name(parameter1, parameter2): \\\n",
    "    &emsp;&emsp;   # fonksiyon gövdesi    \\\n",
    "   &emsp;&emsp;    # işlemler \\\n",
    "return value \n",
    "&emsp;&emsp;"
   ]
  },
  {
   "attachments": {},
   "cell_type": "markdown",
   "metadata": {},
   "source": [
    "function_name: İşlev adı, işlevin adıdır. İşleve herhangi bir isim verebiliriz.\n",
    "parameter: Parametre, işleve iletilen değerdir. Herhangi bir sayıda parametreyi geçebiliriz. Fonksiyon gövdesi, bir eylemi gerçekleştirmek için parametrenin değerini kullanır\n",
    "function_body: Fonksiyon gövdesi, bazı görevleri yerine getiren bir kod bloğudur. Bu kod bloğu, gerçekleştirmek istediğiniz eylemden başka bir şey değildir.\n",
    "return value: Dönen değer, fonksiyonun çıktısıdır."
   ]
  },
  {
   "attachments": {},
   "cell_type": "markdown",
   "metadata": {},
   "source": [
    "# Örnek\n",
    "fonksiyon kullanarak tek veya çift sayı ayrımı"
   ]
  },
  {
   "cell_type": "code",
   "execution_count": 1,
   "metadata": {},
   "outputs": [
    {
     "name": "stdout",
     "output_type": "stream",
     "text": [
      "7 is an ODD number\n"
     ]
    }
   ],
   "source": [
    "# fonksiyon tanımı\n",
    "def even_odd(number):\n",
    "    # sayı çift mi? (if), değilse tek (else)\n",
    "    if number % 2 == 0:\n",
    "        print(number, 'ÇİFT sayıdır')\n",
    "    else:\n",
    "        print(number, 'TEK sayıdır')\n",
    "\n",
    "\n",
    "# kullanıcıdan sayı al\n",
    "test_number = int(input(\"Test sayısı girin \"))\n",
    "# işlevi adıyla çağır\n",
    "even_odd(test_number)"
   ]
  },
  {
   "attachments": {},
   "cell_type": "markdown",
   "metadata": {},
   "source": [
    "# Örnek\n",
    "fonksiyon kullanarak iki sayının toplamını hesaplar"
   ]
  },
  {
   "cell_type": "code",
   "execution_count": 5,
   "metadata": {},
   "outputs": [
    {
     "name": "stdout",
     "output_type": "stream",
     "text": [
      "4  +  6  =  10\n"
     ]
    }
   ],
   "source": [
    "# fonksiyon tanımı\n",
    "def sum(a, b):\n",
    "    result = a + b              # sonuç\n",
    "    # toplama sonucunun değerini döndür\n",
    "    return result\n",
    "\n",
    "# sayıları kullanıcıdan al\n",
    "number1 = int(input(\"İlk sayıyı girin: \"))\n",
    "number2 = int(input(\"İkinci sayıyı girin: \"))\n",
    "\n",
    "# sum fonksiyonunu, sayı argümaları ile çağır\n",
    "result_sum = sum(number1, number2)\n",
    "\n",
    "print(number1, \" + \", number2, \" = \", result_sum)"
   ]
  },
  {
   "attachments": {},
   "cell_type": "markdown",
   "metadata": {},
   "source": [
    "# Değişkenlerin Kapsamı ve Ömrü\n",
    "Değişkenli bir fonksiyon tanımladığımızda, o değişkenlerin kapsamı o fonksiyonla sınırlıdır. Python'da, bir değişkenin kapsamı, bir değişkenin bildirildiği bir alandır. Değişkenin yerel kapsamı olarak adlandırılır.\n",
    "\n",
    "Yerel değişkenlere fonksiyonun dışından erişemiyoruz. Kapsam yerel olduğundan, bu değişkenler işlevin dışından görünmez.\n",
    "\n",
    "Bir fonksiyonu yürütürken, değişkenlerin ömrü çalışma süresi kadardır. Fonksiyondan döndüğümüzde, bu değişkenler yok edilir. Bu nedenle, işlevin bir değişkenin değerini önceki çağrısından hatırlamasına gerek yoktur."
   ]
  },
  {
   "cell_type": "code",
   "execution_count": null,
   "metadata": {},
   "outputs": [],
   "source": [
    "def function1():\n",
    "    # lokal değer\n",
    "    number = 888\n",
    "    print(\"Sayının değeri:\", number)\n",
    "\n",
    "def function2():\n",
    "    print(\"Sayının değeri:\", number)\n",
    "\n",
    "function1()\n",
    "function2()\n",
    "# print(\"Value of the number is :\", number)"
   ]
  },
  {
   "cell_type": "code",
   "execution_count": 1,
   "metadata": {},
   "outputs": [
    {
     "name": "stdout",
     "output_type": "stream",
     "text": [
      "Sayının değeri: 1\n",
      "Sayının değeri: 2\n"
     ]
    }
   ],
   "source": [
    "def function1():\n",
    "     # lokal değer\n",
    "    number = 1\n",
    "    print(\"Sayının değeri:\", number)\n",
    "\n",
    "def function2():\n",
    "    number = 2\n",
    "    print(\"Sayının değeri:\", number)\n",
    "\n",
    "function1()\n",
    "function2()\n",
    "# print(\"Value of the number is :\", number)"
   ]
  },
  {
   "attachments": {},
   "cell_type": "markdown",
   "metadata": {},
   "source": [
    "# Örnek\n",
    "Üç sayıdan en büyüğünün değerini döndür"
   ]
  },
  {
   "cell_type": "code",
   "execution_count": 10,
   "metadata": {},
   "outputs": [
    {
     "name": "stdout",
     "output_type": "stream",
     "text": [
      "Largest Number:  8\n"
     ]
    }
   ],
   "source": [
    "\n",
    "def get_largest_number(num1, num2, num3):\n",
    "    if num1 > num2 and num1 > num3 :\n",
    "        return num1\n",
    "    elif num2 > num3 :\n",
    "        return num2\n",
    "    else :\n",
    "        return num3\n",
    "\n",
    "\n",
    "def main():\n",
    "    number1 = int(input(\"İlk sayıyı girin: \"))\n",
    "    number2 = int(input(\"İkinci sayıyı girin:\"))\n",
    "    number3 = int(input(\"Üçüncü sayıyı girin: \"))\n",
    "    \n",
    "    # en büyük sayıyı bulmak için fonsiyonu çağır\n",
    "    largestNumber = get_largest_number(number1, number2, number3)   \n",
    "    print(\"En büyük sayı: \", largestNumber)\n",
    "\n",
    "main()"
   ]
  },
  {
   "attachments": {},
   "cell_type": "markdown",
   "metadata": {},
   "source": [
    "# Alıştırma\n",
    "Rastgele bir parola üreten bir işlev yazın. Parola, 7 ile 10 karakter arasında rastgele bir uzunluğa sahip olmalıdır. Her karakter, ASCII tablosundaki 33 ila 126. konumlardan rastgele seçilmelidir. İşleviniz herhangi bir parametre almayacaktır. Rastgele oluşturulmuş şifreyi tek sonucu olarak döndürür. Rastgele oluşturulan parolayı ana programınızda görüntüleyin."
   ]
  },
  {
   "cell_type": "code",
   "execution_count": 11,
   "metadata": {},
   "outputs": [
    {
     "name": "stdout",
     "output_type": "stream",
     "text": [
      "Your random password is:  <3vE[axD__\n"
     ]
    }
   ],
   "source": [
    "\n",
    "import random   # rastgele\n",
    "\n",
    "SHORTEST = 7    # en kısa\n",
    "LONGEST = 10    # en uzun\n",
    "MIN_ASCII = 33  \n",
    "MAX_ASCII = 126\n",
    "\n",
    "def random_password():\n",
    "    random_length = random.randint(SHORTEST, LONGEST)   # rastgele parola uzunluğu\n",
    "    result = ''\n",
    "    for i in range(random_length):\n",
    "        random_char = chr(random.randint(MIN_ASCII, MAX_ASCII))\n",
    "        result += random_char\n",
    "    return result \n",
    "\n",
    "def main(): \n",
    "    print(\"Rastgele parolanız: \", random_password())\n",
    "\n",
    "\n",
    "main()\n",
    "\n"
   ]
  },
  {
   "attachments": {},
   "cell_type": "markdown",
   "metadata": {},
   "source": [
    "# Alıştırma\n",
    "Bu alıştırmada, bir parolanın iyi olup olmadığını belirleyen bir işlev yazacaksınız. İyi bir şifreyi en az 8 karakter uzunluğunda, en az bir büyük harf, en az bir küçük harf ve en az bir rakam içeren bir şifre olarak tanımlayacağız. Fonksiyonun tek parametresi iyiyse, doğru  ve aksi takdirde false döndürmelidir. Kullanıcıdan bir şifre okuyan ve iyi olup olmadığını bildiren bir ana program ekleyin."
   ]
  },
  {
   "cell_type": "code",
   "execution_count": 14,
   "metadata": {},
   "outputs": [
    {
     "name": "stdout",
     "output_type": "stream",
     "text": [
      "The password is good\n"
     ]
    }
   ],
   "source": [
    "def check_password(password): \n",
    "    has_upper = False        # büyük harf mevcut\n",
    "    has_lower = False        # küçük harf mevcut\n",
    "    has_num = False          # sayı mevcut\n",
    "    \n",
    "    for ch in password: \n",
    "        if ch >= 'A' and ch <= 'Z': \n",
    "            has_upper = True\n",
    "        elif ch >= 'a' and ch <= 'z': \n",
    "            has_lower = True\n",
    "        elif ch >= '0' and ch <= '9':    \n",
    "            has_num = True\n",
    "    \n",
    "    if len(password) >= 8 and has_upper and has_lower and has_num:\n",
    "        return True\n",
    "    return False\n",
    "\n",
    "def main(): \n",
    "    password = input(\"Parolanızı girin \" )\n",
    "    if check_password(password): \n",
    "        print(\"Parolanız iyi\")\n",
    "    else: \n",
    "        print(\"Parolanız iyi DEĞİL\")\n",
    "\n",
    "main()"
   ]
  }
 ],
 "metadata": {
  "kernelspec": {
   "display_name": "Python 3",
   "language": "python",
   "name": "python3"
  },
  "language_info": {
   "codemirror_mode": {
    "name": "ipython",
    "version": 3
   },
   "file_extension": ".py",
   "mimetype": "text/x-python",
   "name": "python",
   "nbconvert_exporter": "python",
   "pygments_lexer": "ipython3",
   "version": "3.11.1 (main, Dec 23 2022, 09:28:24) [Clang 14.0.0 (clang-1400.0.29.202)]"
  },
  "orig_nbformat": 4,
  "vscode": {
   "interpreter": {
    "hash": "5c7b89af1651d0b8571dde13640ecdccf7d5a6204171d6ab33e7c296e100e08a"
   }
  }
 },
 "nbformat": 4,
 "nbformat_minor": 2
}
