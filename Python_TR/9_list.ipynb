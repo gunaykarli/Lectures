{
 "cells": [
  {
   "attachments": {},
   "cell_type": "markdown",
   "metadata": {},
   "source": [
    "# Python listesi\n",
    "Python Koleksiyonları (Array)\\\n",
    "Python programlama dilinde dört toplama veri türü vardır:\\\n",
    "\n",
    "- List, sıralı ve değişken bir koleksiyondur. Yinelenen üyelere izin verir.\n",
    "- Tuple (demet), sıralı ve değişmez bir koleksiyondur. Yinelenen üyelere izin verir.\n",
    "- Set, sırasız, değiştirilemez* ve indekslenmemiş bir koleksiyondur. Yinelenen üye yoktur.\n",
    "- Dictionary (sözlük) sıralı** ve değişken bir koleksiyondur. Yinelenen üye yoktur."
   ]
  },
  {
   "attachments": {},
   "cell_type": "markdown",
   "metadata": {},
   "source": [
    "# Liste nedir?\n",
    "Liste, Python'da sıralı bir veri yapısıdır. Aynı veya farklı veri türlerinden olabilen bir grup öğe içerebilir.\n",
    "\n",
    "Genellikle listeleri kullandığımız kullanım durumlarından bazıları şunlardır:\n",
    "\n",
    "- Oyundaki aktif oyuncuların listesi.\n",
    "- Alışveriş sepetindeki öğelerin listesi.\n",
    "- Sistemde çalışan işlemlerin listesi.\n",
    "- Sunucu tarafından alınan mesajların listesi.\n",
    "vesaire."
   ]
  },
  {
   "attachments": {},
   "cell_type": "markdown",
   "metadata": {},
   "source": [
    "# Python'da neden listeye ihtiyaç duyarız?\n",
    "Liste, bir grup öğeyi bir arada depolamaya yardımcı olur. Ancak bir set, tuple vb. gibi diğer birçok sıralı veri yapısı da aynı şeyi yapar. O halde neden listelere ihtiyacımız vardır?\n",
    "\n",
    "Listeyi diğer veri türlerinden farklı kılan birçok benzersiz özellik vardır. Python'da en çok kullanılan sıralı veri türlerinden birinin listesini yapar. Bu özellikleri tek tek inceleyelim,\n",
    "\n",
    "- Listeler Dinamiktir\n",
    "Bir liste dinamiktir; bu, ona birden çok öğe ekleyebileceğimiz ve öğeleri güncelleyebileceğimiz veya silebileceğimiz anlamına gelir. Ayrıca, listenin boyutunu önceden tanımlamamıza gerek yoktur. Listeye istediğiniz sayıda öğe ekleyebilirsiniz ve boyutunu dahili olarak dinamik olarak artırabilir.\n",
    "- Listeler sıralanır\n",
    "Listedeki öğeler, onları eklediğiniz sırayla kalır ve öğelerin sırasını dahili olarak değiştirmez.\n",
    "- Listeler Heterojendir\n",
    "Bir liste, farklı veri türlerinin öğelerini içerebilir. Örneğin, tek bir liste nesnesinde tamsayıları, değişkenleri, dizeleri, demetleri, listeleri ve diğer şeyleri de tutabilirsiniz.\n",
    "- Listede kopyalara izin verilir\n",
    "Python'daki bir liste, yinelenen öğeler içerebilir.\n",
    "Dolayısıyla, boyutunu dinamik olarak değiştirebilen, öğeleri düzenli tutabilen ve kopyalar içerebilen heterojen bir veri yapısı aradığınız zaman. O zaman bir liste mükemmel bir seçimdir.\n"
   ]
  },
  {
   "attachments": {},
   "cell_type": "markdown",
   "metadata": {},
   "source": [
    "# Python listesi oluşturma\n",
    "Liste, liste oluşturucu (constructor) kullanılarak veya köşeli parantezler [] kullanılarak oluşturulabilir.\n",
    "\n",
    "- list() oluşturucusunu (constructor) kullanımı: Genel olarak, bir sınıfın kurucusunun kendi sınıf adı vardır. Benzer şekilde list() içindeki virgülle ayrılmış değerleri geçirerek bir liste oluşturun.\n",
    "- Köşeli parantez kullanımı ([]): Bu yöntemde, öğeleri köşeli parantez içine alarak basitçe bir liste oluşturabiliriz."
   ]
  },
  {
   "cell_type": "code",
   "execution_count": 5,
   "metadata": {},
   "outputs": [
    {
     "name": "stdout",
     "output_type": "stream",
     "text": [
      "[1, 2, 3]\n",
      "[1, 2, 3]\n",
      "[1.0, 'Jessa', 3]\n",
      "[]\n",
      "[]\n"
     ]
    }
   ],
   "source": [
    "# list() oluşturucusunu (constructor) kullanımı\n",
    "my_list1 = list((1, 2, 3))\n",
    "print(my_list1)\n",
    "# Output [1, 2, 3]\n",
    "\n",
    "# Köşeli parantez kullanımı ([])\n",
    "my_list2 = [1, 2, 3]\n",
    "print(my_list2)\n",
    "# Output [1, 2, 3]\n",
    "\n",
    "# heterojen öğelerle\n",
    "my_list3 = [1.0, 'Jessa', 3]\n",
    "print(my_list3)\n",
    "# Output [1.0, 'Jessa', 3]\n",
    "\n",
    "# list() kullanarak boş liste\n",
    "my_list4 = list()\n",
    "print(my_list4)\n",
    "# Output []\n",
    "\n",
    "# [] kullanarak boş liste\n",
    "my_list5 = []\n",
    "print(my_list5)\n",
    "# Output []"
   ]
  },
  {
   "attachments": {},
   "cell_type": "markdown",
   "metadata": {},
   "source": [
    "# Listenin Uzunluğu\n",
    "Bir listede bulunan öğelerin sayısını bulmak için len() işlevini kullanabiliriz.(length - uzunluk)"
   ]
  },
  {
   "cell_type": "code",
   "execution_count": null,
   "metadata": {},
   "outputs": [],
   "source": [
    "my_list = [1, 2, 3]\n",
    "print(len(my_list))\n",
    "# output 3"
   ]
  },
  {
   "attachments": {},
   "cell_type": "markdown",
   "metadata": {},
   "source": [
    "# Bir Listenin öğelerine erişme\n",
    "Bir listedeki öğelere indeksleme (indexing) ve dilimleme (slicing) yoluyla erişilebilir. Bu bölüm, aşağıdaki iki yolu kullanarak listeye erişerek size rehberlik edecektir.\n",
    "\n",
    "- İndekslemeyi (indexing) kullanarak, indeks numarasını kullanarak bir listedeki herhangi bir öğeye erişebiliriz.\n",
    "- Dilimlemeyi (slicing) kullanarak, bir listeden bir dizi öğeye erişebiliriz"
   ]
  },
  {
   "attachments": {},
   "cell_type": "markdown",
   "metadata": {},
   "source": [
    "# İndeksleme\n",
    "Liste elemanlarına indeksleme tekniği kullanılarak erişilebilir. Listeler, her öğe için benzersiz indekslere sahip sıralı koleksiyonlardır. Bu indeks numarasını kullanarak listedeki maddelere ulaşabiliriz.\n",
    "\n",
    "Listedeki elemanlara soldan sağa ulaşmak için sıfırdan başlayan indeks değeri (liste uzunluğu-1) kullanılabilir. Örneğin, 3. elemana erişmek istiyorsak, indeks değeri 0'dan başladığı için 2 kullanmamız gerekir.\n",
    "\n",
    "Not:\n",
    "Listeler sıralı öğe dizileri olduğundan, indeks değerleri 0'dan başlayıp liste uzunluğuna kadar .\n",
    "Liste uzunluğundan yüksek bir indekse erişmeye çalıştığımızda, 'Index Error' atar.\n",
    "Benzer şekilde, indeks değerleri her zaman bir tamsayıdır. Başka bir tür verirsek 'Type Error' verir."
   ]
  },
  {
   "cell_type": "code",
   "execution_count": null,
   "metadata": {},
   "outputs": [],
   "source": [
    "my_list = [10, 20, 'Jessa', 12.50, 'Emma']\n",
    "# Listenin 2. elemanına erişim\n",
    "print(my_list[1]) \n",
    " \n",
    "# Listenin 5. elemanına erişim\n",
    "print(my_list[4]) "
   ]
  },
  {
   "attachments": {},
   "cell_type": "markdown",
   "metadata": {},
   "source": [
    "# Negatif İndeksleme\n",
    "Listedeki öğelere negatif indeksleme kullanılarak sağdan sola erişilebilir. Negatif değerler, listede -1'den -uzunluğuna kadardır. Listenin tersten/geriye doğru indekslendiğini gösterir."
   ]
  },
  {
   "cell_type": "code",
   "execution_count": null,
   "metadata": {},
   "outputs": [],
   "source": [
    "my_list = [10, 20, 'Jessa', 12.50, 'Emma']\n",
    "# Listenin son elemanına erişim\n",
    "print(my_list[-1])\n",
    "\n",
    "# Listenin sondan 2. elemanına erişim\n",
    "print(my_list[-2])\n",
    "\n",
    "# Listenin sondan 4. elemanına erişim\n",
    "print(my_list[-4])\n"
   ]
  },
  {
   "attachments": {},
   "cell_type": "markdown",
   "metadata": {},
   "source": [
    "# Liste Dilimleme (Slicing)\n",
    "Bir listeyi dilimlemek, bir listedeki bir dizi öğeye erişmek anlamına gelir. Örneğin 3'ten 7'ye kadar olan konumdaki elemanları almak istiyorsak dilimleme yöntemini kullanabiliriz. Bu dilimleme tekniğini kullanarak bir aralıktaki değerleri bile değiştirebiliriz.\n",
    "\n",
    "Liste dilimleme için sözdizimi aşağıdadır.\n",
    "\n",
    "**liste adı[start_index : end_index : adım]**\n",
    "\n",
    "start_index, dilimlemenin başlaması gereken dizin konumunu ve end_index parametresi, dilimlemenin yapılması gereken dizin konumlarını belirtir.\n",
    "Bu adım, bir start_index:end_index aralığındaki her bir n'inci öğeyi almanıza izin verir."
   ]
  },
  {
   "cell_type": "code",
   "execution_count": null,
   "metadata": {},
   "outputs": [],
   "source": [
    "my_list = [10, 20, 'Jessa', 12.50, 'Emma', 25, 50]\n",
    "# Listenin bir bölümünü 2. ila 5. öğeden çıkarma (extract)\n",
    "print(my_list[2:5])"
   ]
  },
  {
   "cell_type": "code",
   "execution_count": null,
   "metadata": {},
   "outputs": [],
   "source": [
    "my_list = [5, 8, 'Tom', 7.50, 'Emma']\n",
    "\n",
    "# ilk dört öğeyi dilimle\n",
    "print(my_list[:4])\n",
    "\n",
    "# her ikinci öğeyi yazdır\n",
    "# atlama sayısı 2 ile\n",
    "print(my_list[::2])\n",
    "\n",
    "# listeyi tersine çevirmek\n",
    "print(my_list[::-1])\n",
    "\n",
    "# Bitiş değeri olmadan\n",
    "# 3. maddeden son maddeye kadar\n",
    "print(my_list[3:])"
   ]
  },
  {
   "attachments": {},
   "cell_type": "markdown",
   "metadata": {},
   "source": [
    "# Listeyi Yineleme (Iterate)\n",
    "Listedeki nesneler, bir for döngüsü kullanılarak tek tek yinelenebilir."
   ]
  },
  {
   "cell_type": "code",
   "execution_count": null,
   "metadata": {},
   "outputs": [],
   "source": [
    "my_list = [5, 8, 'Tom', 7.50, 'Emma']\n",
    "\n",
    "# bir listeyi yinele\n",
    "for item in my_list:\n",
    "    print(item)"
   ]
  },
  {
   "attachments": {},
   "cell_type": "markdown",
   "metadata": {},
   "source": [
    "# İndeks sayısıyla birlikte yineleme\n",
    "İndeks değeri 0'dan (liste uzunluğu-1)'e kadardır. Bu nedenle, range() işlevinin kullanılması bu senaryo için idealdir.\n",
    "\n",
    "range işlevi, bir sayı dizisi geri döndürür. Varsayılan olarak, 0'dan başlayarak belirtilen sayıya (1'er artış) doğru döner. Başlangıç ve bitiş değerleri ihtiyacımıza göre geçilebilir."
   ]
  },
  {
   "cell_type": "code",
   "execution_count": null,
   "metadata": {},
   "outputs": [],
   "source": [
    "my_list = [5, 8, 'Tom', 7.50, 'Emma']\n",
    "\n",
    "# bir listeyi yinele\n",
    "for i in range(0, len(my_list)):\n",
    "    # indeks numarasını kullanarak her öğeyi yazdırın\n",
    "    print(my_list[i])"
   ]
  },
  {
   "attachments": {},
   "cell_type": "markdown",
   "metadata": {},
   "source": [
    "# Listeye eleman ekleme\n",
    "Append(), insert() ve extend() gibi liste yöntemlerini kullanarak listeye yeni bir öğe/öğe listesi ekleyebiliriz.\n",
    "\n",
    "Listenin sonuna öğe ekle\n",
    "append() yöntemi yalnızca bir parametre kabul edecek ve onu listenin sonuna ekleyecektir.\n",
    "\n",
    "Listenin sonuna 'Emma' öğesini eklemek için örneğe bakalım."
   ]
  },
  {
   "cell_type": "code",
   "execution_count": null,
   "metadata": {},
   "outputs": [],
   "source": [
    "my_list = list([5, 8, 'Tom', 7.50])\n",
    "\n",
    "# append() kullanımı\n",
    "my_list.append('Emma')\n",
    "print(my_list)\n",
    "\n",
    "# iç içe geçmiş listeyi sona ekle\n",
    "my_list.append([25, 50, 75])\n",
    "print(my_list)"
   ]
  },
  {
   "attachments": {},
   "cell_type": "markdown",
   "metadata": {},
   "source": [
    "# Listede belirtilen konuma öğe ekle\n",
    "Nesneyi/öğeyi listede belirtilen konuma eklemek için insert() yöntemini kullanın. Bu ekleme yöntemi, konum ve nesne olmak üzere iki parametre kabul eder.\n",
    "\n",
    "ekle(dizin, nesne)\n",
    "\n",
    "Nesneyi belirtilen dizine ekler. Bunu bir örnekle görelim."
   ]
  },
  {
   "cell_type": "code",
   "execution_count": null,
   "metadata": {},
   "outputs": [],
   "source": [
    "my_list = list([5, 8, 'Tom', 7.50])\n",
    "\n",
    "# Insert() kullanarak\n",
    "# 2 konumuna 25 ekleyin\n",
    "my_list.insert(2, 25)\n",
    "print(my_list)\n",
    "\n",
    "# iç içe geçmiş listeyi 3. konuma ekleyin\n",
    "my_list.insert(3, [25, 50, 75])\n",
    "print(my_list)"
   ]
  },
  {
   "attachments": {},
   "cell_type": "markdown",
   "metadata": {},
   "source": [
    "# Extend() kullanımı\n",
    "Extend yöntemi, öğe listesini kabul edecek ve listenin sonuna ekleyecektir. Hatta bu yöntemi kullanarak bir liste daha ekleyebiliriz.\n",
    "\n",
    "Listenin sonuna üç madde ekleyelim."
   ]
  },
  {
   "cell_type": "code",
   "execution_count": null,
   "metadata": {},
   "outputs": [],
   "source": [
    "my_list = list([5, 8, 'Tom', 7.50])\n",
    "\n",
    "# extend() kullanarak\n",
    "my_list.extend([25, 75, 100])\n",
    "print(my_list)"
   ]
  },
  {
   "attachments": {},
   "cell_type": "markdown",
   "metadata": {},
   "source": [
    "# Bir Listenin öğelerini değiştirin\n",
    "Liste, yinelenebilir nesnelerin değiştirilebilir bir dizisidir. Bu, bir listenin öğelerini değiştirebileceğimiz anlamına gelir. Bir öğeye yeni bir değer atamak için indeks numarasını ve atama operatörünü (=) kullanın.\n",
    "\n",
    "Aşağıdaki iki değişiklik senaryosunun nasıl gerçekleştirileceğini görelim\n",
    "\n",
    "- Bireysel öğeyi değiştirin\n",
    "- Öğe aralığını değiştirin"
   ]
  },
  {
   "cell_type": "code",
   "execution_count": null,
   "metadata": {},
   "outputs": [],
   "source": [
    "my_list = list([2, 4, 6, 8, 10, 12])\n",
    "\n",
    "# Bireysel öğeyi değiştirin\n",
    "my_list[0] = 20\n",
    "print(my_list)\n",
    "\n",
    "# öğe aralığını değiştir\n",
    "# 1. indeksten 4. dizine değiştir\n",
    "my_list[1:4] = [40, 60, 80]\n",
    "print(my_list)\n",
    "\n",
    "# 3. dizinden sona kadar değiştir\n",
    "my_list[3:] = [80, 100, 120]\n",
    "print(my_list)"
   ]
  },
  {
   "attachments": {},
   "cell_type": "markdown",
   "metadata": {},
   "source": [
    "# Tüm öğeleri değiştir\n",
    "Tüm öğeleri aynı anda yinelemek ve değiştirmek için for döngüsünü kullanın. Listedeki her öğeyi nasıl değiştireceğimizi görelim."
   ]
  },
  {
   "cell_type": "code",
   "execution_count": null,
   "metadata": {},
   "outputs": [],
   "source": [
    "my_list = list([2, 4, 6, 8])\n",
    "\n",
    "# tüm öğelerin değerini değiştir\n",
    "for i in range(len(my_list)):\n",
    "    # her sayının karesini hesapla\n",
    "    square = my_list[i] * my_list[i]\n",
    "    my_list[i] = square\n",
    "\n",
    "print(my_list)"
   ]
  },
  {
   "attachments": {},
   "cell_type": "markdown",
   "metadata": {},
   "source": [
    "# Verilen indekste bulunan öğeyi kaldır\n",
    "Verilen dizindeki öğeyi kaldırmak için pop() yöntemini kullanın. pop() yöntemi, verilen dizinde bulunan öğeyi kaldırır ve değerleri döndürür.\n",
    "\n",
    "Not: İndeks numarası p değilse son seferi listeden çıkaracaktır."
   ]
  },
  {
   "cell_type": "code",
   "execution_count": null,
   "metadata": {},
   "outputs": [],
   "source": [
    "my_list = list([2, 4, 6, 8, 10, 12])\n",
    "\n",
    "# indeks 2'de bulunan öğeyi kaldır\n",
    "my_list.pop(2)\n",
    "print(my_list)\n",
    "\n",
    "# indeks numarasını iletmeden öğeyi kaldır\n",
    "my_list.pop()\n",
    "print(my_list)\n"
   ]
  },
  {
   "attachments": {},
   "cell_type": "markdown",
   "metadata": {},
   "source": [
    "# Öğe aralığını kaldır\n",
    "Öğe aralığını kaldırmak için liste dilimlemeyle birlikte *del* anahtar sözcüğünü kullanın"
   ]
  },
  {
   "cell_type": "code",
   "execution_count": null,
   "metadata": {},
   "outputs": [],
   "source": [
    "my_list = list([2, 4, 6, 8, 10, 12])\n",
    "\n",
    "# öğe aralığını kaldır\n",
    "# indeks 2'den 5'e kadar olan öğeleri kaldır\n",
    "del my_list[2:5]\n",
    "print(my_list)\n",
    "\n",
    "# indeks 3'ten başlayarak tüm öğeleri kaldır\n",
    "my_list = list([2, 4, 6, 8, 10, 12])\n",
    "del my_list[3:]\n",
    "print(my_list)\n"
   ]
  },
  {
   "attachments": {},
   "cell_type": "markdown",
   "metadata": {},
   "source": [
    "# Tüm öğeleri kaldır\n",
    "Listedeki tüm öğeleri kaldırmak için listenin clear() yöntemini kullanın. clear() yöntemi listeyi kısaltır."
   ]
  },
  {
   "cell_type": "code",
   "execution_count": null,
   "metadata": {},
   "outputs": [],
   "source": [
    "my_list = list([2, 4, 6, 8, 10, 12])\n",
    "\n",
    "# listeyi temizle\n",
    "my_list.clear()\n",
    "print(my_list)\n",
    "\n",
    "# Tüm listeyi sil\n",
    "del my_list"
   ]
  },
  {
   "attachments": {},
   "cell_type": "markdown",
   "metadata": {},
   "source": [
    "# Listede bir eleman bulma\n",
    "Listedeki bir öğeyi bulmak için index() işlevini kullanın.\n",
    "\n",
    "index() işlevi, öğenin değerini bir parametre olarak kabul eder ve öğenin ilk geçtiği yeri döndürür veya öğe yoksa ValueError hatası verir."
   ]
  },
  {
   "cell_type": "code",
   "execution_count": null,
   "metadata": {},
   "outputs": [],
   "source": [
    "my_list = list([2, 4, 6, 8, 10, 12])\n",
    "\n",
    "print(my_list.index(8))\n",
    "\n",
    "# öğe listede bulunmadığından hata verir.\n",
    "my_list.index(100)"
   ]
  },
  {
   "attachments": {},
   "cell_type": "markdown",
   "metadata": {},
   "source": [
    "# İki listenin birleştirilmesi\n",
    "İki listenin birleştirmenin iki yolu var.\n",
    "\n",
    "- artı + operatörünü kullanarak.\n",
    "- Extend() yöntemini kullanarak. Extend() yöntemi, yeni listenin öğelerini arama listesinin sonuna ekler."
   ]
  },
  {
   "cell_type": "code",
   "execution_count": null,
   "metadata": {},
   "outputs": [],
   "source": [
    "my_list1 = [1, 2, 3]\n",
    "my_list2 = [4, 5, 6]\n",
    "\n",
    "# + operatörü\n",
    "my_list3 = my_list1 + my_list2\n",
    "print(my_list3)\n",
    "\n",
    "\n",
    "# Extend() yöntemini\n",
    "my_list1.extend(my_list2)\n",
    "print(my_list1)\n"
   ]
  },
  {
   "attachments": {},
   "cell_type": "markdown",
   "metadata": {},
   "source": [
    "# Liste kopyalama\n",
    "Bir listenin kopyasını oluşturmanın iki yolu vardır: atama operatörü (=), copy() metodu\n",
    ")\n",
    "\n",
    "- Atama operatörünü kullanma (=)\n",
    "Bu, bir kopya oluşturmanın basit bir yoludur. Bu yöntemde, yeni liste derin bir kopya (deep copy) olacaktır. Orijinal listede yaptığımız değişiklikler yeni listeye yansıtılacaktır. Buna derin kopyalama (deep copy) denir.\n",
    "\n",
    "Not: list1 = list2'yi ayarladığınızda, aynı liste nesnesine başvurmalarını sağlamış olursunuz, böylece bunlardan birini değiştirdiğinizde, o nesneyle ilişkili tüm referanslar nesnenin mevcut durumunu yansıtır. Bu nedenle, sözlüğü kopyalamak için atama işlecini kullanmayın, bunun yerine copy() yöntemini kullanın."
   ]
  },
  {
   "cell_type": "code",
   "execution_count": null,
   "metadata": {},
   "outputs": [],
   "source": [
    "my_list1 = [1, 2, 3]\n",
    "\n",
    "# atama operatörü = kullanma\n",
    "new_list = my_list1\n",
    "# yeni listeyi yazdırma\n",
    "print(new_list)\n",
    "\n",
    "# orijinal listede değişiklik yapma\n",
    "my_list1.append(4)\n",
    "\n",
    "# her iki kopyayı da yazdır\n",
    "print(my_list1)\n",
    "\n",
    "print(new_list)\n"
   ]
  },
  {
   "attachments": {},
   "cell_type": "markdown",
   "metadata": {},
   "source": [
    "- copy() yöntemini kullanma\n",
    "Kopyalama yöntemi, bir listenin bir kopyasını oluşturmak için kullanılabilir. Bu, yeni bir liste oluşturacak ve orijinal listede yapılan herhangi bir değişiklik yeni listeye yansıtılmayacaktır. Bu yüzeysel bir kopyalamadır."
   ]
  },
  {
   "cell_type": "code",
   "execution_count": null,
   "metadata": {},
   "outputs": [],
   "source": [
    "my_list1 = [1, 2, 3]\n",
    "\n",
    "# copy() yöntemini kullanma\n",
    "new_list = my_list1.copy()\n",
    "# printing the new list\n",
    "print(new_list)\n",
    "\n",
    "# orijinal listede değişiklik yapma\n",
    "my_list1.append(4)\n",
    "\n",
    "# her iki kopyayı da yazdır\n",
    "print(my_list1)\n",
    "\n",
    "print(new_list)\n"
   ]
  },
  {
   "attachments": {},
   "cell_type": "markdown",
   "metadata": {},
   "source": [
    "# Liste işlemleri\n",
    "sort(), reverse(), clear() gibi belirli işlevleri kullanarak liste üzerinde bazı işlemler yapabiliriz.\n",
    "\n",
    "- sort() kullanarak Listeyi Sırala\n",
    "Sıralama işlevi, listedeki öğeleri artan düzende sıralar.\n",
    "- reverse() kullanarak bir Listeyi tersine çevirin\n",
    "Ters fonksiyon, listedeki öğeleri tersine çevirmek için kullanılır."
   ]
  },
  {
   "cell_type": "code",
   "execution_count": null,
   "metadata": {},
   "outputs": [],
   "source": [
    "mylist = [3,2,1]\n",
    "mylist.sort()\n",
    "print(mylist)"
   ]
  },
  {
   "cell_type": "code",
   "execution_count": null,
   "metadata": {},
   "outputs": [],
   "source": [
    "mylist = [3, 4, 5, 6, 1]\n",
    "mylist.reverse()\n",
    "print(mylist)"
   ]
  },
  {
   "attachments": {},
   "cell_type": "markdown",
   "metadata": {},
   "source": [
    "# Liste ile Python Yerleşik işlevleri\n",
    "Listede bulunan yerleşik yöntemlere ek olarak, yerleşik işlevleri de listede kullanabiliriz. Örneğin bunlardan birkaçını görelim.\n",
    "\n",
    "- max() ve min() kullanımı\n",
    "max() fonksiyonu listedeki maksimum değeri, min fonksiyonu ise listedeki minimum değeri döndürür.\n",
    "- sum() kullanarak\n",
    "Toplam işlevi, listedeki tüm öğelerin toplamını döndürür.\n",
    "- all()\n",
    "all() işlevi durumunda, dönüş değeri yalnızca listedeki tüm değerler doğru olduğunda doğru olacaktır.\n",
    "- any()\n",
    "any() yöntemi, en az bir true değeri varsa true geri döndürür. Boş Liste durumunda, false döndürür."
   ]
  },
  {
   "cell_type": "code",
   "execution_count": null,
   "metadata": {},
   "outputs": [],
   "source": [
    "mylist = [3, 4, 5, 6, 1]\n",
    "print(max(mylist)) # listedeki maximum sayıyı döndürür.\n",
    "print(min(mylist)) # listedeki minimum sayıyı döndürür."
   ]
  },
  {
   "cell_type": "code",
   "execution_count": null,
   "metadata": {},
   "outputs": [],
   "source": [
    "mylist = [3, 4, 5, 6, 1]\n",
    "print(sum(mylist)) "
   ]
  },
  {
   "cell_type": "code",
   "execution_count": null,
   "metadata": {},
   "outputs": [],
   "source": [
    "# tümü true değerlerle\n",
    "samplelist1 = [1,1,True]\n",
    "print(\"all() All True values::\",all(samplelist1))\n",
    "\n",
    "# bir false ile\n",
    "samplelist2 = [0,1,True,1]\n",
    "print(\"all() with One false value ::\",all(samplelist2))\n",
    "\n",
    "# tümü false değerlerle\n",
    "samplelist3 = [0,0,False]\n",
    "print(\"all() with all false values ::\",all(samplelist3))\n",
    "\n",
    "#boş liste\n",
    "samplelist4 = []"
   ]
  },
  {
   "cell_type": "code",
   "execution_count": null,
   "metadata": {},
   "outputs": [],
   "source": [
    "# tümü true değerlerle\n",
    "samplelist1 = [1,1,True]\n",
    "print(\"any() True values::\",any(samplelist1))\n",
    "\n",
    "# bir false ile\n",
    "samplelist2 = [0,1,True,1]\n",
    "print(\"any() One false value ::\",any(samplelist2))\n",
    "\n",
    "\n",
    "# tümü false değerlerle\n",
    "samplelist3 = [0,0,False]\n",
    "print(\"any() all false values ::\",any(samplelist3))\n",
    "\n",
    "#boş liste\n",
    "samplelist4 = []\n",
    "print(\"any() Empty list ::\",any(samplelist4))"
   ]
  },
  {
   "attachments": {},
   "cell_type": "markdown",
   "metadata": {},
   "source": [
    "# Liste Anlama\n",
    "Liste kavrama, mevcut bir listeden liste oluşturmak için daha basit bir yöntemdir. Genellikle, yalnızca bir koşulu karşılayan öğeleri dahil etme seçeneğiyle oluşturulan yinelemelerin bir listesidir.\n",
    "\n",
    "outputList = {ifade(değişken) inputList'teki değişken için [if değişken koşul1][if değişken koşul2]\n",
    "\n",
    "- ifade: İsteğe bağlı. isteğe bağlı koşulları karşılayan çıktı Listesinin üyelerini hesaplamak için ifade\n",
    "- değişken: Gerekli. giriş Listesinin üyelerini temsil eden bir değişken.\n",
    "- inputList: Gerekli. Girdi kümesini temsil eder.\n",
    "- koşul1, koşul2 vb; : İsteğe bağlı. Çıktı listesinin üyeleri için filtre koşulları."
   ]
  },
  {
   "cell_type": "code",
   "execution_count": null,
   "metadata": {},
   "outputs": [],
   "source": [
    "inputList = [4,7,11,13,18,20]\n",
    "\n",
    "# çift sayıların kare değerleri ile bir liste oluşturma\n",
    "squareList = [var**2 for var in inputList if var%2==0]\n",
    "print(squareList)"
   ]
  },
  {
   "cell_type": "code",
   "execution_count": null,
   "metadata": {},
   "outputs": [],
   "source": [
    "#bir dizi sayı için çift kare listesi oluşturma\n",
    "squarelist1 = [s**2 for s in range(10)if s%2 == 0]\n",
    "print(squarelist1)"
   ]
  },
  {
   "attachments": {},
   "cell_type": "markdown",
   "metadata": {},
   "source": [
    "# Alıştırma\n",
    "Altı ders için bir liste oluşturun. Kullanıcıya bu konulardan hangisini beğenmediğini sorun. Listeyi tekrar görüntülemeden önce seçtikleri konuyu listeden silin."
   ]
  },
  {
   "cell_type": "code",
   "execution_count": null,
   "metadata": {},
   "outputs": [],
   "source": [
    "subject_list = [\"matematik\", \"ingilizce\", \"bilgisayar\", \"tarih\", \"bilim\", \"ispanyolca\"]  # ders listesi\n",
    "print(subject_list)\n",
    "dislike = input (\"Bu konulardan hangisini sevmiyorsun?\")\n",
    "getrid = subject_list.index (dislike)                           # sevilmeyen dersten kurtul\n",
    "del subject_list[getrid]\n",
    "print(subject_list)"
   ]
  },
  {
   "attachments": {},
   "cell_type": "markdown",
   "metadata": {},
   "source": [
    "# Alıştırma\n",
    "Kullanıcıdan bir partiye davet etmek istediği üç kişinin adını girmesini isteyin ve onları bir listede saklayın. Üç adı da girdikten sonra, onlara başka bir ad daha eklemek isteyip istemediklerini sorun. Eğer yaparlarsa, \"no\" diye cevap verene kadar daha fazla isim eklemelerine izin verin. \"no\" yanıtını verdiklerinde, partiye kaç kişiyi davet ettiklerini gösterin."
   ]
  },
  {
   "cell_type": "code",
   "execution_count": null,
   "metadata": {},
   "outputs": [],
   "source": [
    "name_list = []\n",
    "for i in range(3):\n",
    "    name_list.append(str(input('Partiye davet etmek için adı girin :')))\n",
    "print(name_list)\n",
    "add_more = str(input('Partiye daha fazla insan davet edilsin mi? yes|no : ').lower())\n",
    "while add_more == 'yes':\n",
    "    name_list.append(str(input('Partiye davet etmek için adı girin :')))\n",
    "    add_more = str(input('Partiye daha fazla insan davet edilsin mi? yes|no : ').lower())\n",
    "print(len(name_list))"
   ]
  },
  {
   "attachments": {},
   "cell_type": "markdown",
   "metadata": {},
   "source": [
    "# Alıştırma\n",
    "Kullanıcıdan tam sayıları alan ve bunları bir listede saklayan bir program yazınız. Programınız, kullanıcı 0 girene kadar değerleri okumaya devam etmelidir. Ardından, kullanıcı tarafından girilen tüm değerleri (0 hariç), her satırda bir değer olacak şekilde küçükten büyüğe doğru göstermelidir. Listeyi sıralamak için \"sort\" yöntemini veya \"sorted\" işlevini kullanın. (sort - sıralamak)"
   ]
  },
  {
   "cell_type": "code",
   "execution_count": 5,
   "metadata": {},
   "outputs": [
    {
     "name": "stdout",
     "output_type": "stream",
     "text": [
      "The values, sorted into ascending order, are:\n",
      "3\n",
      "5\n",
      "8\n"
     ]
    }
   ],
   "source": [
    "# Kullanıcı tarafından girilen tamsayıları artan sırada görüntüler.\n",
    "\n",
    "# Boş bir listeyle başla\n",
    "data = []\n",
    "# Kullanıcı 0 girene kadar değerleri oku, listeye ekle\n",
    "num = int(input(\"Bir tamsayı girin (çıkmak için 0): \")) \n",
    "while num != 0:\n",
    "    data.append(num)\n",
    "    num = int(input (\"Bir tamsayı girin (çıkmak için 0): \")))\n",
    "# Değerleri sırala\n",
    "data.sort()\n",
    "# Değerleri artan sırada göster\n",
    "print (\"Artan düzende sıralanan değerler:\")\n",
    "for num in data:\n",
    "    print (num)"
   ]
  },
  {
   "attachments": {},
   "cell_type": "markdown",
   "metadata": {},
   "source": [
    "# Alıştırma \n",
    "Kopyalardan Kaçınma:\n",
    "Bu alıştırmada, kullanıcı boş bir satır girene kadar kullanıcıdan gelen kelimeleri okuyan bir program oluşturacaksınız. Kullanıcı boş bir satır girdikten sonra, programınız kullanıcı tarafından girilen her kelimeyi tam olarak bir kez göstermelidir. Sözcükler girildikleri sırayla görüntülenmelidir. Örneğin, kullanıcı şunu girerse:\n",
    "\n",
    "birinci\n",
    "ikinci\n",
    "birinci\n",
    "üçüncü\n",
    "ikinci\n",
    "\n",
    "o zaman programınız şunları göstermelidir:\n",
    "\n",
    "birinci\n",
    "ikinci\n",
    "üçüncü"
   ]
  },
  {
   "cell_type": "code",
   "execution_count": 6,
   "metadata": {},
   "outputs": [
    {
     "name": "stdout",
     "output_type": "stream",
     "text": [
      "aa\n",
      "gg\n",
      "bb\n",
      "ee\n"
     ]
    }
   ],
   "source": [
    "\n",
    "# Kullanıcı tarafından girilen bir kelime koleksiyonunu okuyun. \n",
    "# Kullanıcı tarafından girilen her kelimeyi, kelimelerin girildiği sırada yalnızca bir kez görüntüleyin.\n",
    "#\n",
    "# Kelimeleri bir liste halinde okumaya başlayın\n",
    "words = []\n",
    "word = input (\"Bir kelime girin (çıkmak için boş satır): \")\n",
    "while word != \"\":\n",
    "    # Sözcüğü yalnızca listede yoksa ekleyin\n",
    "    if word not in words:\n",
    "        words.append (word)\n",
    "\n",
    "    # Kullanıcıdan sıradaki kelimeyi alın\n",
    "    word = input (\"Bir kelime girin (çıkmak için boş satır): \")\n",
    "\n",
    "# Eşsiz kelimeleri göster\n",
    "for word in words:\n",
    "    print (word)"
   ]
  },
  {
   "attachments": {},
   "cell_type": "markdown",
   "metadata": {},
   "source": [
    "# Alıştırma\n",
    "Rastgele Piyango Numaraları: Piyangoda büyük ikramiyeyi kazanmak için, kişi biletindeki 6 sayıyı, piyango organizatörü tarafından çekilen 1 ile 49 arasındaki 6 sayıyla eşleştirmek zorundadır. Piyango bileti için rastgele 6 sayı üreten bir program yazınız. Seçilen 6 numaranın tekrarlamadığından emin olun. Sayıları artan sırada görüntüleyin."
   ]
  },
  {
   "cell_type": "code",
   "execution_count": 1,
   "metadata": {},
   "outputs": [
    {
     "name": "stdout",
     "output_type": "stream",
     "text": [
      "Your Ticket numbers are:\n",
      "13\n",
      "17\n",
      "21\n",
      "39\n",
      "41\n",
      "46\n"
     ]
    }
   ],
   "source": [
    "\n",
    "from random import randrange        # rastegele\n",
    "\n",
    "ticket_numbers = []                 # bilet sayıları\n",
    "rand = randrange(1,50)\n",
    "\n",
    "for i in range(6):\n",
    "    rand = randrange(1, 50)     \n",
    "    while rand in ticket_numbers:\n",
    "        rand = randrange(1, 50)\n",
    "    \n",
    "    ticket_numbers.append(rand)\n",
    "\n",
    "ticket_numbers.sort()\n",
    "\n",
    "print('Bilet numaralarınız:')\n",
    "for i in ticket_numbers:\n",
    "    print(i)"
   ]
  },
  {
   "attachments": {},
   "cell_type": "markdown",
   "metadata": {},
   "source": [
    "\n",
    "# Egzersiz yapmak\n",
    "Belirli bir değerle eşleşen bir sözlükteki tüm anahtarları bulan reverseLookup adlı bir işlev yazın. İşlev, sözlüğü ve aranacak değeri tek parametresi olarak alacaktır. Sağlanan değerle eşleşen sözlükten (boş olabilir) bir anahtar listesi döndürür.\n",
    "\n",
    "Bu alıştırmaya çözümünüzün bir parçası olarak reverseLookup işlevini gösteren bir ana program ekleyin. Programınız bir sözlük oluşturmalı ve ardından birden çok anahtar, tek bir anahtar döndürdüğünde ve hiçbir anahtar döndürmediğinde reverseLookup işlevinin doğru çalıştığını göstermelidir. Ana programınızın yalnızca bu alıştırmanın çözümünü içeren dosya başka bir programa aktarılmadığında çalıştığından emin olun."
   ]
  },
  {
   "cell_type": "code",
   "execution_count": 4,
   "metadata": {},
   "outputs": [
    {
     "name": "stdout",
     "output_type": "stream",
     "text": [
      "The french words for 'the' are:  ['le']\n",
      "Expected: ('le', 'la']\n",
      "\n",
      "The french word for 'apple' is:  ['pomme']\n",
      "Expected: ['pomme']\n",
      "The french word for 'asdf' is:  None\n"
     ]
    }
   ],
   "source": [
    "# Sağlanan değerle eşleşen tüm anahtarları bularak bir sözlükte geriye doğru arama yapın.\n",
    "\n",
    "# @param data, üzerinde geriye doğru arama yapmak için sözlük verisi\n",
    "# @param value sözlükte aranacak değeri verir\n",
    "# @return değerle eşlenen verilerden anahtarların bir listesini (boş olabilir) döndürür\n",
    "def reverseLookup (data, value) :\n",
    "    # Değerle eşleşen anahtarların bir listesini oluşturun\n",
    "    keys = []\n",
    "    \n",
    "    # Her anahtarı kontrol edin, değerler eşleşiyorsa anahtarlara ekleyin\n",
    "    for key in data:\n",
    "        if data[key] == value:\n",
    "            keys.append(key)\n",
    "            # Anahtar listesini döndür\n",
    "            return keys\n",
    "\n",
    "# ReverseLookup işlevini gösterin\n",
    "def main():\n",
    "    # 4 Fransızca kelimeyi İngilizce karşılıklarıyla eşleyen bir sözlük\n",
    "    frEn = {\"le\":\"the\", \"la\":\"the\", \"livre\":\"book\", \"pomme\":\"apple\"}\n",
    "    # ReverseLookup işlevini 3 örnekle gösterin: Birden çok anahtar döndüren, tek anahtar döndüren ve anahtar döndürmeyen biri\n",
    "    print (\"'the', Fransızca karşılığı: \", reverseLookup(frEn,\"the\"))\n",
    "    print (\"Beklenen: ('le', 'la']\")\n",
    "    print ()\n",
    "    print (\"'apple', Fransızca karşılığı: \", reverseLookup(frEn,\"apple\"))\n",
    "    print (\"Beklenen: ['pomme']\")\n",
    "    print (\"'Asdf', Fransızca karşılığı: \", reverseLookup(frEn,\"asdf\"))\n",
    "\n",
    "main()"
   ]
  }
 ],
 "metadata": {
  "kernelspec": {
   "display_name": "Python 3",
   "language": "python",
   "name": "python3"
  },
  "language_info": {
   "codemirror_mode": {
    "name": "ipython",
    "version": 3
   },
   "file_extension": ".py",
   "mimetype": "text/x-python",
   "name": "python",
   "nbconvert_exporter": "python",
   "pygments_lexer": "ipython3",
   "version": "3.11.1"
  },
  "orig_nbformat": 4,
  "vscode": {
   "interpreter": {
    "hash": "5c7b89af1651d0b8571dde13640ecdccf7d5a6204171d6ab33e7c296e100e08a"
   }
  }
 },
 "nbformat": 4,
 "nbformat_minor": 2
}
