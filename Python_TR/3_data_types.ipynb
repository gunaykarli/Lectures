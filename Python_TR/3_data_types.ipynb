{
 "cells": [
  {
   "attachments": {},
   "cell_type": "markdown",
   "metadata": {},
   "source": [
    "# Python Veri Türleri\n",
    "Python Veri Türleri, bir değişkenin cinsini tanımlamak için kullanılır. Bir değişkende ne tür verileri saklayacağımızı tanımlar. Bellekte saklanan veriler birçok türde olabilir. Örneğin, bir kişinin yaşı sayısal bir değer olarak, adresi ise alfanümerik karakterler olarak depolanır."
   ]
  },
  {
   "attachments": {},
   "cell_type": "markdown",
   "metadata": {},
   "source": [
    "Python, bu derste tartışacağımız çeşitli yerleşik veri türlerine sahiptir:\n",
    "* Sayısal - int, float, complex\n",
    "* Dize *(string)* - str\n",
    "* Sıra *(sequence)* - list, tuple\n",
    "* İkili değer *(binary)* - bytes\n",
    "* Eşleme *(mapping)* - dict\n",
    "* Mantıksal *(boolean)* - bool\n",
    "* Set - set\n",
    "* Hiçbiri *(none)* - NoneType"
   ]
  },
  {
   "attachments": {},
   "cell_type": "markdown",
   "metadata": {},
   "source": [
    "# Python Sayısal Veri Türü\n",
    "Python sayısal veri türleri, sayısal değerleri depolar.\n",
    "\n",
    "* int (işaretli tamsayılar)\n",
    "* long (uzun tamsayılar)\n",
    "* float (kayan noktalı gerçek değerler)\n",
    "* complex (karmaşık sayılar)"
   ]
  },
  {
   "cell_type": "code",
   "execution_count": 1,
   "metadata": {},
   "outputs": [
    {
     "name": "stdout",
     "output_type": "stream",
     "text": [
      "100 değerine sahip olan değişkenin türü <class 'int'>\n",
      "20.345 değerine sahip olan değişkenin türü <class 'float'>\n",
      "(10+3j) değerine sahip olan değişkenin türü <class 'complex'>\n"
     ]
    }
   ],
   "source": [
    "# integer değişken.\n",
    "a=100\n",
    "print(a, \"değerine sahip olan değişkenin türü\", type(a))\n",
    "\n",
    "# float değişken.\n",
    "b=20.345\n",
    "print(b, \"değerine sahip olan değişkenin türü\", type(b))\n",
    "\n",
    "# complex değişken.\n",
    "c=10+3j\n",
    "print(c, \"değerine sahip olan değişkenin türü\", type(c))"
   ]
  },
  {
   "attachments": {},
   "cell_type": "markdown",
   "metadata": {},
   "source": [
    "# Python Dizisi (String) Veri Türü\n",
    "* Python Dizeleri, tırnak işaretleri içinde temsil edilen bitişik bir karakter kümesi olarak tanımlanır.\n",
    "* Python, tek veya çift tırnak çiftlerine izin verir.\n",
    "* Dizilerin alt kümeleri, dilim operatörü ([ ] ve [:] ) kullanılarak ayrılabilir. İndeks dizinin başında 0'dan başlar ve sonunda son-1'e ulaşır.\n",
    "* Artı (+) işareti, dize birleştirme işlecidir ve yıldız işareti (*), Python'da tekrarlama işlecidir."
   ]
  },
  {
   "cell_type": "code",
   "execution_count": 2,
   "metadata": {},
   "outputs": [
    {
     "name": "stdout",
     "output_type": "stream",
     "text": [
      "Hello World!\n",
      "H\n",
      "llo\n",
      "llo World!\n",
      "Hello World!Hello World!\n",
      "Hello World!TEST\n"
     ]
    }
   ],
   "source": [
    "str = 'Hello World!'\n",
    "\n",
    "print (str)             # Tüm diziyi yazdırır\n",
    "print (str[0])          # Dizinin ilk karakterini yazdırır\n",
    "print (str[2:5])        # 3'ten 5'e kadar olan karakterleri yazdırır\n",
    "print (str[2:])         # 3. karakterden başlayan diziyi yazdırır\n",
    "print (str * 2)         # Diziyi iki kez yazdırır\n",
    "print (str + \"TEST\")    # Birleştirilmiş diziyi yazdırır"
   ]
  },
  {
   "attachments": {},
   "cell_type": "markdown",
   "metadata": {},
   "source": [
    "# Python Listesi (List) Veri Türü\n",
    "* Python Listeleri, en çok yönlü bileşik veri türleridir.\n",
    "* Python listesi, virgülle ayrılmış ve köşeli parantez ([]) içine alınmış öğeleri içerir.\n",
    "* Python listesi farklı veri türünde olabilir.\n",
    "* Python listesinde depolanan değerlere dilim operatörü ([ ] ve [:]) kullanılarak erişilebilir ve indeks listenin başında 0'dan başlayıp son-1'e kadar devam eder.\n",
    "* Artı (+) işareti liste birleştirme işlecidir ve yıldız işareti (*) tekrarlama işlecidir."
   ]
  },
  {
   "cell_type": "code",
   "execution_count": 4,
   "metadata": {},
   "outputs": [
    {
     "name": "stdout",
     "output_type": "stream",
     "text": [
      "['abcd', 786, 2.23, 'john', 70.2]\n",
      "abcd\n",
      "[786, 2.23]\n",
      "[2.23, 'john', 70.2]\n",
      "[123, 'john', 123, 'john']\n",
      "['abcd', 786, 2.23, 'john', 70.2, 123, 'john']\n"
     ]
    }
   ],
   "source": [
    "list = [ 'abcd', 786 , 2.23, 'john', 70.2 ]\n",
    "miniklist = [123, 'john']\n",
    "\n",
    "print (list)                # Tam listeyi yazdırır\n",
    "print (list[0])             # Listenin ilk elemanını yazdırır\n",
    "print (list[1:3])           # 2'den 3'e kadar olan öğeleri yazdırır\n",
    "print (list[2:])            # 3. elemandan başlayarak elemanları yazdırır\n",
    "print (miniklist * 2)       # Listeyi iki kez yazdırır\n",
    "print (list + miniklist)    # Birleştirilmiş listeleri yazdırır"
   ]
  },
  {
   "attachments": {},
   "cell_type": "markdown",
   "metadata": {},
   "source": [
    "# Python Tuple (Demet) Veri Türü\n",
    "* Python tuple, listeye benzeyen başka bir dizi veri türüdür (değişkenler grubu).\n",
    "* Bir Python demeti, virgülle ayrılmış bir dizi değerden oluşur. Ancak listelerin aksine, demetler parantez içine alınır.\n",
    "* Listeler ve demetler arasındaki temel farklar şunlardır: Listeler köşeli parantezler ([ ]) içine alınır ve öğeleri ve boyutları değiştirilebilirken, demetler parantez (( )) içine alınır ve güncellenemez.\n",
    "* Demetler salt okunur listeler olarak düşünülebilir."
   ]
  },
  {
   "cell_type": "code",
   "execution_count": 5,
   "metadata": {},
   "outputs": [
    {
     "name": "stdout",
     "output_type": "stream",
     "text": [
      "('abcd', 786, 2.23, 'john', 70.2)\n",
      "abcd\n",
      "(786, 2.23)\n",
      "(2.23, 'john', 70.2)\n",
      "(123, 'john', 123, 'john')\n",
      "('abcd', 786, 2.23, 'john', 70.2, 123, 'john')\n"
     ]
    }
   ],
   "source": [
    "tuple = ( 'abcd', 786 , 2.23, 'john', 70.2  )\n",
    "miniktuple = (123, 'john')\n",
    "\n",
    "print (tuple)               # Demetin tamamını yazdırır\n",
    "print (tuple[0])            # Demetin ilk elemanını yazdırır\n",
    "print (tuple[1:3])          # Demetin 2'den 3'e kadar olan öğelerini yazdırır\n",
    "print (tuple[2:])           # 3. elemandan başlayarak demetin elemanlarını yazdırır\n",
    "print (miniktuple * 2)      # Demetin içeriğini iki kez yazdırır\n",
    "print (tuple + miniktuple)  # Birleştirilmiş demetleri yazdırır"
   ]
  },
  {
   "attachments": {},
   "cell_type": "markdown",
   "metadata": {},
   "source": [
    "Aşağıdaki kod, demeti (tuple) güncellemeye çalıştığımız için izin verilmeyen bir tanımlama. Listelerle benzer bir durumu gerçekleştirmek mümkündür."
   ]
  },
  {
   "cell_type": "code",
   "execution_count": null,
   "metadata": {},
   "outputs": [],
   "source": [
    "tuple = ( 'abcd', 786 , 2.23, 'john', 70.2  )\n",
    "list = [ 'abcd', 786 , 2.23, 'john', 70.2  ]\n",
    "tuple[2] = 1000    # Invalid syntax with tuple\n",
    "list[2] = 1000     # Valid syntax with list"
   ]
  },
  {
   "attachments": {},
   "cell_type": "markdown",
   "metadata": {},
   "source": [
    "# Python Sözlüğü (Dictionary)\n",
    "* Python sözlükleri, anahtar-değer çiftlerinden oluşur.\n",
    "* Bir sözlük anahtarı hemen hemen her Python türü olabilir, ancak genellikle sayılar veya dizelerdir. Öte yandan değerler, rastgele herhangi bir Python nesnesi olabilir.\n",
    "* Sözlükler kaşlı ayraçlar ({ }) içine alınır ve değerler köşeli ayraçlar ([]) kullanılarak atanabilir ve erişilebilir."
   ]
  },
  {
   "cell_type": "code",
   "execution_count": 1,
   "metadata": {},
   "outputs": [
    {
     "name": "stdout",
     "output_type": "stream",
     "text": [
      "Bu bir\n",
      "Bu iki\n",
      "{'name': 'john', 'code': 6734, 'dept': 'sales'}\n",
      "dict_keys(['name', 'code', 'dept'])\n",
      "dict_values(['john', 6734, 'sales'])\n"
     ]
    }
   ],
   "source": [
    "dict = {}\n",
    "dict['bir'] = \"Bu bir\"\n",
    "dict[2]     = \"Bu iki\"\n",
    "\n",
    "minikdict = {'name': 'john','code':6734, 'dept': 'sales'}\n",
    "\n",
    "print (dict['bir'])             # 'bir' anahtarı için değer yazdırır\n",
    "print (dict[2])                 # 2 anahtarı için değer yazdırır\n",
    "print (minikdict)               # Tüm sözlüğü yazdırır\n",
    "print (minikdict.keys())        # Tüm anahtarları yazdırır\n",
    "print (minikdict.values())      # Tüm değerleri yazdırır"
   ]
  },
  {
   "attachments": {},
   "cell_type": "markdown",
   "metadata": {},
   "source": [
    "# Python Mantıksal (Boolean) Veri Türleri\n",
    "* Python boolean türü, True (doğru) veya False (yanlış) olarak iki değerden birini temsil eden yerleşik veri türlerinden biridir.\n",
    "* Python bool() işlevi, herhangi bir ifadenin değerini değerlendirmenize olanak tanır ve ifadeye göre True veya False döndürür.\n"
   ]
  },
  {
   "cell_type": "code",
   "execution_count": null,
   "metadata": {},
   "outputs": [],
   "source": [
    "a = True\n",
    "# a'nın değerini göster\n",
    "print(a)\n",
    "\n",
    "# a'nın türünü göster\n",
    "print(type(a))"
   ]
  },
  {
   "cell_type": "code",
   "execution_count": 3,
   "metadata": {},
   "outputs": [
    {
     "name": "stdout",
     "output_type": "stream",
     "text": [
      "False\n",
      "False\n",
      "False\n",
      "False\n",
      "False\n",
      "True\n"
     ]
    }
   ],
   "source": [
    "# a, b'ye eşit olmadığı için False değerini döndürür\n",
    "a = 2\n",
    "b = 4\n",
    "print(bool(a==b))\n",
    "\n",
    "# Aşağıdaki de aynı şeyi değerini döndürür\n",
    "print(a==b)\n",
    "\n",
    "# a None olduğu için False değerini döndürür\n",
    "a = None\n",
    "print(bool(a))\n",
    "\n",
    "# a boş bir dizi olduğu için False değerini döndürür\n",
    "a = ()\n",
    "print(bool(a))\n",
    "\n",
    "# a 0 olduğu için False değerini döndürür\n",
    "a = 0.0\n",
    "print(bool(a))\n",
    "\n",
    "# a 10 olduğu için True değerini döndürür\n",
    "a = 10\n",
    "print(bool(a))"
   ]
  },
  {
   "attachments": {},
   "cell_type": "markdown",
   "metadata": {},
   "source": [
    "# Python Veri Türü Dönüşümü\n",
    "Bazen yerleşik veri türleri arasında dönüşüm gerçekleştirmeniz gerekebilir. Verileri farklı Python veri türleri arasında dönüştürmek için, tür adını bir işlev olarak kullanmanız yeterlidir."
   ]
  },
  {
   "cell_type": "code",
   "execution_count": null,
   "metadata": {},
   "outputs": [],
   "source": [
    "a = int(1)     # a 1 olacak\n",
    "b = int(2.2)   # b 2 olacak\n",
    "c = int(\"3\")   # c 3 olacak\n",
    "\n",
    "print (a)\n",
    "print (b)\n",
    "print (c)"
   ]
  },
  {
   "cell_type": "code",
   "execution_count": null,
   "metadata": {},
   "outputs": [],
   "source": [
    "a = float(1)     # a 1.0 olacak\n",
    "b = float(2.2)   # b 2.2 olacak\n",
    "c = float(\"3.3\") # c 3.3 olacak\n",
    "\n",
    "print (a)\n",
    "print (b)\n",
    "print (c)"
   ]
  },
  {
   "cell_type": "code",
   "execution_count": null,
   "metadata": {},
   "outputs": [],
   "source": [
    "a = str(1)     # a \"1\" olacak\n",
    "b = str(2.2)   # b \"2.2\" olacak\n",
    "c = str(\"3.3\") # c \"3.3\" olacak\n",
    "\n",
    "print (a)\n",
    "print (b)\n",
    "print (c)"
   ]
  }
 ],
 "metadata": {
  "kernelspec": {
   "display_name": "Python 3",
   "language": "python",
   "name": "python3"
  },
  "language_info": {
   "codemirror_mode": {
    "name": "ipython",
    "version": 3
   },
   "file_extension": ".py",
   "mimetype": "text/x-python",
   "name": "python",
   "nbconvert_exporter": "python",
   "pygments_lexer": "ipython3",
   "version": "3.11.1"
  },
  "orig_nbformat": 4,
  "vscode": {
   "interpreter": {
    "hash": "5c7b89af1651d0b8571dde13640ecdccf7d5a6204171d6ab33e7c296e100e08a"
   }
  }
 },
 "nbformat": 4,
 "nbformat_minor": 2
}
