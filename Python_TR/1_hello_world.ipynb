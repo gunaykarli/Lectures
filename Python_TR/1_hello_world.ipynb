{
 "cells": [
  {
   "attachments": {},
   "cell_type": "markdown",
   "metadata": {},
   "source": [
    "# Düşünme Biçimi\n",
    "\n",
    "İş dünyasında bir kişi için en önemli beceri problem çözmektir. Problem çözme, problemleri formüle etme, çözümler hakkında yaratıcı düşünme ve bir çözümü açık ve doğru bir şekilde ifade etme yeteneği anlamına gelir."
   ]
  },
  {
   "attachments": {},
   "cell_type": "markdown",
   "metadata": {},
   "source": [
    "# Program nedir? \n",
    "Bir program, bir hesaplamanın nasıl gerçekleştirileceğini belirten bir *talimatlar dizisidir*.\n",
    "Hesaplama, bir denklem sistemini çözmek gibi matematiksel bir şey olabildiği gibi, bir belgedeki metni aramak ve değiştirmek gibi sembolik bir hesaplama yada bir görüntüyü işlemek veya bir videoyu oynatmak gibi grafiksel bir şey de olabilir.\n",
    "Ayrıntılar farklı dillerde farklı görünür, ancak hemen hemen her dilde birkaç temel talimat bulunur:\n",
    "\n",
    "- girdi *(input)*: Klavyeden, dosyadan, ağdan veya başka bir cihazdan veri alın.\n",
    "- çıktı *(output)*: Verileri ekranda görüntüleyin, bir dosyaya kaydedin, ağ üzerinden gönderin, vb.\n",
    "- matematik: Toplama ve çarpma gibi temel matematiksel işlemleri gerçekleştirin.\n",
    "- koşullu yürütme: Belirli koşulları kontrol edin ve uygun kodu çalıştırın.\n",
    "- tekrarlama: Genellikle bazı değişikliklerle, bazı eylemleri tekrar tekrar gerçekleştirin.\n",
    "\n",
    "İster inanın ister inanmayın, hepsi bu kadar."
   ]
  },
  {
   "attachments": {},
   "cell_type": "markdown",
   "metadata": {},
   "source": [
    "\n",
    "# Python\n",
    "Python, son yıllarda dünyanın en popüler programlama dillerinden biri haline geldi. Makine öğreniminden web siteleri oluşturmaya ve yazılım testine kadar her şeyde kullanılır.\n",
    "\n",
    "# Python genel amaçlı bir dildir\n",
    "Python, Netflix'in öneri algoritması ve sürücüsüz arabaları kontrol eden yazılımları geliştirmekte kullanıldı. Python genel amaçlı bir dildir, yani veri bilimi, yazılım ve web geliştirme, otomasyon dahil olmak üzere çeşitli uygulamalarda kullanılmak üzere tasarlanmıştır.\n",
    "\n",
    "# Veri analizi ve makine öğrenimi\n",
    "Python, veri analistleri, bilim insanları ve diğer profesyoneller tarafından karmaşık hesaplamalar yapmak, veri görselleştirmeleri oluşturmak, makine öğrenimi algoritmaları geliştirmek, verileri manipüle ve analiz etmek ve verilerle ilgili diğer görevleri tamamlamak için kullanılabildiği için veri biliminde bir temel haline geldi."
   ]
  },
  {
   "attachments": {},
   "cell_type": "markdown",
   "metadata": {},
   "source": [
    "# Bir Python Programını Çalıştırmak\n",
    "Python yorumlayıcısı *(interpreter)*, Python kodunu okuyan ve yürüten bir programdır. Geliştirme ortamınıza bağlı olarak, yorumlayıcıyı bir simgeye tıklayarak veya komut satırına python yazarak başlatabilirsiniz. Başladığında, programın çıktısını *(output)* görmelisiniz."
   ]
  },
  {
   "attachments": {},
   "cell_type": "markdown",
   "metadata": {},
   "source": [
    "# Debugging - hata ayıklama\n",
    "Programcılar hata yapar. Tuhaf sebeplerden dolayı, programlama hatalarına böcek *(bug)* denir.\n",
    "ve onları bulup çözme işlemine hata ayıklama *(debugging)* denir.\n",
    "Programlama ve özellikle hata ayıklama bazen negatif duyguları ortaya çıkarır. Eğer \n",
    "çetrefilli bir böcekle mücadele ediyorsanız, kızgın, umutsuz veya utanmış hissedebilirsiniz.\n",
    "Sabredin..."
   ]
  },
  {
   "attachments": {},
   "cell_type": "markdown",
   "metadata": {},
   "source": [
    "# Hello World!\n",
    "Programlama dünyasında, yeni bir dilde ilk programınız olarak ekrana Hello world! (Merhaba Dünya!) mesajı çıkartmanın size iyi şans getireceğine inanılır."
   ]
  },
  {
   "cell_type": "code",
   "execution_count": 1,
   "metadata": {},
   "outputs": [],
   "source": [
    "print(\"Merhaba Dünya\")"
   ]
  }
 ],
 "metadata": {
  "kernelspec": {
   "display_name": "Python 3.8.9 64-bit",
   "language": "python",
   "name": "python3"
  },
  "language_info": {
   "codemirror_mode": {
    "name": "ipython",
    "version": 3
   },
   "file_extension": ".py",
   "mimetype": "text/x-python",
   "name": "python",
   "nbconvert_exporter": "python",
   "pygments_lexer": "ipython3",
   "version": "3.8.9"
  },
  "orig_nbformat": 4,
  "vscode": {
   "interpreter": {
    "hash": "31f2aee4e71d21fbe5cf8b01ff0e069b9275f58929596ceb00d14d90e3e16cd6"
   }
  }
 },
 "nbformat": 4,
 "nbformat_minor": 2
}
