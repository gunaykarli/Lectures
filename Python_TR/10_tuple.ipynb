{
 "cells": [
  {
   "attachments": {},
   "cell_type": "markdown",
   "metadata": {},
   "source": [
    "# Tuple (Demet)"
   ]
  },
  {
   "attachments": {},
   "cell_type": "markdown",
   "metadata": {},
   "source": [
    "Tuple, sıralı ve değişmez olan nesnelerin koleksiyonudur. Tuple tıpkı liste gibi bir dizedir. \n",
    "\n",
    "Tuplelar ve listeler arasındaki farklar:\n",
    "- listelerin aksine tuplelar değiştirilemez\n",
    "- tuple parantez kullanırken, listeler köşeli parantez kullanırr.\n",
    "\n",
    "Tuple oluşturmak, virgülle ayrılmış farklı değerler koymak kadar basittir. İsteğe bağlı olarak bu virgülle ayrılmış değerleri de parantez içine alabilirsiniz."
   ]
  },
  {
   "cell_type": "code",
   "execution_count": null,
   "metadata": {},
   "outputs": [],
   "source": [
    "tup1 = ('physics', 'chemistry', 1997, 2000)\n",
    "tup2 = (1, 2, 3, 4, 5 )\n",
    "tup3 = \"a\", \"b\", \"c\", \"d\""
   ]
  },
  {
   "attachments": {},
   "cell_type": "markdown",
   "metadata": {},
   "source": [
    "Boş tuple, hiçbir şey içermeyen iki parantez olarak yazılır."
   ]
  },
  {
   "cell_type": "code",
   "execution_count": null,
   "metadata": {},
   "outputs": [],
   "source": [
    "tup1 = ()"
   ]
  },
  {
   "attachments": {},
   "cell_type": "markdown",
   "metadata": {},
   "source": [
    "String dizinleri gibi, tuple dizinleri de 0'dan başlar ve dilimlenebilir, birleştirilebilir vb."
   ]
  },
  {
   "attachments": {},
   "cell_type": "markdown",
   "metadata": {},
   "source": [
    "# Tuple değerlerine ulaşma\n",
    "Tuple'daki değerlere erişmek için dilimleme (slicing) için köşeli parantezleri ve dizini veya dizinleri kullanın"
   ]
  },
  {
   "cell_type": "code",
   "execution_count": 2,
   "metadata": {},
   "outputs": [
    {
     "name": "stdout",
     "output_type": "stream",
     "text": [
      "tup1[0]:  physics\n",
      "tup2[1:5]:  (2, 3, 4, 5)\n"
     ]
    }
   ],
   "source": [
    "tup1 = ('physics', 'chemistry', 1997, 2000)\n",
    "tup2 = (1, 2, 3, 4, 5, 6, 7 )\n",
    "print(\"tup1[0]: \", tup1[0])\n",
    "print(\"tup2[1:5]: \", tup2[1:5])"
   ]
  },
  {
   "attachments": {},
   "cell_type": "markdown",
   "metadata": {},
   "source": [
    "# Tuple Güncelleme\n",
    "Tuple'lar değişmezdir, yani tuple elemanlarının değerlerini güncelleyemez veya değiştiremezsiniz. Yeni tuple'lar oluşturmak için mevcut tuple'ların bölümlerini alabilirsiniz."
   ]
  },
  {
   "cell_type": "code",
   "execution_count": null,
   "metadata": {},
   "outputs": [],
   "source": [
    "tup1 = (12, 34.56)\n",
    "tup2 = ('abc', 'xyz')\n",
    "\n",
    "# Aşağıdaki işlem tuple'lar için geçerli değil\n",
    "# tup1[0] = 100;\n",
    "\n",
    "# O halde aşağıdaki gibi yeni bir tuple oluşturalım.\n",
    "tup3 = tup1 + tup2\n",
    "print(tup3)"
   ]
  },
  {
   "attachments": {},
   "cell_type": "markdown",
   "metadata": {},
   "source": [
    "# Tuple Elemanlarını Silme\n",
    "Tek tek tuple öğelerini kaldırmak mümkün değildir. Elbette, istenmeyen öğeler atılarak başka bir demet oluşturmanın yanlış bir tarafı yoktur.\n",
    "\n",
    "Bir demetin tamamını açık bir şekilde kaldırmak için del ifadesini kullanmanız yeterlidir."
   ]
  },
  {
   "cell_type": "code",
   "execution_count": null,
   "metadata": {},
   "outputs": [],
   "source": [
    "tup = ('physics', 'chemistry', 1997, 2000);\n",
    "print(tup)\n",
    "del tup\n",
    "print(\"tup'ı sildikten sonra:\")\n",
    "print(tup)"
   ]
  },
  {
   "attachments": {},
   "cell_type": "markdown",
   "metadata": {},
   "source": [
    "# Temel Tuple İşlemleri\n",
    "Tuple'lar + ve * işleçlerine string'lere çok benzer şekilde yanıt verir; sonucun bir string değil, yeni bir tuple olması dışında burada da birleştirme ve tekrarlama anlamına gelir.\n",
    "\n",
    "Aslında, tuple'lar tüm genel dizi işlemlerine yanıt verir."
   ]
  },
  {
   "cell_type": "code",
   "execution_count": null,
   "metadata": {},
   "outputs": [],
   "source": [
    "print(len((1, 2, 3)))\n",
    "print((1, 2, 3) + (4, 5, 6))\n",
    "print(('Hi!',) * 4)\n",
    "print(3 in (1, 2, 3))\n",
    "for x in (1, 2, 3): print(x)"
   ]
  },
  {
   "attachments": {},
   "cell_type": "markdown",
   "metadata": {},
   "source": [
    "# İndeksleme, Slicing ve Matrisler\n",
    "Tupla'lar dize olduğundan, indeksleme ve dilimleme, tuple'lar için dizelerde olduğu gibi aynı şekilde çalışır."
   ]
  },
  {
   "cell_type": "code",
   "execution_count": 8,
   "metadata": {},
   "outputs": [
    {
     "name": "stdout",
     "output_type": "stream",
     "text": [
      "PYTHON!\n",
      "Python\n",
      "('Python', 'PYTHON!')\n"
     ]
    }
   ],
   "source": [
    "L = ('python', 'Python', 'PYTHON!')\n",
    "print(L[2])\n",
    "print(L[-2])\n",
    "print(L[1:])"
   ]
  }
 ],
 "metadata": {
  "kernelspec": {
   "display_name": "Python 3.8.9 64-bit",
   "language": "python",
   "name": "python3"
  },
  "language_info": {
   "codemirror_mode": {
    "name": "ipython",
    "version": 3
   },
   "file_extension": ".py",
   "mimetype": "text/x-python",
   "name": "python",
   "nbconvert_exporter": "python",
   "pygments_lexer": "ipython3",
   "version": "3.9.6"
  },
  "orig_nbformat": 4,
  "vscode": {
   "interpreter": {
    "hash": "31f2aee4e71d21fbe5cf8b01ff0e069b9275f58929596ceb00d14d90e3e16cd6"
   }
  }
 },
 "nbformat": 4,
 "nbformat_minor": 2
}
