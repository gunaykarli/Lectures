{
 "cells": [
  {
   "attachments": {},
   "cell_type": "markdown",
   "metadata": {},
   "source": [
    "# Koşullu yürütme\n",
    "İşe yarar programlar yazmak için, hemen her zaman koşulları kontrol etme ve programın davranışını buna göre değiştirme yeteneğine ihtiyaç duyarız. Koşullu ifadeler bize bu yeteneği verir. En basit biçim if ifadesidir:"
   ]
  },
  {
   "cell_type": "code",
   "execution_count": 1,
   "metadata": {},
   "outputs": [],
   "source": [
    "x = int(input(\"Bir sayı gir\"))\n",
    "if x > 0:\n",
    "    print('x positif')\n",
    "\n",
    "print('programın sonu')"
   ]
  },
  {
   "attachments": {},
   "cell_type": "markdown",
   "metadata": {},
   "source": [
    "If'den sonraki boolean ifadesi koşul olarak adlandırılır. Doğruysa, girintili ifade çalışır. Değilse, hiçbir şey olmaz."
   ]
  },
  {
   "attachments": {},
   "cell_type": "markdown",
   "metadata": {},
   "source": [
    "# Alternatif yürütme\n",
    "If ifadesinin ikinci bir biçimi, iki olasılığın olduğu ve koşulun hangisinin çalışacağını belirlediği \"alternatif yürütme\"dir. Sözdizimi (syntax) şöyle görünür:"
   ]
  },
  {
   "cell_type": "code",
   "execution_count": null,
   "metadata": {},
   "outputs": [],
   "source": [
    "x = int(input(\"Bir sayı gir\"))\n",
    "\n",
    "if x % 2 == 0:\n",
    "    print('x çift sayı')\n",
    "else:\n",
    "    print('x tek sayı')"
   ]
  },
  {
   "attachments": {},
   "cell_type": "markdown",
   "metadata": {},
   "source": [
    "x'in 2'ye bölümünden kalan 0 sayesinde x'in çift olduğunu biliyoruz ve program uygun bir mesaj gösteriyor. Koşul yanlışsa, ikinci ifade grubu çalışır. Koşul doğru veya yanlış olması gerektiğinden, alternatiflerden tam olarak biri çalışacaktır."
   ]
  },
  {
   "attachments": {},
   "cell_type": "markdown",
   "metadata": {},
   "source": [
    "# İç içe (Zincirlenmiş) Koşul Cümleleri \n",
    "Bazen ikiden fazla olasılık vardır ve ikiden fazla şubeye ihtiyaç duyarız. Bunun gibi bir hesaplamayı ifade etmenin bir yolu, iç içe (zincirlenmiş) bir koşuldur:"
   ]
  },
  {
   "cell_type": "code",
   "execution_count": null,
   "metadata": {},
   "outputs": [],
   "source": [
    "x = int(input(\"x değerini girin: \"))\n",
    "y = int(input(\"y değerini girin: \"))\n",
    "\n",
    "if x < y:\n",
    "    print(\"x y'den küçüktür\")\n",
    "elif x > y:\n",
    "    print(\"x y'den büyüktür\")\n",
    "else:\n",
    "    print(\"x ve y eşittir\")"
   ]
  },
  {
   "attachments": {},
   "cell_type": "markdown",
   "metadata": {},
   "source": [
    "elif, \"else if\"in kısaltmasıdır. Yine tam olarak bir dal çalışacak. Elif ifadelerinin sayısında bir sınırlama yoktur. Eğer else ifadesi mevcutsa, sonda olması gerekir, ancak bir tane olmak zorunda değildir."
   ]
  },
  {
   "attachments": {},
   "cell_type": "markdown",
   "metadata": {},
   "source": [
    "# Örnek - 1\n",
    "Bu alıştırmada, kullanıcıdan alfabedeki bir harfi okuyan bir program oluşturacaksınız. Kullanıcı a, e, i, o veya u girerse, programınız girilen harfin sesli harf olduğunu belirten bir mesaj göstermelidir. Aksi takdirde, programınız harfin bir ünsüz olduğunu belirten bir mesaj göstermelidir."
   ]
  },
  {
   "cell_type": "code",
   "execution_count": null,
   "metadata": {},
   "outputs": [],
   "source": [
    "# versiyon 1\n",
    "harf = input(\"Lütfen alfabeden bir harf giriniz: \").lower()\n",
    "\n",
    "if harf == \"a\":\n",
    "\tprint(\"Bu harf seslidir.\")\n",
    "elif harf == \"e\":\n",
    "\tprint(\"Bu harf seslidir.\")\n",
    "elif harf == \"i\":\n",
    "\tprint(\"Bu harf seslidir.\")\n",
    "elif harf == \"o\":\n",
    "\tprint(\"Bu harf seslidir.\")\n",
    "elif harf == \"u\":\n",
    "\tprint(\"Bu harf seslidir.\")\n",
    "else:\n",
    "\tprint(\"Bu harf ünsüzdür.\")"
   ]
  },
  {
   "cell_type": "code",
   "execution_count": null,
   "metadata": {},
   "outputs": [],
   "source": [
    "# versiyon 2\n",
    "harf = input(\"Lütfen alfabeden bir harf giriniz: \").lower()\n",
    "\n",
    "if harf == \"a\" or harf == \"e\" or harf == \"i\" or harf == \"o\" or harf == \"u\":\n",
    "    print(\"Bu harf seslidir.\")\n",
    "else:\n",
    "\tprint(\"Bu harf ünsüzdür.\")"
   ]
  },
  {
   "cell_type": "code",
   "execution_count": null,
   "metadata": {},
   "outputs": [],
   "source": [
    "# versiyon 3\n",
    "letter = input(\"Lütfen alfabeden bir harf giriniz: \").lower()\n",
    "\n",
    "if letter in \"aeiou\":\n",
    "\tprint(\"Bu harf seslidir.\")\n",
    "else:\n",
    "\tprint(\"Bu harf ünsüzdür.\")"
   ]
  },
  {
   "attachments": {},
   "cell_type": "markdown",
   "metadata": {},
   "source": [
    "# Örnek - 2\n",
    "Bir ayın uzunluğu 28 ila 31 gün arasında değişmektedir. Bu alıştırmada, kullanıcıdan bir ayın adını bir string (dizi) olarak okuyan bir program oluşturacaksınız. Ardından programınız o aydaki gün sayısını göstermelidir. Artık yılların ele alınması için Şubat için “28 veya 29 gün” görüntüleyin."
   ]
  },
  {
   "cell_type": "code",
   "execution_count": null,
   "metadata": {},
   "outputs": [
    {
     "ename": "",
     "evalue": "",
     "output_type": "error",
     "traceback": [
      "\u001b[1;31mRunning cells with '/usr/bin/python3' requires ipykernel package.\n",
      "\u001b[1;31mRun the following command to install 'ipykernel' into the Python environment. \n",
      "\u001b[1;31mCommand: '/usr/bin/python3 -m pip install ipykernel -U --user --force-reinstall'"
     ]
    }
   ],
   "source": [
    "# versiyon 1\n",
    "month = input(\"Lütfen bir ayın adını girin: \").lower()\n",
    "\n",
    "if month == \"eylül\" or month == \"nisan\" or month == \"haziran\" or month == \"kasım\":\n",
    "\tprint(\"Bu ayda 30 gün vardır.\")\n",
    "elif month == \"şubat\":\n",
    "\tprint(\"Bu ayda 28 veya 29 gün gün vardır.\")\n",
    "else:\n",
    "\tprint(\"Bu ayda 31 gün vardır.\")"
   ]
  },
  {
   "cell_type": "code",
   "execution_count": null,
   "metadata": {},
   "outputs": [],
   "source": [
    "# versiyon 2\n",
    "month = input(\"Lütfen bir ayın adını girin: \").lower()\n",
    "year = int(input(\"Lütfen yılı giriniz: \"))\n",
    "\n",
    "if month == \"eylül\" or month == \"nisan\" or month == \"haziran\" or month == \"kasım\":\n",
    "\tprint(\"Bu ayda 30 gün vardır.\")\n",
    "elif month == \"şubat\":\n",
    "    if year % 4 == 0:\n",
    "\t    print(\"Bu ayda 29 gün vardır.\")\n",
    "    else:\n",
    "        print(\"Bu ayda 28 gün vardır.\")\n",
    "else:\n",
    "\tprint(\"Bu ayda 31 gün vardır.\")"
   ]
  },
  {
   "attachments": {},
   "cell_type": "markdown",
   "metadata": {},
   "source": [
    "# Örnek - 3\n",
    "Bir üçgen, kenarlarının uzunluklarına göre eşkenar, ikizkenar veya çeşitkenar olarak sınıflandırılabilir. Bir eşkenar üçgenin 3 kenarı da aynı uzunluğa sahiptir. Bir ikizkenar üçgenin aynı uzunlukta iki kenarı ve farklı uzunlukta olan üçüncü bir kenarı vardır. Tüm kenar uzunlukları farklı ise bu üçgen çeşitkenardır. Üçgenin 3 kenarının uzunluklarını kullanıcıdan okuyan bir program yazınız.\n",
    "Üçgenin türünü gösteren bir mesaj görüntüleyin."
   ]
  },
  {
   "cell_type": "code",
   "execution_count": null,
   "metadata": {},
   "outputs": [],
   "source": [
    "s1 = float(input(\"Lütfen bir üçgenin ilk kenarının uzunluğunu girin: \"))\n",
    "s2 = float(input(\"Lütfen bir üçgenin ikinci kenarının uzunluğunu girin: \"))\n",
    "s3 = float(input(\"Lütfen üçgenin üçüncü kenarının uzunluğunu girin: \"))\n",
    "\n",
    "triangle_type = \"\"\n",
    "\n",
    "if s1 == s2 == s3:\n",
    "\ttriangle_type = \"eşkenar\"\n",
    "elif s1 == s2 or s1 == s3 or s2 == s3:\n",
    "\ttriangle_type = \"ikizkenar\"\n",
    "else:\n",
    "\ttriangle_type = \"çeşitkenar\"\n",
    "\t\n",
    "print(\"Bu bir {} üçgen.\".format(triangle_type))"
   ]
  },
  {
   "attachments": {},
   "cell_type": "markdown",
   "metadata": {},
   "source": [
    "# Örnek - 4\n",
    "Bir ülkenin eski liderlerinin veya tarihsel öneme sahip diğer kişilerin resimlerinin paralarının üzerinde görünmesi yaygın bir durumdur. ABD banknotları üzerinde görünen kişiler aşağıda listelenmiştir.\n",
    "Bir banknotun değerini okuyarak başlayan bir program yazınız.\n",
    "Ardından programınız, girilen tutarın banknotunda görünen kişinin adını göstermelidir. Böyle bir banknot yoksa uygun bir hata mesajı görüntülenmelidir.\n",
    "\n",
    "**Kişi ve $ değeri:**\\\n",
    "George Washington   $1\\\n",
    "Thomas Jefferson    $2\\\n",
    "Abraham Lincoln     $5\\\n",
    "Alexander Hamilton  $10\\\n",
    "Andrew Jackson      $20\\\n",
    "Ulysses S. Grant    $50\\\n",
    "Benjamin Franklin   $100"
   ]
  },
  {
   "cell_type": "code",
   "execution_count": null,
   "metadata": {},
   "outputs": [],
   "source": [
    "bank_note_amount = int(input(\"Lütfen bir banknot tutarı girin: $\")) # banknot tutarı\n",
    "\n",
    "individual_name = \"\"\t\t\t\t\t\t\t\t\t\t\t\t# resimdeki kişinin ismi\n",
    "\n",
    "if bank_note_amount == 1:\n",
    "\tindividual_name = \"George Washington\"\n",
    "if bank_note_amount == 2:\n",
    "\tindividual_name = \"Thomas Jefferson\"\n",
    "if bank_note_amount == 5:\n",
    "\tindividual_name = \"Abraham Lincoln\"\n",
    "if bank_note_amount == 10:\n",
    "\tindividual_name = \"Alexander Hamilton\"\n",
    "if bank_note_amount == 20:\n",
    "\tindividual_name = \"Andrew Jackson\"\n",
    "if bank_note_amount == 50:\n",
    "\tindividual_name = \"Ulysses S. Grant\"\n",
    "if bank_note_amount == 100:\n",
    "\tindividual_name = \"Benjamin Franklin\"\n",
    "\t\n",
    "if individual_name == \"\":\n",
    "\tprint(\"Bu dolaşımda olan bir Amerikan banknotu değil.\")\n",
    "else:\n",
    "\tprint(\"Bu banknottaki kişi {}.\".format(individual_name))"
   ]
  },
  {
   "attachments": {},
   "cell_type": "markdown",
   "metadata": {},
   "source": [
    "# Örnek - 5\n",
    "Yıl dört mevsime ayrılmıştır: ilkbahar, yaz, sonbahar ve kış. Mevsimlerin değiştiği kesin tarihler, takvimin oluşturulma biçiminden dolayı yıldan yıla biraz farklılık gösterse de, bu alıştırma için aşağıdaki tarihleri kullanacağız:\n",
    "\n",
    "**Mevsim ve İlk günü**\\\n",
    "İlkbahar - 20 Mart \\\n",
    "Yaz - 21 Haziran\\\n",
    "Sonbahar   -  22 eylül\\\n",
    "Kış -  21 Aralık\n",
    "    "
   ]
  },
  {
   "cell_type": "code",
   "execution_count": null,
   "metadata": {},
   "outputs": [],
   "source": [
    "month = input(\"Lütfen ayın adını girin\").lower()\t# ay\n",
    "day = int(input(\"Lütfen bu aydan bir gün seçin \"))\t# gün\n",
    "\n",
    "season = \"\"\t\t\t\t\t\t\t\t\t\t\t# mevsim\n",
    "\n",
    "spring, summer, fall, winter = False\t\t\t\t# ilkbahar, yaz, sonbahar, kış\n",
    "\n",
    "if month == \"mart\" or month == \"nisan\" or month == \"mayıs\" or month == \"haziran\":\n",
    "    if month == \"mart\" and day >= 20:\n",
    "        spring = True\n",
    "        \n",
    "    elif month == \"nisan\" or month == \"may\":\n",
    "        spring  = True\n",
    "        \n",
    "    elif month == \"haziran\" and day < 21:\n",
    "        spring = True\n",
    "        \n",
    "if month == \"haziran\" or month == \"temmuz\" or month == \"ağustos\" or month == \"eylül\":\n",
    "    if month  == \"haziran\" and day >= 21:\n",
    "        summer = True\n",
    "        \n",
    "    elif month == \"temmuz\" or month == \"ağustos\":\n",
    "        summer = True\n",
    "        \n",
    "    elif month == \"eylül\" and day < 22:\n",
    "        summer = True\n",
    "        \n",
    "\n",
    "if month == 'eylül' or month == \"ekim\" or month == \"kasım\" or month == \"aralık\":\n",
    "    if month == \"eylül\" and day >= 22:\n",
    "        fall = True\n",
    "        \n",
    "    elif month == \"ekim\" or month == \"kasım\":\n",
    "        fall = True\n",
    "        \n",
    "    elif month == \"aralık\" and day < 21:\n",
    "        fall = True\n",
    "        \n",
    "if month == \"aralık\" or month == \"şubat\" or month == \"aralık\" or month == \"mart\":\n",
    "    if month == \"ekim\" and day >= 20:\n",
    "        winter = True\n",
    "        \n",
    "    elif month == \"ocak\" or month == \"şubat\":\n",
    "        winter = True\n",
    "        \n",
    "    elif month == \"eylül\" and day < 20:\n",
    "        winter = True\n",
    "        \n",
    "if spring:\n",
    "    print(\"Bu tarih ilkbahara denk geliyor.\")\n",
    "elif summer:\n",
    "    print(\"Bu tarih yaza denk geliyor.\")\n",
    "elif fall:\n",
    "    print(\"Bu tarih sonbahara denk geliyor.\")\n",
    "elif winter:\n",
    "    print(\"TBu tarih kışa denk geliyor.\")\n"
   ]
  },
  {
   "attachments": {},
   "cell_type": "markdown",
   "metadata": {},
   "source": [
    "# Örnek - 6\n",
    "Aşağıdaki tablo, Richter ölçeğindeki deprem büyüklük aralıklarını ve\n",
    "tanımlayıcılarını içerir:\n",
    "\n",
    "**Büyüklük (Magnitude)  -    Tanımlayıcı (Descriptor)** \\\n",
    "2.0'dan az ->         Mikro (Micro)\\\n",
    "2.0 ile 3.0 arasıda  -> Çok küçük (Very minor)\\\n",
    "3.0 ile 4.0  arasıda -> Küçük (Minor)\\\n",
    "4.0 ile 5.0  arasıda -> Hafif (Light)\\\n",
    "5.0 ile 6.0 arasıda  -> Orta (Moderate)\\\n",
    "6.0 ile 7.0 arasında  -> Ağır (Strong) \\\n",
    "7.0 ile 8.0 arasında  -> Büyük (Major)\\\n",
    "8.0 ile 10.0 arasında -> Harika (Great) \\\n",
    "10.0'dan fazla          ->  Meteorik (Meteoric)      \n",
    "        \n",
    "Kullanıcıdan depren büyüklüğünü (magnitude) okuyan ve anlamlı bir mesajın parçası olarak uygun tanımlayıcıyı (descriptor) görüntüleyen bir program yazın. Örneğin, kullanıcı 5,5 girerse, programınız 5,5 büyüklüğündeki bir depremin orta şiddette bir deprem olarak kabul edildiğini belirtmelidir."
   ]
  },
  {
   "cell_type": "code",
   "execution_count": null,
   "metadata": {},
   "outputs": [],
   "source": [
    "magnitude = float(input(\"Bir deprem büyüklüğü girin:\"))\n",
    "\n",
    "if magnitude < 2.0:\n",
    "\tdescriptor = \"Mikro\"\n",
    "elif magnitude >= 2.0 and magnitude < 3.0:\n",
    "\tdescriptor = \"Çok küçük\"\n",
    "elif magnitude >= 3.0 and magnitude < 4.0:\n",
    "\tdescriptor = \"Küçük\"\n",
    "elif magnitude >= 4.0 and magnitude < 5.0:\n",
    "\tdescriptor = \"Hafif\"\n",
    "elif magnitude >= 5.0 and magnitude < 6.0:\n",
    "\tdescriptor = \"Orta\"\n",
    "elif magnitude >= 6.0 and magnitude < 7.0:\n",
    "\tdescriptor = \"Ağır\"\n",
    "elif magnitude >= 7.0 and magnitude < 8.0:\n",
    "\tdescriptor = \"Büyük\"\n",
    "elif magnitude >= 8.0 and magnitude < 10.0:\n",
    "\tdescriptor = \"Harika\"\n",
    "else:\n",
    "\tdescriptor = \"Meteorik\"\n",
    "\t\n",
    "print(\"Bu deprem büyüklüğü '{}' olarak sınıflandırılır. \".format(descriptor))"
   ]
  }
 ],
 "metadata": {
  "kernelspec": {
   "display_name": "Python 3",
   "language": "python",
   "name": "python3"
  },
  "language_info": {
   "codemirror_mode": {
    "name": "ipython",
    "version": 3
   },
   "file_extension": ".py",
   "mimetype": "text/x-python",
   "name": "python",
   "nbconvert_exporter": "python",
   "pygments_lexer": "ipython3",
   "version": "3.11.1 (main, Dec 23 2022, 09:28:24) [Clang 14.0.0 (clang-1400.0.29.202)]"
  },
  "orig_nbformat": 4,
  "vscode": {
   "interpreter": {
    "hash": "5c7b89af1651d0b8571dde13640ecdccf7d5a6204171d6ab33e7c296e100e08a"
   }
  }
 },
 "nbformat": 4,
 "nbformat_minor": 2
}
