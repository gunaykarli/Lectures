{
 "cells": [
  {
   "attachments": {},
   "cell_type": "markdown",
   "metadata": {},
   "source": [
    "# Koşullu ifadeler\n",
    "Python'da koşul ifadeleri, verilen bir koşulun doğru veya yanlış olmasına bağlı olarak hareket eder. Bir koşulun sonucuna bağlı olarak farklı kod bloklarını çalıştırabilirsiniz. Koşul ifadeleri her zaman True veya False olarak değerlendirilir.\n",
    "Dört tür koşullu ifade vardır.\n",
    "\n",
    "- if ifadesi\n",
    "- if-else\n",
    "- if-elif-else\n",
    "-  nested if-else (iç içe)\n",
    "\n",
    "# Koşullu yürütme; if\n",
    "İşe yarar programlar yazmak için, hemen her zaman koşulları kontrol etme ve programın davranışını buna göre değiştirme yeteneğine ihtiyaç duyarız. Koşullu ifadeler bize bu yeteneği verir. En basit biçim if ifadesidir:"
   ]
  },
  {
   "cell_type": "code",
   "execution_count": 1,
   "metadata": {},
   "outputs": [],
   "source": [
    "x = int(input(\"Bir sayı gir\"))\n",
    "if x > 0:\n",
    "    print('x positif')\n",
    "\n",
    "print('programın sonu')"
   ]
  },
  {
   "attachments": {},
   "cell_type": "markdown",
   "metadata": {},
   "source": [
    "If'den sonraki boolean ifadesi koşul olarak adlandırılır. Doğruysa, girintili ifade çalışır. Değilse, hiçbir şey olmaz."
   ]
  },
  {
   "attachments": {},
   "cell_type": "markdown",
   "metadata": {},
   "source": [
    "- 5'ten büyükse verilen sayının karesini hesapla:"
   ]
  },
  {
   "cell_type": "code",
   "execution_count": null,
   "metadata": {},
   "outputs": [],
   "source": [
    "number = int(input(\"Bir sayı girin\"))\n",
    "if number > 5:\n",
    "    # karesini hesapla\n",
    "    print(number * number)\n",
    "    \n",
    "print('Sonraki kod satırları')"
   ]
  },
  {
   "attachments": {},
   "cell_type": "markdown",
   "metadata": {},
   "source": [
    "# Quiz\n",
    "\n",
    "Bir mobil uygulamanın fiyatını alın. fiyat sıfır değilse, program \"Uygulama ücretsiz DEĞİLDİR\" çıktısını vesin."
   ]
  },
  {
   "cell_type": "code",
   "execution_count": null,
   "metadata": {},
   "outputs": [],
   "source": [
    "fiyat = int(input(\"Uygulamanın fiyatını girin\"))\n",
    "\n",
    "if fiyat != 0:\n",
    "    print(\"Uygulama ücretsiz DEĞİLDİR\")"
   ]
  },
  {
   "attachments": {},
   "cell_type": "markdown",
   "metadata": {},
   "source": [
    "# Alternatif yürütme; if-else\n",
    "If ifadesinin ikinci bir biçimi, iki olasılığın olduğu ve koşulun hangisinin çalışacağını belirlediği \"alternatif yürütme\"dir. Sözdizimi (syntax) şöyle görünür:"
   ]
  },
  {
   "cell_type": "code",
   "execution_count": null,
   "metadata": {},
   "outputs": [],
   "source": [
    "x = int(input(\"Bir sayı gir\"))\n",
    "\n",
    "if x % 2 == 0:\n",
    "    print('x çift sayı')\n",
    "else:\n",
    "    print('x tek sayı')"
   ]
  },
  {
   "attachments": {},
   "cell_type": "markdown",
   "metadata": {},
   "source": [
    "x'in 2'ye bölümünden kalan 0 sayesinde x'in çift olduğunu biliyoruz ve program uygun bir mesaj gösteriyor. Koşul yanlışsa, ikinci ifade grubu çalışır. Koşul doğru veya yanlış olması gerektiğinden, alternatiflerden tam olarak biri çalışacaktır."
   ]
  },
  {
   "attachments": {},
   "cell_type": "markdown",
   "metadata": {},
   "source": [
    "- Şifre  kontrolü:"
   ]
  },
  {
   "cell_type": "code",
   "execution_count": null,
   "metadata": {},
   "outputs": [],
   "source": [
    "password = input('Şifrenizi girin ')\n",
    "\n",
    "if password == \"123.qaz\":\n",
    "    print(\"Şifre Doğru\")\n",
    "else:\n",
    "    print(\"Şifre Yanlış\")"
   ]
  },
  {
   "attachments": {},
   "cell_type": "markdown",
   "metadata": {},
   "source": [
    "# Quiz\n",
    "if-else kullanarak, a ve b sayılarından küçük olanı m değişkenine atayan kodu yazın"
   ]
  },
  {
   "cell_type": "code",
   "execution_count": null,
   "metadata": {},
   "outputs": [],
   "source": [
    "a = int(input(\" a sayısının değerini girin\"))\n",
    "b = int(input(\" b sayısının değerini girin\"))"
   ]
  },
  {
   "attachments": {},
   "cell_type": "markdown",
   "metadata": {},
   "source": [
    "#  Zincirlenmiş Koşul İfadeleri; if-elif-else\n",
    "Bazen ikiden fazla olasılık vardır ve ikiden fazla şubeye ihtiyaç duyarız. Bunun gibi bir hesaplamayı ifade etmenin bir yolu, zincirlenmiş bir koşuldur:"
   ]
  },
  {
   "cell_type": "code",
   "execution_count": null,
   "metadata": {},
   "outputs": [],
   "source": [
    "x = int(input(\"x değerini girin: \"))\n",
    "y = int(input(\"y değerini girin: \"))\n",
    "\n",
    "if x < y:\n",
    "    print(\"x y'den küçüktür\")\n",
    "elif x > y:\n",
    "    print(\"x y'den büyüktür\")\n",
    "else:\n",
    "    print(\"x ve y eşittir\")"
   ]
  },
  {
   "attachments": {},
   "cell_type": "markdown",
   "metadata": {},
   "source": [
    "elif, \"else if\"in kısaltmasıdır. Yine tam olarak bir dal çalışacak. Elif ifadelerinin sayısında bir sınırlama yoktur. Eğer else ifadesi mevcutsa, sonda olması gerekir, ancak bir tane olmak zorunda değildir."
   ]
  },
  {
   "attachments": {},
   "cell_type": "markdown",
   "metadata": {},
   "source": [
    "- sistemdeki rol:"
   ]
  },
  {
   "cell_type": "code",
   "execution_count": null,
   "metadata": {},
   "outputs": [],
   "source": [
    "role = int(input(\"Giriş rolü numaranızı girin\"))\n",
    "if role == 1:\n",
    "    print(\"Sisteme Admin olarak girdiniz.\")\n",
    "elif role == 2:\n",
    "    print(\" Sisteme Editor olarak girdiniz.\")\n",
    "elif role == 3:\n",
    "    print(\"Sisteme Guest (misafir) olarak girdiniz.\")\n",
    "else:\n",
    "    print(\"Wrong entry\")"
   ]
  },
  {
   "attachments": {},
   "cell_type": "markdown",
   "metadata": {},
   "source": [
    "# Quiz\n",
    "Aşağıdaki kodun çıktısı olarak ne yazdırılır?"
   ]
  },
  {
   "cell_type": "code",
   "execution_count": null,
   "metadata": {},
   "outputs": [],
   "source": [
    "x = True\n",
    "y = False\n",
    "z = False\n",
    "if not x or y:\n",
    "    print(\"1\")\n",
    "elif not x or not y and z:\n",
    "    print(\"2\")\n",
    "elif not x or y or not y and x:\n",
    "    print(\"3\")\n",
    "else:\n",
    "    print(\"4\")"
   ]
  },
  {
   "attachments": {},
   "cell_type": "markdown",
   "metadata": {},
   "source": [
    "# Nested (iç içe) if-else ifadesi\n",
    "Python'da iç içe geçmiş if-else ifadesi, başka bir if-else ifadesinin içindeki if ifadesidir. Python'da herhangi bir sayıda if ifadesini başka bir if ifadesine koymaya izin verilir.\n",
    "\n",
    "Girinti, iç içe geçme düzeyini ayırt etmenin tek yoludur. İç içe if-else, bir dizi karar vermek istediğimizde kullanışlıdır.\n",
    "\n"
   ]
  },
  {
   "attachments": {},
   "cell_type": "markdown",
   "metadata": {},
   "source": [
    "Syntax:\n",
    "\n",
    "**if** dış_koşul: \\\n",
    "   &emsp;&emsp; **if** iç_koşul: \\\n",
    "       &emsp;&emsp;&emsp; *iç if ifadesi* \\\n",
    "   &emsp;&emsp; **else**: \\\n",
    "      &emsp;&emsp;&emsp;  *iç else ifadesi* \\\n",
    "   &emsp;&emsp; *dış if ifadesi* \\\n",
    "**else**: \\\n",
    "   &emsp; *dış else ifadesi*  \\\n",
    "*bloğun dışındakı ifadeler* "
   ]
  },
  {
   "cell_type": "code",
   "execution_count": null,
   "metadata": {},
   "outputs": [],
   "source": [
    "# İki sayı arasında büyük olanı bulun\n",
    "num1 = int(input('Birinci sayıyı girin'))\n",
    "num2 = int(input('İkinci sayıyı girin '))\n",
    "\n",
    "if num1 >= num2:\n",
    "    if num1 == num2:\n",
    "        print(num1, 've', num2, 'eşit')\n",
    "    else:\n",
    "        print(num1,  ' ', num2, 'den/dan daha büyük')\n",
    "else:\n",
    "    print(num1, ' ', num2, 'den/dan daha küçük' )"
   ]
  },
  {
   "attachments": {},
   "cell_type": "markdown",
   "metadata": {},
   "source": [
    "# Örnek - 1\n",
    "Bu alıştırmada, kullanıcıdan alfabedeki bir harfi okuyan bir program oluşturacaksınız. Kullanıcı a, e, i, o veya u girerse, programınız girilen harfin sesli harf olduğunu belirten bir mesaj göstermelidir. Aksi takdirde, programınız harfin bir ünsüz olduğunu belirten bir mesaj göstermelidir."
   ]
  },
  {
   "cell_type": "code",
   "execution_count": null,
   "metadata": {},
   "outputs": [],
   "source": [
    "# versiyon 1\n",
    "harf = input(\"Lütfen alfabeden bir harf giriniz: \").lower()\n",
    "\n",
    "if harf == \"a\":\n",
    "\tprint(\"Bu harf seslidir.\")\n",
    "elif harf == \"e\":\n",
    "\tprint(\"Bu harf seslidir.\")\n",
    "elif harf == \"i\":\n",
    "\tprint(\"Bu harf seslidir.\")\n",
    "elif harf == \"o\":\n",
    "\tprint(\"Bu harf seslidir.\")\n",
    "elif harf == \"u\":\n",
    "\tprint(\"Bu harf seslidir.\")\n",
    "else:\n",
    "\tprint(\"Bu harf ünsüzdür.\")"
   ]
  },
  {
   "cell_type": "code",
   "execution_count": null,
   "metadata": {},
   "outputs": [],
   "source": [
    "# versiyon 2\n",
    "harf = input(\"Lütfen alfabeden bir harf giriniz: \").lower()\n",
    "\n",
    "if harf == \"a\" or harf == \"e\" or harf == \"i\" or harf == \"o\" or harf == \"u\":\n",
    "    print(\"Bu harf seslidir.\")\n",
    "else:\n",
    "\tprint(\"Bu harf ünsüzdür.\")"
   ]
  },
  {
   "cell_type": "code",
   "execution_count": null,
   "metadata": {},
   "outputs": [],
   "source": [
    "# versiyon 3\n",
    "letter = input(\"Lütfen alfabeden bir harf giriniz: \").lower()\n",
    "\n",
    "if letter in \"aeiou\":\n",
    "\tprint(\"Bu harf seslidir.\")\n",
    "else:\n",
    "\tprint(\"Bu harf ünsüzdür.\")"
   ]
  },
  {
   "attachments": {},
   "cell_type": "markdown",
   "metadata": {},
   "source": [
    "# Örnek - 2\n",
    "Bir ayın uzunluğu 28 ila 31 gün arasında değişmektedir. Bu alıştırmada, kullanıcıdan bir ayın adını bir string (dizi) olarak okuyan bir program oluşturacaksınız. Ardından programınız o aydaki gün sayısını göstermelidir. Artık yılların ele alınması için Şubat için “28 veya 29 gün” görüntüleyin."
   ]
  },
  {
   "cell_type": "code",
   "execution_count": null,
   "metadata": {},
   "outputs": [
    {
     "ename": "",
     "evalue": "",
     "output_type": "error",
     "traceback": [
      "\u001b[1;31mRunning cells with '/usr/bin/python3' requires ipykernel package.\n",
      "\u001b[1;31mRun the following command to install 'ipykernel' into the Python environment. \n",
      "\u001b[1;31mCommand: '/usr/bin/python3 -m pip install ipykernel -U --user --force-reinstall'"
     ]
    }
   ],
   "source": [
    "# versiyon 1\n",
    "month = input(\"Lütfen bir ayın adını girin: \").lower()\n",
    "\n",
    "if month == \"eylül\" or month == \"nisan\" or month == \"haziran\" or month == \"kasım\":\n",
    "\tprint(\"Bu ayda 30 gün vardır.\")\n",
    "elif month == \"şubat\":\n",
    "\tprint(\"Bu ayda 28 veya 29 gün gün vardır.\")\n",
    "else:\n",
    "\tprint(\"Bu ayda 31 gün vardır.\")"
   ]
  },
  {
   "cell_type": "code",
   "execution_count": 7,
   "metadata": {},
   "outputs": [
    {
     "name": "stdout",
     "output_type": "stream",
     "text": [
      "Bu ayda 31 gün vardır.\n"
     ]
    }
   ],
   "source": [
    "# versiyon 2\n",
    "month = input(\"Lütfen bir ayın adını girin: \").lower()\n",
    "year = int(input(\"Lütfen yılı giriniz: \"))\n",
    "\n",
    "if month == \"eylül\" or month == \"nisan\" or month == \"haziran\" or month == \"kasım\":\n",
    "\tprint(\"Bu ayda 30 gün vardır.\")\n",
    "elif month == \"şubat\":\n",
    "    if year % 4 == 0:\n",
    "\t    print(\"Bu ayda 29 gün vardır.\")\n",
    "    else:\n",
    "        print(\"Bu ayda 28 gün vardır.\")\n",
    "else:\n",
    "\tprint(\"Bu ayda 31 gün vardır.\")"
   ]
  },
  {
   "attachments": {},
   "cell_type": "markdown",
   "metadata": {},
   "source": [
    "# Örnek - 3\n",
    "Bir üçgen, kenarlarının uzunluklarına göre eşkenar, ikizkenar veya çeşitkenar olarak sınıflandırılabilir. Bir eşkenar üçgenin 3 kenarı da aynı uzunluğa sahiptir. Bir ikizkenar üçgenin aynı uzunlukta iki kenarı ve farklı uzunlukta olan üçüncü bir kenarı vardır. Tüm kenar uzunlukları farklı ise bu üçgen çeşitkenardır. Üçgenin 3 kenarının uzunluklarını kullanıcıdan okuyan bir program yazınız.\n",
    "Üçgenin türünü gösteren bir mesaj görüntüleyin."
   ]
  },
  {
   "cell_type": "code",
   "execution_count": null,
   "metadata": {},
   "outputs": [],
   "source": [
    "s1 = float(input(\"Lütfen bir üçgenin ilk kenarının uzunluğunu girin: \"))\n",
    "s2 = float(input(\"Lütfen bir üçgenin ikinci kenarının uzunluğunu girin: \"))\n",
    "s3 = float(input(\"Lütfen üçgenin üçüncü kenarının uzunluğunu girin: \"))\n",
    "\n",
    "triangle_type = \"\"\n",
    "\n",
    "if s1 == s2 == s3:\n",
    "\ttriangle_type = \"eşkenar\"\n",
    "elif s1 == s2 or s1 == s3 or s2 == s3:\n",
    "\ttriangle_type = \"ikizkenar\"\n",
    "else:\n",
    "\ttriangle_type = \"çeşitkenar\"\n",
    "\t\n",
    "print(\"Bu bir {} üçgen.\".format(triangle_type))"
   ]
  },
  {
   "attachments": {},
   "cell_type": "markdown",
   "metadata": {},
   "source": [
    "# Örnek - 4\n",
    "Bir ülkenin eski liderlerinin veya tarihsel öneme sahip diğer kişilerin resimlerinin paralarının üzerinde görünmesi yaygın bir durumdur. ABD banknotları üzerinde görünen kişiler aşağıda listelenmiştir.\n",
    "Bir banknotun değerini okuyarak başlayan bir program yazınız.\n",
    "Ardından programınız, girilen tutarın banknotunda görünen kişinin adını göstermelidir. Böyle bir banknot yoksa uygun bir hata mesajı görüntülenmelidir.\n",
    "\n",
    "**Kişi ve $ değeri:**\\\n",
    "George Washington   $1\\\n",
    "Thomas Jefferson    $2\\\n",
    "Abraham Lincoln     $5\\\n",
    "Alexander Hamilton  $10\\\n",
    "Andrew Jackson      $20\\\n",
    "Ulysses S. Grant    $50\\\n",
    "Benjamin Franklin   $100"
   ]
  },
  {
   "cell_type": "code",
   "execution_count": null,
   "metadata": {},
   "outputs": [],
   "source": [
    "bank_note_amount = int(input(\"Lütfen bir banknot tutarı girin: $\")) # banknot tutarı\n",
    "\n",
    "individual_name = \"\"\t\t\t\t\t\t\t\t\t\t\t\t# resimdeki kişinin ismi\n",
    "\n",
    "if bank_note_amount == 1:\n",
    "\tindividual_name = \"George Washington\"\n",
    "if bank_note_amount == 2:\n",
    "\tindividual_name = \"Thomas Jefferson\"\n",
    "if bank_note_amount == 5:\n",
    "\tindividual_name = \"Abraham Lincoln\"\n",
    "if bank_note_amount == 10:\n",
    "\tindividual_name = \"Alexander Hamilton\"\n",
    "if bank_note_amount == 20:\n",
    "\tindividual_name = \"Andrew Jackson\"\n",
    "if bank_note_amount == 50:\n",
    "\tindividual_name = \"Ulysses S. Grant\"\n",
    "if bank_note_amount == 100:\n",
    "\tindividual_name = \"Benjamin Franklin\"\n",
    "\t\n",
    "if individual_name == \"\":\n",
    "\tprint(\"Bu dolaşımda olan bir Amerikan banknotu değil.\")\n",
    "else:\n",
    "\tprint(\"Bu banknottaki kişi {}.\".format(individual_name))"
   ]
  },
  {
   "attachments": {},
   "cell_type": "markdown",
   "metadata": {},
   "source": [
    "# Örnek - 5\n",
    "Yıl dört mevsime ayrılmıştır: ilkbahar, yaz, sonbahar ve kış. Mevsimlerin değiştiği kesin tarihler, takvimin oluşturulma biçiminden dolayı yıldan yıla biraz farklılık gösterse de, bu alıştırma için aşağıdaki tarihleri kullanacağız:\n",
    "\n",
    "**Mevsim ve İlk günü**\\\n",
    "İlkbahar - 20 Mart \\\n",
    "Yaz - 21 Haziran\\\n",
    "Sonbahar   -  22 eylül\\\n",
    "Kış -  21 Aralık\n",
    "    "
   ]
  },
  {
   "cell_type": "code",
   "execution_count": null,
   "metadata": {},
   "outputs": [],
   "source": [
    "month = input(\"Lütfen ayın adını girin\").lower()\t# ay\n",
    "day = int(input(\"Lütfen bu aydan bir gün seçin \"))\t# gün\n",
    "\n",
    "season = \"\"\t\t\t\t\t\t\t\t\t\t\t# mevsim\n",
    "\n",
    "spring, summer, fall, winter = False\t\t\t\t# ilkbahar, yaz, sonbahar, kış\n",
    "\n",
    "if month == \"mart\" or month == \"nisan\" or month == \"mayıs\" or month == \"haziran\":\n",
    "    if month == \"mart\" and day >= 20:\n",
    "        spring = True\n",
    "        \n",
    "    elif month == \"nisan\" or month == \"may\":\n",
    "        spring  = True\n",
    "        \n",
    "    elif month == \"haziran\" and day < 21:\n",
    "        spring = True\n",
    "        \n",
    "if month == \"haziran\" or month == \"temmuz\" or month == \"ağustos\" or month == \"eylül\":\n",
    "    if month  == \"haziran\" and day >= 21:\n",
    "        summer = True\n",
    "        \n",
    "    elif month == \"temmuz\" or month == \"ağustos\":\n",
    "        summer = True\n",
    "        \n",
    "    elif month == \"eylül\" and day < 22:\n",
    "        summer = True\n",
    "        \n",
    "\n",
    "if month == 'eylül' or month == \"ekim\" or month == \"kasım\" or month == \"aralık\":\n",
    "    if month == \"eylül\" and day >= 22:\n",
    "        fall = True\n",
    "        \n",
    "    elif month == \"ekim\" or month == \"kasım\":\n",
    "        fall = True\n",
    "        \n",
    "    elif month == \"aralık\" and day < 21:\n",
    "        fall = True\n",
    "        \n",
    "if month == \"aralık\" or month == \"şubat\" or month == \"aralık\" or month == \"mart\":\n",
    "    if month == \"ekim\" and day >= 20:\n",
    "        winter = True\n",
    "        \n",
    "    elif month == \"ocak\" or month == \"şubat\":\n",
    "        winter = True\n",
    "        \n",
    "    elif month == \"eylül\" and day < 20:\n",
    "        winter = True\n",
    "        \n",
    "if spring:\n",
    "    print(\"Bu tarih ilkbahara denk geliyor.\")\n",
    "elif summer:\n",
    "    print(\"Bu tarih yaza denk geliyor.\")\n",
    "elif fall:\n",
    "    print(\"Bu tarih sonbahara denk geliyor.\")\n",
    "elif winter:\n",
    "    print(\"TBu tarih kışa denk geliyor.\")\n"
   ]
  },
  {
   "attachments": {},
   "cell_type": "markdown",
   "metadata": {},
   "source": [
    "# Örnek - 6\n",
    "Aşağıdaki tablo, Richter ölçeğindeki deprem büyüklük aralıklarını ve\n",
    "tanımlayıcılarını içerir:\n",
    "\n",
    "**Büyüklük (Magnitude)  -    Tanımlayıcı (Descriptor)** \\\n",
    "2.0'dan az ->         Mikro (Micro)\\\n",
    "2.0 ile 3.0 arasıda  -> Çok küçük (Very minor)\\\n",
    "3.0 ile 4.0  arasıda -> Küçük (Minor)\\\n",
    "4.0 ile 5.0  arasıda -> Hafif (Light)\\\n",
    "5.0 ile 6.0 arasıda  -> Orta (Moderate)\\\n",
    "6.0 ile 7.0 arasında  -> Ağır (Strong) \\\n",
    "7.0 ile 8.0 arasında  -> Büyük (Major)\\\n",
    "8.0 ile 10.0 arasında -> Harika (Great) \\\n",
    "10.0'dan fazla          ->  Meteorik (Meteoric)      \n",
    "        \n",
    "Kullanıcıdan depren büyüklüğünü (magnitude) okuyan ve anlamlı bir mesajın parçası olarak uygun tanımlayıcıyı (descriptor) görüntüleyen bir program yazın. Örneğin, kullanıcı 5,5 girerse, programınız 5,5 büyüklüğündeki bir depremin orta şiddette bir deprem olarak kabul edildiğini belirtmelidir."
   ]
  },
  {
   "cell_type": "code",
   "execution_count": null,
   "metadata": {},
   "outputs": [],
   "source": [
    "magnitude = float(input(\"Bir deprem büyüklüğü girin:\"))\n",
    "\n",
    "if magnitude < 2.0:\n",
    "\tdescriptor = \"Mikro\"\n",
    "elif magnitude >= 2.0 and magnitude < 3.0:\n",
    "\tdescriptor = \"Çok küçük\"\n",
    "elif magnitude >= 3.0 and magnitude < 4.0:\n",
    "\tdescriptor = \"Küçük\"\n",
    "elif magnitude >= 4.0 and magnitude < 5.0:\n",
    "\tdescriptor = \"Hafif\"\n",
    "elif magnitude >= 5.0 and magnitude < 6.0:\n",
    "\tdescriptor = \"Orta\"\n",
    "elif magnitude >= 6.0 and magnitude < 7.0:\n",
    "\tdescriptor = \"Ağır\"\n",
    "elif magnitude >= 7.0 and magnitude < 8.0:\n",
    "\tdescriptor = \"Büyük\"\n",
    "elif magnitude >= 8.0 and magnitude < 10.0:\n",
    "\tdescriptor = \"Harika\"\n",
    "else:\n",
    "\tdescriptor = \"Meteorik\"\n",
    "\t\n",
    "print(\"Bu deprem büyüklüğü '{}' olarak sınıflandırılır. \".format(descriptor))"
   ]
  },
  {
   "attachments": {},
   "cell_type": "markdown",
   "metadata": {},
   "source": [
    "# Sorular\n",
    "\n",
    "1. Kapalı kutudaki gazın basıncını hesaplayan ve önceden belirlenmiş tehlikeli basınç seviyesine göre kapalı kutunun tehlikeli durumda olup olmadığını belirleyen bir program geliştirin."
   ]
  },
  {
   "attachments": {},
   "cell_type": "markdown",
   "metadata": {},
   "source": [
    "### Analiz\n",
    "\n",
    "İdeal Gaz Yasası \n",
    "\n",
    "**pV = nRT**\n",
    "\n",
    "- p - basınç (pressure) (Pascal)\n",
    "- V - hacim (volume) \n",
    "- n - mol sayısı (number of moles)\n",
    "- R - evrensel gaz sabiti (universal gas constant)\n",
    "- T - sıcaklık (temperature) (Kelvin)\n",
    "\n",
    "R, 0,08206 değerine sahiptir\n",
    "\n",
    "*(R = 8.31446261815324 joules per kelvin (K) per mole.)*\n"
   ]
  },
  {
   "attachments": {},
   "cell_type": "markdown",
   "metadata": {},
   "source": [
    "### Tasarım\n",
    "\n",
    "1. Değiskenleri tanımla\\\n",
    "P (float), V (float), n (float), R (float), T (integer), dangerLevel (float) - tehlikeli gaz seviyesi \n",
    "\n",
    "2. Kullanıcıdan girdileri al\\\n",
    "V (float), n (float), T (integer)\n",
    "\n",
    "3. Basıncı hesapla\\\n",
    "P = n * R * T / V\n",
    "\n",
    "4. Basıncın tehlikeli seviyede olup olmadığını kontrol edin ve sonuçların çıktısını alın\\\n",
    "if (basınç >tehlikeliSeviye)\\\n",
    "&emsp;&emsp;\"Basınç seviyesi tehlikeli!!!\"\\\n",
    "else\\\n",
    "&emsp;&emsp;\"Basınç seviyesi normal.\"\n"
   ]
  },
  {
   "cell_type": "code",
   "execution_count": null,
   "metadata": {},
   "outputs": [],
   "source": [
    "# Kod\n",
    "# 1. Değiskenleri tanımla & 2. Kullanıcıdan girdileri al\n",
    "R = 0.08206\n",
    "V = float(input('hacmi girin: '))\n",
    "n = float(input('gazın mol sayısını girin: '))\n",
    "T = int(input('sıcaklığı girin: '))\n",
    "dangerLevel = float(input('tehlikeli basınç seviyesini girin: '))\n",
    "\n",
    "# 3. Basıncı hesapla\n",
    "P = (n * R * T )/ V\n",
    "\n",
    "# 4. Basıncın tehlikeli seviyede olup olmadığını kontrol edin ve sonuçların çıktısını alın\n",
    "if P >dangerLevel:\n",
    "\tprint('Basınç sevizesi: ', P, '--> TEHLİKELİ!!!')\n",
    "else:\n",
    "    print('Basınç: ', P, '--> Normal')"
   ]
  },
  {
   "attachments": {},
   "cell_type": "markdown",
   "metadata": {},
   "source": [
    "2. Aylık fatura, internet servis sağlayıcı ile yapılan sözleşmeye göre, aylık sabit ücret ve kullanıcının fazladan kullandığı internet trafiğinden kaynaklanan ekstra ücret üzerinden hesaplanır. Ekstra ücret, kullanıcının ait olduğu kategoriye göre hesaplanır. Birim fiyatlara ilişkin bilgiler aşağıda verilmiştir. Bir müşterinin aylık toplam faturasını hesaplamak için bir program geliştirin.\n",
    "\n",
    "kategori - ek ücret birim fiyatı\\\n",
    "&emsp;&emsp;&emsp;1 - 0.10 \\\n",
    "&emsp;&emsp;&emsp;2 - 0.20 \\\n",
    "&emsp;&emsp;&emsp;3 - 0.30"
   ]
  },
  {
   "attachments": {},
   "cell_type": "markdown",
   "metadata": {},
   "source": [
    "### Analiz\n",
    "\n",
    "aylıkFatura = sabitİnternetOranı + ekstraÜcret \\\n",
    "ekstraÜcret = ekÜcretBirimFiyatı * GB\n",
    "\n",
    "ekstraÜcretBirimFiyatı?\\\n",
    "&emsp;if(kategori == 1)\\\n",
    "&emsp;&emsp;&emsp;ekÜcretBirimFiyatı = 0,1\\\n",
    "&emsp;else if(kategori == 2)\\\n",
    "&emsp;&emsp;&emsp;ekÜcretBirimFiyatı = 0,2\\\n",
    "&emsp;else if(kategori == 3)\\\n",
    "&emsp;&emsp;&emsp;ekÜcretBirimFiyatı = 0,3\\\n",
    "&emsp;else\\\n",
    "&emsp;&emsp;&emsp;print(\"Kategori için geçersiz girdi\")"
   ]
  },
  {
   "attachments": {},
   "cell_type": "markdown",
   "metadata": {},
   "source": [
    "### Tasarım\n",
    "\n",
    "1. Değişkenleri tanımla\\\n",
    "monthlyBill (float), fixedInternetRate (float), extraFee (float), unitOfExtraFee (float), category (integer), GB (integer)\n",
    "\n",
    "2. Kullanıcıdan girdiler al\\\n",
    "fixedInternetRate (float), unitOfExtraFee (float), category (integer), GB (integer)\n",
    "\n",
    "\n",
    "3. Aylık internet faturasını hesapla\\\n",
    "&emsp; - Ekstra ücret birimini belirle\\\n",
    "&emsp; - Ekstra ücreti hesapla\\\n",
    "&emsp; - Toplam aylık faturayı hesapla\n",
    "\n",
    "4. Aylık internet faturasını göster"
   ]
  },
  {
   "cell_type": "code",
   "execution_count": null,
   "metadata": {},
   "outputs": [],
   "source": [
    "# 1. Değişkenleri tanımla & 2. Kullanıcıdan girdiler al\n",
    "fixedInternetRate = float(input('Sabit internet oranınıyı girin: '))\n",
    "category = int(input('Ait olduğunuz kategoriyi girin (1-3):'))\n",
    "gb = int(input('Bu ay kullanılan GB miktarını girin: '))\n",
    "\n",
    "\n",
    "# 3. Aylık elektrik faturasını hesapla\n",
    "# Ekstra ücret birimini belirle\n",
    "if category == 1:\n",
    "    unitOfExtraFee = 0.10\n",
    "elif category == 2:\n",
    "    unitOfExtraFee = 0.20\n",
    "elif category == 3:\n",
    "    unitOfExtraFee = 0.30 \n",
    "else:\n",
    "    print('Kategori için geçersiz girdi')      \n",
    "\n",
    "# Ekstra ücreti hesapla\n",
    "extraFee = unitOfExtraFee * gb\n",
    "\n",
    "# Toplam aylık faturayı hesapla\n",
    "monthlyBill = fixedInternetRate+ extraFee\n",
    "\n",
    "# 4. Aylık internet faturasını göster\n",
    "print('Aylık internet faturanız: ', monthlyBill, '$')"
   ]
  },
  {
   "attachments": {},
   "cell_type": "markdown",
   "metadata": {},
   "source": [
    "3. Aylık fatura, internet servis sağlayıcı ile yapılan sözleşmeye göre, kullanıcının ait olduğu kategori ve çevrim içi geçirdiği toplam saat üzerinden hesaplanmaktadır. Aylık fatura ve kategorilere ilişkin bilgiler aşağıda yer almaktadır. Bir müşterinin aylık toplam faturasını hesaplamak için bir program geliştirin.\n",
    "\n",
    "Toplam İnternet Trafik Saati - Aylık Fatura\\\n",
    "&emsp;300+ - A\\\n",
    "&emsp;150-299 - B\\\n",
    "&emsp;90-149 - C\\\n",
    "&emsp;0-89 - D\n",
    "\n",
    "Kategori: A | B | C | D | \\\n",
    "1: 1000 | 1100 | 1200 | 1300 \\\n",
    "2: 1200 | 1300 | 1400 | 1500 \\\n",
    "3: 1400 | 1500 | 1600 | 1700\n"
   ]
  },
  {
   "attachments": {},
   "cell_type": "markdown",
   "metadata": {},
   "source": [
    "### Analiz\n",
    "\n",
    "Bu problem, if/else ve switch-case deyimlerinin kombinasyonunun kullanıldığı çeşitli yöntemlerle çözülebilir.\n",
    "\n",
    "**Metod 1**\n",
    "\n",
    "if(saat<90)\\\n",
    "&emsp;if(kategori == 1)\\\n",
    "&emsp;&emsp;aylıkFatura=1300;\\\n",
    "&emsp;else if(kategori == 2)\\\n",
    "&emsp;&emsp;aylıkFatura=1500;\\\n",
    "&emsp;else if(kategori == 3) \\\n",
    "&emsp;&emsp;aylıkFatura= 1700;\\\n",
    "&emsp;else \\\n",
    "&emsp;&emsp;print('Kategori için geçersiz girdi')\n",
    "\n",
    "else if(saat<150)\\\n",
    "&emsp;if(kategori == 1)\\\n",
    "&emsp;&emsp;aylıkFatura=1200;\\\n",
    "&emsp;else if(kategori == 2)\\\n",
    "&emsp;&emsp;aylıkFatura=1400;\\\n",
    "&emsp;else if(kategori == 3) \\\n",
    "&emsp;&emsp;aylıkFatura= 1600;\\\n",
    "&emsp;else \\\n",
    "&emsp;&emsp;print('Kategori için geçersiz girdi')\n",
    "\n",
    "else if(saat<300)\t\\\n",
    "&emsp;if(kategori == 1)\\\n",
    "&emsp;&emsp;aylıkFatura=1100;\\\n",
    "&emsp;else if(kategori == 2)\\\n",
    "&emsp;&emsp;aylıkFatura=1300;\\\n",
    "&emsp;else if(kategori == 3) \\\n",
    "&emsp;&emsp;aylıkFatura= 1500;\\\n",
    "&emsp;else \\\n",
    "&emsp;&emsp;print('Kategori için geçersiz girdi')\n",
    "\n",
    "else\t\t\\\n",
    "&emsp;if(kategori == 1)\\\n",
    "&emsp;&emsp;aylıkFatura=1000;\\\n",
    "&emsp;else if(kategori == 2)\\\n",
    "&emsp;&emsp;aylıkFatura=1200;\\\n",
    "&emsp;else if(kategori == 3) \\\n",
    "&emsp;&emsp;aylıkFatura= 1400;\\\n",
    "&emsp;else \\\n",
    "&emsp;&emsp;print('Kategori için geçersiz girdi')\n",
    "\n",
    "\n",
    "**Metod 2**\n",
    "\n",
    "if(kategori == 1)\\\n",
    "&emsp;if(saat<90)\\\n",
    "&emsp;&emsp;aylıkFatura=1300;\\\n",
    "&emsp;else if(saat<150)\\\n",
    "&emsp;&emsp;aylıkFatura=1200;\\\n",
    "&emsp;else if(saat<300)\\\n",
    "&emsp;&emsp;aylıkFatura=1100;\\\n",
    "&emsp;else\\\n",
    "&emsp;&emsp;aylıkFatura=1000;   \n",
    "\t\n",
    "\n",
    "else if(kategori == 2) \\\n",
    "&emsp;if(saat<90)\\\n",
    "&emsp;&emsp;aylıkFatura=1500;\\\n",
    "&emsp;else if(saat<150)\\\n",
    "&emsp;&emsp;aylıkFatura=1400;\\\n",
    "&emsp;else if(saat<300)\\\n",
    "&emsp;&emsp;aylıkFatura=1300;\\\n",
    "&emsp;else\\\n",
    "&emsp;&emsp;aylıkFatura=1200;  \n",
    "\n",
    "else if(kategori == 2) \\\n",
    "&emsp;if(hours<90)\\\n",
    "&emsp;&emsp;aylıkFatura=1700;\\\n",
    "&emsp;else if(saat<150)\\\n",
    "&emsp;&emsp;aylıkFatura=1600;\\\n",
    "&emsp;else\tif(saat<300)\\\n",
    "&emsp;&emsp;aylıkFatura=1500;\\\n",
    "&emsp;else\\\n",
    "&emsp;&emsp;aylıkFatura=1400;   \n",
    "\n",
    "else\\\n",
    "&emsp;print('Kategori için geçersiz girdi')\n",
    "\n",
    "\n"
   ]
  },
  {
   "attachments": {},
   "cell_type": "markdown",
   "metadata": {},
   "source": [
    "### Tasarım\n",
    "\n",
    "1. Değişkenleri tanımlayın\\\n",
    "hours (integer), category (integer), mainRate (float), extraRate (float), monthlyBill (integer)\n",
    "\n",
    "2. Kullanıcıdan girdi alın\\\n",
    "hours (integer), category (integer)\n",
    "\n",
    "3. Aylık faturayı hesaplayın\\\n",
    "Analiz için kod kullanın\n",
    "\n",
    "4. Aylık faturayı gösterin"
   ]
  },
  {
   "cell_type": "code",
   "execution_count": 6,
   "metadata": {},
   "outputs": [
    {
     "name": "stdout",
     "output_type": "stream",
     "text": [
      "Aylık faturanız:  1200\n"
     ]
    }
   ],
   "source": [
    "# Kod Metod 1\n",
    "#1. Değişkenleri tanımlayın & 2. Kullanıcıdan girdi alın\n",
    "hours = int(input(\"Toplam trafik saatini girin: \"))\n",
    "category = int(input(\"Kategoriyi girin: \"))\n",
    "\n",
    "if hours < 90:\n",
    "    if category==1:\n",
    "        monthlyBill=1300\n",
    "    elif category ==2:\n",
    "        monthlyBill=1500\n",
    "    elif category==3:\n",
    "        monthlyBill=1700\n",
    "    else:\n",
    "        print('Kategori için geçersiz girdi')\n",
    "\n",
    "elif hours <150:\n",
    "    if category==1:\n",
    "        monthlyBill=1200\n",
    "    elif category ==2:\n",
    "        monthlyBill=1400\n",
    "    elif category==3:\n",
    "        monthlyBill=1600\n",
    "    else:\n",
    "        print('Kategori için geçersiz girdi')\n",
    "\n",
    "elif hours <300:\n",
    "    if category==1:\n",
    "        monthlyBill=1100\n",
    "    elif category ==2:\n",
    "        monthlyBill=1300\n",
    "    elif category==3:\n",
    "        monthlyBill=1500\n",
    "    else:\n",
    "        print('Kategori için geçersiz girdi')\n",
    "        \n",
    "else:\n",
    "    if category==1:\n",
    "        monthlyBill=1000\n",
    "    elif category ==2:\n",
    "        monthlyBill=1200\n",
    "    elif category==3:\n",
    "        monthlyBill=1400\n",
    "    else:\n",
    "        print('Kategori için geçersiz girdi')\n",
    "    \n",
    "# 4. Aylık faturayı gösterin\n",
    "print('Aylık faturanız: ', monthlyBill)\n"
   ]
  },
  {
   "cell_type": "code",
   "execution_count": 5,
   "metadata": {},
   "outputs": [
    {
     "name": "stdout",
     "output_type": "stream",
     "text": [
      "Aylık faturanız:  1500\n"
     ]
    }
   ],
   "source": [
    "# Kod Metod 2\n",
    "#1. Değişkenleri tanımlayın & 2. Kullanıcıdan girdi alın\n",
    "hours = int(input(\"Toplam trafik saatini girin: \"))\n",
    "category = int(input(\"Kategoriyi girin: \"))\n",
    "\n",
    "# 3. Aylık faturayı hesaplayın\n",
    "if category == 1:\n",
    "    if hours<90:\n",
    "        monthlyBill=1300\n",
    "    elif hours < 150:\n",
    "        monthlyBill=1200\n",
    "    elif hours < 300:\n",
    "        monthlyBill=1100\n",
    "    else:\n",
    "        monthlyBill=1000\n",
    "        \n",
    "elif category ==2:\n",
    "    if hours < 90:\n",
    "        monthlyBill=1500\n",
    "    elif hours < 150:\n",
    "        monthlyBill=1400\n",
    "    elif hours < 300:\n",
    "        monthlyBill=1300\n",
    "    else:\n",
    "        monthlyBill=1200\n",
    "        \n",
    "elif category ==3:\n",
    "    if hours < 90:\n",
    "        monthlyBill=1700\n",
    "    elif hours < 150:\n",
    "        monthlyBill=1600\n",
    "    elif hours < 300:\n",
    "        monthlyBill=1500\n",
    "    else:\n",
    "        monthlyBill=1400\n",
    "\n",
    "else:\n",
    "    print('Kategori için geçersiz girdi')\n",
    "    \n",
    "# 4. Aylık faturayı gösterin\n",
    "print('Aylık faturanız: ', monthlyBill)\n",
    "    \n",
    "        \n"
   ]
  },
  {
   "attachments": {},
   "cell_type": "markdown",
   "metadata": {},
   "source": [
    "4. Bir şirketin yönetim politikasına göre, satış elemanına sabit bir maaş ve satıştan elde edilen toplam kazanç ve prim oranına bağlı olarak bir prim ödenir. Toplam kazancın şirket politikası ile belirlenen performans düzeyini aşması durumunda prim oranı 0,10, aksi durumda 0,05 olarak belirlenir. Şirketteki bir satış elemanının maaşını hesaplamak için bir program geliştirin."
   ]
  },
  {
   "attachments": {},
   "cell_type": "markdown",
   "metadata": {},
   "source": [
    "### Analiz\n",
    "Toplam maaş, sabit maaş ve prime göre hesaplanmalıdır. Ve prim, satışlardan elde edilen toplam kazanca bağlıdır: performans seviyesinin üzerindeyse, prim daha yüksektir ve altındaysa, prim daha azdır.\n",
    "\n",
    "toplamMaaş = sabitMaaş + prim\\\n",
    "prim = sabitMaaş * primOranı\n",
    "\n",
    "if(satışKazanç < performansSeviyesi)\\\n",
    "&emsp;primOranı = 0,05\\\n",
    "else\\\n",
    "&emsp;primOranı = 0,10\n",
    "\n"
   ]
  },
  {
   "attachments": {},
   "cell_type": "markdown",
   "metadata": {},
   "source": [
    "### Tasarım\n",
    "\n",
    "1. Değişkenleri tanımlayın\\\n",
    "totalSalary (float) - toplam maaş, fixedSalary (float) - sabit maaş, premium (float) - prim, salesEarnings (float) - satış kazancı, premiumRate (float) - prim oranı, performanceLevel (float) - performans seviyesi\n",
    "\n",
    "2. Kullanıcıdan girdiler alın\\\n",
    "fixedSalary, salesEarnings, performanceLevel\n",
    "3. Prim oranına göre doğru primi belirleyin\n",
    "\n",
    "4. Prim ve toplam maaşı hesaplayın\n",
    "\n",
    "5. Toplam maaşın çıktısı"
   ]
  },
  {
   "cell_type": "code",
   "execution_count": null,
   "metadata": {},
   "outputs": [],
   "source": [
    "#1. Değişkenleri tanımlayın & 2. Kullanıcıdan girdileri alın\n",
    "fixedSalary = float(input('Çalışanın sabit maaşını girin: $'))\n",
    "salesEarnings = float(input('Çalışanın satış kazancını girin: $'))\n",
    "performanceLevel = float(input('Çalışanın performans seviyesini girin: $'))\n",
    "\n",
    "#3. Prim oranına göre doğru primi belirleyin\n",
    "if salesEarnings < performanceLevel:\n",
    "    premiumRate = 0.05\n",
    "else:\n",
    "    premiumRate = 0.10 \n",
    "\n",
    "#4. Prim ve toplam maaşı hesaplayın\n",
    "premium = fixedSalary * premiumRate\n",
    "totalSalary = fixedSalary + premium\n",
    "\n",
    "#5. Toplam maaşın çıktısı\n",
    "print('Çalışanın toplam maaşı: ', totalSalary, '$')"
   ]
  },
  {
   "attachments": {},
   "cell_type": "markdown",
   "metadata": {},
   "source": [
    "6. Sıcaklığına bağlı olarak suyun halini belirleyin (gaz, sıvı veya katı)."
   ]
  },
  {
   "attachments": {},
   "cell_type": "markdown",
   "metadata": {},
   "source": [
    "### Analiz\n",
    "\n",
    "Sıcaklık 0 °C'nin altında ise buzdur, dolayısıyla katıdır. 100 °C'nin üzerinde ise gazdır. Aksi halde sıvıdır.\n",
    "\n",
    "if(suSıcaklığı<= 0)\\\n",
    "&emsp;\"Su katı haldedir\"\\\n",
    "else if (suSıcaklığı < 100)\\\n",
    "&emsp;\"Su sıvı haldedir\"\\\n",
    "else\\\n",
    "&emsp;\"Su gaz halindedir\""
   ]
  },
  {
   "attachments": {},
   "cell_type": "markdown",
   "metadata": {},
   "source": [
    "### Tasarım\n",
    "\n",
    "1. Değişkenleri tanımlayın\\\n",
    "waterTemp (integer)\n",
    "2. Kullanıcıdan girdi alın\\\n",
    "waterTemp (integer)\n",
    "3. Suyun halini belirleyin ve çıktısını alın"
   ]
  },
  {
   "cell_type": "code",
   "execution_count": null,
   "metadata": {},
   "outputs": [],
   "source": [
    "# Kod\n",
    "#1. Değişkenleri tanımlayın & 2. Kullanıcıdan girdi alın\n",
    "waterTemp = int(input(\"Su sıcaklığını girin: Celsius\"))\n",
    "\n",
    "# 3. Suyun halini belirleyin ve çıktısını alın\n",
    "if waterTemp <= 0:\n",
    "    print(\"Su katı haldedir\")\n",
    "elif waterTemp < 100:\n",
    "    print(\"Su sıvı haldedir\")\n",
    "else:\n",
    "    print(\"Su gaz halindedir\")"
   ]
  },
  {
   "attachments": {},
   "cell_type": "markdown",
   "metadata": {},
   "source": [
    "7. Elektrik tedarik şirketinin abonelik sözleşmesine göre, müşterinin aylık elektrik tüketimi ve elektriğin birim fiyatı üzerinden aylık toplam fatura hesaplanır. Elektrik sayacı okunduktan sonra sıfırlanmaz. Bu nedenle elektrik tüketimi, son okumaya ve bir önceki okumaya göre hesaplanmalıdır. Birim fiyat bilgilerine göre yeniden düzenlenmiş olup aşağıdaki tablolarda verilmiştir. Bir müşterinin aylık toplam faturasını hesaplamak için bir program geliştirin."
   ]
  },
  {
   "attachments": {},
   "cell_type": "markdown",
   "metadata": {},
   "source": [
    "### Analiz\n",
    "\n",
    "Sıcaklık 0 °C'nin altında ise buzdur, dolayısıyla katıdır. 100 °C'nin üzerinde ise gazdır. Aksi halde sıvıdır.\n",
    "\n",
    "if(suSıcaklığı<= 0)\\\n",
    "&emsp;\"Su katı haldedir\"\n",
    "\n",
    "Önceki versiyonlarda olduğu gibi elektrik tüketiminin hesaplanması gerekiyor, ancak bu sefer kullanıcının elektrik tüketimine bağlı olarak birim fiyatımızda bir artış var.\n",
    "\n",
    "aylıkFatura = elektrikTüketimi*yeniBirimFiyatı \\\n",
    "elektrik Tüketimi = yeniOkuma – sonOkuma\\\n",
    "yeniBirimFiyat = birimFiyat + birimFiyat*artanOran \n",
    "\n",
    "Artan oran?\\\n",
    "if(elektrik Tüketimi< 100 kWh)\\\n",
    "artanOran = 0;\\\n",
    "else if (elektrik Tüketimi<= 200 kWh)\\\n",
    "artanOran = 0.1;\\\n",
    "else if (elektrik Tüketimi<= 300 kWh)\\\n",
    "artan Oran = 0,2;\\\n",
    "else if (elektrik Tüketimi<= 400 kWh)\\\n",
    "artan Oran = 0,3;\\\n",
    "else if (elektrik Tüketimi<= 500 kWh)\\\n",
    "artan Oran = 0,4;\\\n",
    "else\\\n",
    "artan Oran = 0,5;\\\n"
   ]
  },
  {
   "attachments": {},
   "cell_type": "markdown",
   "metadata": {},
   "source": [
    "### Tasarım\n",
    "\n",
    "1. Değişkenleri tanımlayın\\\n",
    "lastReading (integer) - son okuma, newReading (integer) - yeni okuma, electricityConsumption (integer) - elektrik tüketimi, unitPrice (float) - birim fiyatı, newUnitPrice (float) - yeni birim fiyatı, increaseRate (float), monthlyBill (float) - aylık fatura\n",
    "2. Kullanıcıdan girdi alın\\\n",
    "lastReading, newReading, unitPrice\n",
    "3. Elektrik tüketimini hesaplayın\n",
    "4. Tüketime göre elektriğin birim fiyatındaki artışın belirlenmesi\n",
    "5. Yeni birim fiyatı hesaplayın\n",
    "6. Yeni birim fiyatına ve ülke enflasyonuna göre toplam aylık elektrik faturasını hesaplayın\n",
    "7. Aylık elektrik faturasını çıkar"
   ]
  },
  {
   "cell_type": "code",
   "execution_count": null,
   "metadata": {},
   "outputs": [],
   "source": [
    "# Kod\n",
    "# 1. Değişkenleri tanımlayın & 2. Kullanıcıdan girdi alın\n",
    "lastReading = int(input(\"Son okumayı girin\"))\n",
    "newReading = int(input(\"Yeni okumayı girin\"))\n",
    "unitPrice = int(input(\"Birim miktarını girin\"))\n",
    "\n",
    "# 3. Elektrik tüketimini hesaplayın\n",
    "electricityConsumption = newReading - lastReading\n",
    "# 4. Tüketime göre elektriğin birim fiyatındaki artışın belirlenmesi\n",
    "if electricityConsumption < 100:\n",
    "    increaseRate = 0\n",
    "elif electricityConsumption  <= 200:\n",
    "    increaseRate = 0.1\n",
    "elif electricityConsumption <= 300:\n",
    "    increaseRate = 0.2\n",
    "elif electricityConsumption <= 400:\n",
    "    increaseRate = 0.3\n",
    "elif electricityConsumption <= 500:\n",
    "    increaseRate = 0.4\n",
    "else:\n",
    "    increaseRate = 0.5\n",
    "# 5. Yeni birim fiyatı hesaplayın\n",
    "newUnitPrice = unitPrice + unitPrice* increaseRate\n",
    "# 6. Yeni birim fiyatına ve ülke enflasyonuna göre toplam aylık elektrik faturasını hesaplayın\n",
    "monthlyBill = electricityConsumption*newUnitPrice\n",
    "# 7. Aylık elektrik faturasını çıkar\n",
    "print ('Bu ay elektirik faturanız: ', monthlyBill)"
   ]
  }
 ],
 "metadata": {
  "kernelspec": {
   "display_name": "Python 3",
   "language": "python",
   "name": "python3"
  },
  "language_info": {
   "codemirror_mode": {
    "name": "ipython",
    "version": 3
   },
   "file_extension": ".py",
   "mimetype": "text/x-python",
   "name": "python",
   "nbconvert_exporter": "python",
   "pygments_lexer": "ipython3",
   "version": "3.11.1"
  },
  "orig_nbformat": 4,
  "vscode": {
   "interpreter": {
    "hash": "5c7b89af1651d0b8571dde13640ecdccf7d5a6204171d6ab33e7c296e100e08a"
   }
  }
 },
 "nbformat": 4,
 "nbformat_minor": 2
}
