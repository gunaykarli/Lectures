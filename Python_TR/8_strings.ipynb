{
 "cells": [
  {
   "attachments": {},
   "cell_type": "markdown",
   "metadata": {},
   "source": [
    "# String (Dize)\n",
    "String, Python'da bir karakter dizisini temsil eden bir veri yapısıdır. Bu değişmez bir veri türüdür, yani bir string oluşturduktan sonra onu değiştiremezsiniz. Dizeler, metin verilerini depolamak ve değiştirmek, adları, adresleri ve metin olarak temsil edilebilecek diğer veri türlerini temsil etmek gibi birçok farklı uygulamada yaygın olarak kullanılır."
   ]
  },
  {
   "attachments": {},
   "cell_type": "markdown",
   "metadata": {},
   "source": [
    "Strings in python are surrounded by either single quotation marks, or double quotation marks.\n",
    "\n",
    "'hello' is the same as \"hello\".\n",
    "\n",
    "You can display a string literal with the print() function:\n",
    "Python'daki dizeler, tek tırnak işaretleri veya çift tırnak işaretleri içine alınır.\n",
    "\n",
    "\"merhaba\", 'merhaba' ile aynıdır.\n",
    "\n",
    "print() işleviyle bir dizeyi görüntüleyebilirsiniz:"
   ]
  },
  {
   "cell_type": "code",
   "execution_count": null,
   "metadata": {},
   "outputs": [],
   "source": [
    "print(\"Merhaba\")\n",
    "print('Merhaba')"
   ]
  },
  {
   "attachments": {},
   "cell_type": "markdown",
   "metadata": {},
   "source": [
    "# Değişkene String Atama\n",
    "Bir değişkene bir string atamak, değişken adının ardından eşittir işareti ve dize ile yapılır:"
   ]
  },
  {
   "cell_type": "code",
   "execution_count": null,
   "metadata": {},
   "outputs": [],
   "source": [
    "a = \"Merhaba\"\n",
    "print(a)"
   ]
  },
  {
   "attachments": {},
   "cell_type": "markdown",
   "metadata": {},
   "source": [
    "# Multiline Strings (çok satırlı dizeler)\n",
    "Üç tırnak kullanarak bir değişkene çok satırlı bir dize atayabilirsiniz:"
   ]
  },
  {
   "cell_type": "code",
   "execution_count": null,
   "metadata": {},
   "outputs": [],
   "source": [
    "a = \"\"\"Lorem ipsum dolor sit amet,\n",
    "consectetur adipiscing elit,\n",
    "sed do eiusmod tempor incididunt\n",
    "ut labore et dolore magna aliqua.\"\"\"\n",
    "print(a)"
   ]
  },
  {
   "attachments": {},
   "cell_type": "markdown",
   "metadata": {},
   "source": [
    "# String = Array (sıra)\n",
    "Diğer birçok popüler programlama dili gibi, Python'daki dizeler de unicode karakterleri temsil eden bayt dizileridir.\n",
    "Bununla birlikte, Python'un bir karakter veri türü yoktur, tek bir karakter yalnızca 1 uzunluğunda bir dizedir.\n",
    "Dizenin öğelerine erişmek için köşeli parantezler kullanılabilir."
   ]
  },
  {
   "cell_type": "code",
   "execution_count": null,
   "metadata": {},
   "outputs": [],
   "source": [
    "a = \"Merhaba Dünya!\"\n",
    "print(a[1])"
   ]
  },
  {
   "attachments": {},
   "cell_type": "markdown",
   "metadata": {},
   "source": [
    "# Dizide Döngü \n",
    "Dizeler array olduğundan, bir dizideki karakterler arasında bir for döngüsü ile döngü yapabiliriz."
   ]
  },
  {
   "cell_type": "code",
   "execution_count": null,
   "metadata": {},
   "outputs": [],
   "source": [
    "for x in \"banana\":\n",
    "  print(x)"
   ]
  },
  {
   "attachments": {},
   "cell_type": "markdown",
   "metadata": {},
   "source": [
    "# String Uzunluğu\n",
    "Bir dizenin uzunluğunu almak için len() işlevini kullanın."
   ]
  },
  {
   "cell_type": "code",
   "execution_count": null,
   "metadata": {},
   "outputs": [],
   "source": [
    "a = \"Merhaba Dünya!\"\n",
    "print(len(a))"
   ]
  },
  {
   "attachments": {},
   "cell_type": "markdown",
   "metadata": {},
   "source": [
    "# String Kontrolü\n",
    "Bir stringde belirli bir ifadenin veya karakterin olup olmadığını kontrol etmek için \"in\" anahtar kelimesini kullanabiliriz."
   ]
  },
  {
   "cell_type": "code",
   "execution_count": null,
   "metadata": {},
   "outputs": [],
   "source": [
    "# Aşağıdaki metinde \"bedava\" olup olmadığını kontrol edin:\n",
    "\n",
    "txt = \"Hayattaki en güzel şeyler bedavadır!\"\n",
    "print(\"bedava\" in txt)"
   ]
  },
  {
   "cell_type": "code",
   "execution_count": null,
   "metadata": {},
   "outputs": [],
   "source": [
    "#Use it in an if statement:\n",
    "#Print only if \"free\" is present:\n",
    "\n",
    "txt = \"Hayattaki en güzel şeyler bedavadır!\"\n",
    "if \"bedava\" in txt:\n",
    "  print(\"Evet, 'bedava' mevcut\")"
   ]
  },
  {
   "attachments": {},
   "cell_type": "markdown",
   "metadata": {},
   "source": [
    "# Yokluk kontrolü\n",
    "Belirli bir ifadenin veya karakterin bir dizgede olmadı kontrol etmek için \"not in\" anahtar kelimesini kullanabiliriz."
   ]
  },
  {
   "cell_type": "code",
   "execution_count": null,
   "metadata": {},
   "outputs": [],
   "source": [
    "#'pahalı' kelimesinin mevcut olmadığını kontrol edin\n",
    "\n",
    "txt = \"Hayattaki en güzel şeyler bedavadır!\"\n",
    "print(\"pahali\" not in txt)"
   ]
  },
  {
   "cell_type": "code",
   "execution_count": null,
   "metadata": {},
   "outputs": [],
   "source": [
    "# if ifadesi içinde kullanın\n",
    "# eğer 'pahalı' mevcut değilse yazdırın:\n",
    "\n",
    "txt = \"Hayattaki en güzel şeyler bedavadır!\"\n",
    "if \"pahali\" not in txt:\n",
    "  print(\"Hayır, 'pahalı' mevcut değil\")"
   ]
  },
  {
   "attachments": {},
   "cell_type": "markdown",
   "metadata": {},
   "source": [
    "# Slicing (Dilimleme)\n",
    "Slicing sözdizimini kullanarak çeşitli karakterleri döndürebilirsiniz.\n",
    "Dizenin bir bölümünün değerini döndürmek için başlangıç indeksini ve bitiş indeksini iki nokta üst üste ile ayırarak belirtin."
   ]
  },
  {
   "cell_type": "code",
   "execution_count": null,
   "metadata": {},
   "outputs": [],
   "source": [
    "#2. konumdan 5. konuma kadar olan karakterleri çıkartın (5 dahil değildir):\n",
    "\n",
    "b = \"Hello, World!\"\n",
    "print(b[2:5])"
   ]
  },
  {
   "attachments": {},
   "cell_type": "markdown",
   "metadata": {},
   "source": [
    "# Baştan Başlayarak Dilimleme\n",
    "Başlangıç dizinini dışarıda bırakırsanız, aralık ilk karakterden başlar:"
   ]
  },
  {
   "cell_type": "code",
   "execution_count": null,
   "metadata": {},
   "outputs": [],
   "source": [
    "# başlangıçtan 5. konuma kadar olan karakterleri çıkartın (5 dahil değildir):\n",
    "\n",
    "b = \"Hello, World!\"\n",
    "print(b[:5])"
   ]
  },
  {
   "attachments": {},
   "cell_type": "markdown",
   "metadata": {},
   "source": [
    "# Sona Doğru Dilimleme\n",
    "bitiş indeksini dışarıda bırakarak, aralık dizenin sonuna gidecektir:"
   ]
  },
  {
   "cell_type": "code",
   "execution_count": null,
   "metadata": {},
   "outputs": [],
   "source": [
    "# 2. konumdan başlayarak en sonuna kadar çıkartın\n",
    "\n",
    "b = \"Hello, World!\"\n",
    "print(b[2:])"
   ]
  },
  {
   "attachments": {},
   "cell_type": "markdown",
   "metadata": {},
   "source": [
    "# Negatif İndeksleme\n",
    "Dilimi dizenin sonundan başlatmak için negatif indeksler kullanın:"
   ]
  },
  {
   "cell_type": "code",
   "execution_count": null,
   "metadata": {},
   "outputs": [],
   "source": [
    "# Şu harfleri alın: \n",
    "# \"World!\" un 'o'sundan (pozisyon -5)\n",
    "# 'd'sine kadar  (pozisyon -2) ('d' dahil değildir):\n",
    "\n",
    "b = \"Hello, World!\"\n",
    "print(b[-5:-2])"
   ]
  },
  {
   "attachments": {},
   "cell_type": "markdown",
   "metadata": {},
   "source": [
    "# Dizelerde Değisiklik Yapma\n",
    "Python, dizelerde kullanabileceğiniz yerleşik yöntemlere sahiptir.\n",
    "\n",
    "- upper() yöntemi, dizeyi büyük harfle döndürür:\n",
    "- lower() yöntemi, dizeyi küçük harfle döndürür:\n",
    "- strip() yöntemi, baştaki veya sondaki tüm boşlukları kaldırır:\n",
    "- replace() yöntemi, bir dizeyi başka bir dizeyle değiştirir:\n",
    "- split() yöntemi, ayırıcının örneklerini bulursa dizeyi alt dizelere böler:"
   ]
  },
  {
   "cell_type": "code",
   "execution_count": null,
   "metadata": {},
   "outputs": [],
   "source": [
    "a = \"Hello, World!\"\n",
    "print(a.upper())"
   ]
  },
  {
   "cell_type": "code",
   "execution_count": null,
   "metadata": {},
   "outputs": [],
   "source": [
    "a = \"Hello, World!\"\n",
    "print(a.lower())"
   ]
  },
  {
   "cell_type": "code",
   "execution_count": null,
   "metadata": {},
   "outputs": [],
   "source": [
    "a = \" Hello, World! \"\n",
    "print(a.strip()) # returns \"Hello, World!\""
   ]
  },
  {
   "cell_type": "code",
   "execution_count": null,
   "metadata": {},
   "outputs": [],
   "source": [
    "a = \"Hello, World!\"\n",
    "print(a.replace(\"H\", \"J\"))"
   ]
  },
  {
   "cell_type": "code",
   "execution_count": null,
   "metadata": {},
   "outputs": [],
   "source": [
    "a = \"Hello, World!\"\n",
    "print(a.split(\",\")) # returns ['Hello', ' World!']"
   ]
  },
  {
   "attachments": {},
   "cell_type": "markdown",
   "metadata": {},
   "source": [
    "# String Birleştirme\n",
    "İki diziyi birleştirmek için + operatörünü kullanabilirsiniz."
   ]
  },
  {
   "cell_type": "code",
   "execution_count": null,
   "metadata": {},
   "outputs": [],
   "source": [
    " #a değişkenini b değişkeniyle c değişkeninde birleştir:\n",
    "a = \"Hello\"\n",
    "b = \"World\"\n",
    "c = a + b\n",
    "print(c)"
   ]
  },
  {
   "cell_type": "code",
   "execution_count": null,
   "metadata": {},
   "outputs": [],
   "source": [
    "#Aralarına boşluk eklemek için bir \" \" ekleyin:\n",
    "\n",
    "a = \"Hello\"\n",
    "b = \"World\"\n",
    "c = a + \" \" + b\n",
    "print(c)"
   ]
  },
  {
   "attachments": {},
   "cell_type": "markdown",
   "metadata": {},
   "source": [
    "# String Formatlama\n",
    "Python Değişkenleri bölümünde öğrendiğimiz gibi, dizileri ve sayıları şu şekilde birleştiremeyiz:"
   ]
  },
  {
   "cell_type": "code",
   "execution_count": null,
   "metadata": {},
   "outputs": [],
   "source": [
    "age = 36\n",
    "txt = \"My name is John, I am \" + age\n",
    "print(txt)"
   ]
  },
  {
   "attachments": {},
   "cell_type": "markdown",
   "metadata": {},
   "source": [
    "Ancak, format() yöntemini kullanarak dizeleri ve sayıları birleştirebiliriz!\n",
    "\n",
    "format() yöntemi iletilen bağımsız değişkenleri alır, biçimlendirir ve {} yer tutucularının bulunduğu dizeye yerleştirir:"
   ]
  },
  {
   "cell_type": "code",
   "execution_count": null,
   "metadata": {},
   "outputs": [],
   "source": [
    "# Dizelere sayı eklemek için format() yöntemini kullanın:\n",
    "\n",
    "age = 36\n",
    "txt = \"My name is John, and I am {}\"\n",
    "print(txt.format(age))"
   ]
  },
  {
   "attachments": {},
   "cell_type": "markdown",
   "metadata": {},
   "source": [
    "format() yöntemi sınırsız sayıda bağımsız değişken alır ve ilgili yer tutuculara yerleştirilir:"
   ]
  },
  {
   "cell_type": "code",
   "execution_count": null,
   "metadata": {},
   "outputs": [],
   "source": [
    "\n",
    "quantity = 3                                                #  miktar\n",
    "itemno = 567                                                # öğe no\n",
    "price = 49.95                                               # fiyat\n",
    "myorder = \"I want {} pieces of item {} for {} dollars.\"     # {} parça {} öğesini {} dolara istiyorum\n",
    "print(myorder.format(quantity, itemno, price))"
   ]
  },
  {
   "attachments": {},
   "cell_type": "markdown",
   "metadata": {},
   "source": [
    "Bağımsız değişkenlerin doğru yer tutuculara yerleştirildiğinden emin olmak için indeks numaralarını {0} kullanabilirsiniz:"
   ]
  },
  {
   "cell_type": "code",
   "execution_count": null,
   "metadata": {},
   "outputs": [],
   "source": [
    "quantity = 3                                                #  miktar\n",
    "itemno = 567                                                # öğe no\n",
    "price = 49.95                                               # fiyat\n",
    "myorder = \"I want {2} pieces of item {0} for {1} dollars.\"  # {2} parça {0} öğesini {1} dolara istiyorum\n",
    "print(myorder.format(quantity, itemno, price))"
   ]
  },
  {
   "attachments": {},
   "cell_type": "markdown",
   "metadata": {},
   "source": [
    "# Kaçış (escape) Karakteri\n",
    "Bir dizgede geçersiz olan karakterleri eklemek için bir kaçış karakteri kullanın.\n",
    "\n",
    "Bir kaçış karakteri, \\ (backslash) ardından eklemek istediğiniz karakterden oluşur\n",
    "\n",
    "Geçersiz karaktere bir örnek, çift tırnak içine alınmış bir string içindeki çift tırnaktır:"
   ]
  },
  {
   "cell_type": "code",
   "execution_count": null,
   "metadata": {},
   "outputs": [],
   "source": [
    "# Çift tırnak içine alınmış bir dizede çift tırnak kullanırsanız bir hata alırsınız:\n",
    "\n",
    "txt = \"We are the so-called \"Vikings\" from the north.\""
   ]
  },
  {
   "cell_type": "code",
   "execution_count": null,
   "metadata": {},
   "outputs": [],
   "source": [
    "# Kaçış karakteri, normalde izin verilmediğinde çift tırnak kullanmanıza izin verir:\n",
    "txt = \"We are the so-called \\\"Vikings\\\" from the north.\""
   ]
  },
  {
   "attachments": {},
   "cell_type": "markdown",
   "metadata": {},
   "source": [
    "Python'da kullanılan diğer kaçış karakterleri:\n",
    "\n",
    "- \\'\tSingle Quote\t(tek tırnak)\n",
    "- \\\\\tBackslash\t    (ters eğik çizgi)\n",
    "- \\n\tNew Line\t    (yeni satır)\n",
    "- \\r\tCarriage Return\t(satırbaşı)\n",
    "- \\t\tTab\t            (tab)\n",
    "- \\b\tBackspace\t    (geri al)\n"
   ]
  }
 ],
 "metadata": {
  "kernelspec": {
   "display_name": "Python 3.8.9 64-bit",
   "language": "python",
   "name": "python3"
  },
  "language_info": {
   "name": "python",
   "version": "3.8.9"
  },
  "orig_nbformat": 4,
  "vscode": {
   "interpreter": {
    "hash": "31f2aee4e71d21fbe5cf8b01ff0e069b9275f58929596ceb00d14d90e3e16cd6"
   }
  }
 },
 "nbformat": 4,
 "nbformat_minor": 2
}
