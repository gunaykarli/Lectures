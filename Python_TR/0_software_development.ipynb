{
 "cells": [
  {
   "cell_type": "markdown",
   "metadata": {},
   "source": [
    "# 1. Bilgisayar Programlama, Programcı ve Programlama Dilleri\n",
    "Bilgisayar programlama, gerçek hayattaki işlemlerin, bir programlama dili kullanarak bilgisayar ortamındaki modellemesidir. Daha basit bir tarifle, bilgisayara istediğiniz işleri yaptırmaktır. Bu tariften programcının kim olduğu da hemen ortaya çıkıyor; bilgisayara istediğini yaptırabilen kişi. Bu dersin en büyük hedeflerinden biri, gerçek programcılar yetiştirmektir. Gerçek programcılar, daha önce hiç görmediği, hiç bilmediği konulardaki problemlere, programcı mantığıyla çözümler üretirler. Bu yüzden programlamaya yeni başlayanlar için, çözüm üretmeyi öğrenmek bir programlama dilini öğrenmekten daha öndedir.  \n",
    "Programlama dili ise, programcının, bilgisayar ile iletişim kurabilmesi için oluşturulmuş komutlar dizisidir. Programcı, belirli bir sistematik içinde, programlama dilinin komutlarını bir araya getirerek, bilgisayara istenilen amaçlar doğrultusunda çalışmasını temin edecek programları üretir.\n",
    "Günümüzde onlarca programlama dili geliştirilmiştir. Her birinin kendine has özellikleri bulunur. Fakat temel olarak, bütün programlama dillerinin gerçekleştirdiği işlemler mevcuttur; aritmetik işlemler, mantıksal işlemler, kontrol işlemleri, giriş-çıkış işlemleri, veri işlemleri. "
   ]
  },
  {
   "cell_type": "markdown",
   "metadata": {},
   "source": [
    "# 2. Yazılım Geliştirme Metodu - Software Development Life Cycle\n",
    "Programlamaya yeni başlayanlar için, programlama denince, hemen bilgisayarın başına oturup, alınan projeyi bir programlama dilinde yazmak gelir. Programlama kesinlikle bu değildir. Bilgisayarın karşısına geçip yazma işlemi, bilgisayar programlamasının sadece bir parçasıdır. Projenin, bir bilgisayar programı haline gelmesi, çeşitli adımlardan sonra gerçekleşir.\n",
    "2.1\tProblemi Anlama ve Çözüm Yöntemi Geliştirme - Analiz\n",
    "2.2 Çözüm Metodunun Tasarımı - Design\n",
    "2.3\tProgramlama-Kodlama (Programming-coding)\n",
    "2.4\tTest\n",
    "2.5 Dağıtım - Deployment\n",
    "2.6 Dokümantasyon\n"
   ]
  },
  {
   "cell_type": "markdown",
   "metadata": {},
   "source": [
    "# 2.1\tProblemi Anlama ve Çözüm Yöntemi Geliştirme - Analiz\n",
    "Eğitim hayatımız boyunca, hocalarımız problemi çözmeden önce iyice anlamamızı tavsiye ettiğini hatırlarız. Eğer bir problem çok iyi kavranamazsa, çözüme ya hiç ulaşılamayacak ya da yanlış sonuçlar üretilecektir.  Bu aşamada bizden ne istendiği, yani programın çıktısı (output) ne olacak, giriş verileri (input) ne olmalı, çok iyi belirlenmelidir. Ayrıca, elimizdeki girdilerle çıktılara nasıl ulaşılabileceğinin metodu geliştirilmeli.  Bu aşamada, ya açılmış bir yoldan gitmelisiniz yada kendiniz yeni bir yol açmalısınız. Bundan dolayı, yazılım geliştirmenin en önemli ve zor adımıdır diyebiliriz. Çözüm için bazen aylarca analiz gerekebilir. Projesini gerçekleştirmeye çalıştığınız konuyla ilgili, başlangıçta hemen hiç bilginiz olmayabilir, fakat projenin analiz kısmı tamamlandığında, en az o işte çalışanlar kadar bilgiye sahip olmanız gerekmektedir. Kötü bir analiz, sonlandığını sandığınız projeyi yeniden yazmanıza veya büyük değişiklikler yapmanıza sebep olabilir.\n"
   ]
  },
  {
   "cell_type": "markdown",
   "metadata": {},
   "source": [
    "\n",
    "# 2.2\tÇözüm Metodunun Tasarımı - Design\n",
    "Problemin çözümü için bulduğumuz metodu, adım adım yazarak veya çizerek tasarımını yapabiliriz. Böylece çözümümüze daha sistematik bir yapı kazandırabiliriz. Bu adımda yapay kod (pseudo-code) veya akış diyagramları kullanılır.\n",
    "\n",
    "Yapay kod (Pseudo-code)\n",
    "Yapay kod,  problem için geliştirilen çözümün, günlük kullandığımız dil ile, adım adım ifade ederek oluşturulan bir dildir. İlk olarak her bir adım genel ifadelerden oluşur. Bir sonraki aşamada, her bir adım için gerekli detaylar eklenecek yapay kod algoritması oluşturulur. Yapay kod, bilgisayarın yorumlayabileceği bir dil değildir. Programcının çözüm metodunu sistemleştirerek, bir sonraki adım olan kod yazımında büyük kolaylıklar sağlamaktadır. \n",
    "\n",
    "Eğer, programın analizini doğru bir şekilde yapıp,  yapay kod ile tasarımını yaparsak, projeyi herhangi bir programlama dili ile yazmak, tereyağından kıl çekme kolaylığında olacaktır.\n",
    "\n",
    "Akış diyagram (flow chart) \n",
    "Bazen bir fikri kelimeler yerine şekillerle anlatmak daha etkili olabilir. Sanatsal bir tablonun sayfalar dolusu düşündürmesi gibi. Analizde bulunan çözüm yolunun, şekillerle ifade edildiği yapı, akış diyagramı algoritması olarak isimlendirilir. Bu algoritmada farklı işlemler için belirlenmiş şekiller kullanılır. \n"
   ]
  },
  {
   "cell_type": "markdown",
   "metadata": {},
   "source": [
    "# 2.3\tProgramlama-Kodlama (Programming-coding) \n",
    "Oluşturulan yapay kod algoritması veya akış diyagramı kullanarak, projenin yapısına uygun bir programlama dilinin kuralları çerçevesinde kod yazma işlemidir. Bu aşamayı bir çeşit \"tercüme\"ye benzetebiliriz. Bizim anlayacağımız işlem basamaklarından oluşan yapay kodun veya akış diyagramının, bilgisayarın anlayacağı bir dile çevrilmesidir.\n"
   ]
  },
  {
   "cell_type": "markdown",
   "metadata": {},
   "source": [
    "# 2.4\tTest\n",
    "Program kodu yazıldıktan sonra, derlenip çalıştırmaya hazırdır. Programcı tarafından yazılan bu kodda, derleme süreci içinde, derleyici tarafından bir takım hatalar bulunabilir. Bir kompozisyon yazarken, kullandığımız dildeki dil bilgisi (gramer) hataları yapılabileceği gibi, herhangi bir programlama dilini kullanırken de, dil kullanım hataları yapılabilir. Yapılan hatalar, kullanılan derleyici tarafından tespit edilerek programcıya bildirilir. Bu tür hatalar, gramer hataları (syntax error) olarak bilinir. Hatalar, programcı tarafından düzeltildikten sonra tekrar derlenir. Eğer programda bir hata yok ise artık çalıştırılabilir.\n",
    "\n",
    "Makine dilindeki program artık çalıştırılabilir. Fakat programın çalışması esnasında da hiç beklemediğimiz hatalarla karlılaşabiliriz. Mesela, bir işlem içinde sıfıra bölme işlemine teşebbüs edilebilir. Program çalışırken ortaya çıkan hatalar, çalıştırma hatalarıdır (run-time error). Bu durumda kaynak kodu tekrar gözden geçirilip hatalar temizlendikten sonra, derlenip tekrar çalıştırılır. Bilgisayarcılar arasında, yapılan bu işleme, hata ayıklama (debugging) olarak bilinir.\n",
    "\n",
    "Programımızın kaynak kodunu yazdık, derledik ve herhangi bir derleme-çalıştırma hatalarıyla karşılaşmadık. Fakat programımız girdiğimiz verilerle istenilen sonuçları vermiyor olabilir. Bu tür hatalar oluşturduğumuz programın algoritmasında bir problem olduğunu gösterir. Hatanın çeşidi, mantık hatasıdır (logic error) ve düzeltilmesi en zor olanıdır; işleme en baştan başlayarak, ele almak durumundasınız.\n",
    "\n",
    "Yazdığımız programın doğruluğunu, programın bizden istediği verileri girerek doğru çıktılar üretip üretmediğini test edebiliriz. Bu işlemi birçok veri kümesiyle yapmamız ve doğru sonuçlar almamız programımızın güvenilirliğini arttıracaktır. Kompleks programlar için, her türlü ayrıntı düşünülerek test edilmesi gerektiği unutulmamalı. Şirketler programlarının test işlemi için özel test ekipleri kurmaktadır.\n"
   ]
  },
  {
   "cell_type": "markdown",
   "metadata": {},
   "source": [
    "# 2.5 Ürünleştirme - Deployment\n",
    "Çeşitli seviyelerdeki testlerden geçen yazılım projesi artık kullanıcıların kullanımına hazır hale gelmiştir. Kullanım amacına uygun ortama yüklenerek müşterilerin hizmetine sunulur. Bu aşama şirketlerde DevOps Ekiplerince gerçekleştirilir."
   ]
  },
  {
   "cell_type": "markdown",
   "metadata": {},
   "source": [
    "# 2.6 Dokümantasyon \n",
    "Dokümantasyon, programla ilgili açıklamaların yapıldığı bir süreçtir. Dokümantasyonu, teknik ve kullanıcı amaçlı olarak ikiye ayırabiliriz. Teknik dokümanlar, programcılara yönelik olarak hazırlanır. İleriki zamanlarda program üzerinde, geliştirme veya değiştirme amaçlı yapılabilecek işlemler için, program ile ilgili teknik bilgileri içerir. Kullanıcıya yönelik hazırlanan dokümanlar ise, programın genel işleyişi ile ilgilidir.\n"
   ]
  },
  {
   "cell_type": "markdown",
   "metadata": {},
   "source": [
    "# 2.7 Bakım - Mantainance\n",
    "Bilgisayar programı kullanıcılar tarafından kullanılmaya başladıktan sonra, çalışmasının devamlılığı sağlanmalıdır. Ayrıca  kullanıcının yeni talepleri ve yeni gelişen ihtiyaçlara bağlı olarak programın yeni versiyonları üretilir. Bu çerçevede yazılım geliştirme metodunun ilk adımından başlayarak işlemler yenilenerek devam eder."
   ]
  },
  {
   "cell_type": "markdown",
   "metadata": {},
   "source": [
    "# Uygulama"
   ]
  },
  {
   "cell_type": "markdown",
   "metadata": {},
   "source": [
    "# Problem \n",
    "Bir laboratuar ortamının sıcaklığını ölçen cihaz (termometre), sonucu santigrad cinsinden göstermektedir. Fakat laboratuar çalışanları, yaptıkları deneylerde, ortam sıcaklığının fahrenayt cinsinden değerine ihtiyaçları bulunmakta. Bunun için bir program geliştirilmesi istenmektedir."
   ]
  },
  {
   "cell_type": "markdown",
   "metadata": {},
   "source": [
    "# Analiz\n",
    "İlk olarak laboratuar çalışanlarının bizden ne istediğini anlamalıyız. Deneyde kullanılacak sıcaklık birimi fahrenaytır. Bundan dolayı, cihazın ölçtüğü santigrad, fahrenayta çevrilmelidir. Programımıza santigrad dereceyi girdi olarak vereceğiz. Program çıktımız ise, kimyadan bildiğimiz \n",
    "\n",
    "C = 9 / 2 * F\n",
    "\n",
    "Formülünü kullanarak bulacağımız, sıcaklığın fahrenayt cinsinden gösterilmesi olacaktır.\n",
    "\n",
    "Programımızda kullanacağımız, program girdisi, çıktısı ve gerekli formüller aşağıdaki gibi özetlenebilir.\n",
    "\n",
    "Problem girdisi \n",
    "    Sıcaklığın santigrad cinsinden değeri\n",
    "Problem çıktısı\n",
    "    Sıcaklığın fahrenayt cinsinden değeri\n",
    "Gerekli formül \n",
    "   C = 9 / 2 * F"
   ]
  },
  {
   "cell_type": "markdown",
   "metadata": {},
   "source": [
    "# Tasarım\n",
    "Bu aşamada, problemin çözümü için bulduğumuz metodu adım adım yazarak yapay kod ve akış diyagramını oluşturacağız.\n",
    "\n",
    "Genel Yapay kod Algoritması\n",
    "1. Sıcaklığın santigrad cinsinden değerini al. \n",
    "2. Santigradı fahrenayta çevir.\n",
    "3. Sıcaklığın, fahrenayt cinsinden değerini göster.\n",
    "Genel olarak yazdığımız bu algoritma gerekli gördüğümüz adımlarına ayrıntılar eklemeliyiz. İkinci basamaktaki, Santigradı fahrenaya çevir işleminde olduğu gibi. Burada, çevirme işlemi için gerekli formül belirtilebilir. Yapay kod algoritmamız su şekilde olacaktır.\n",
    "\n",
    "Ayrıntılı Yapay kod Algoritması\n",
    "1.sıcaklığın derece cinsinden değerini al.\n",
    "\tsantigrad\n",
    "2. Santigradı fahrenayta çevir.\n",
    "    santigrad = 9 / 2 * fahrenayt\n",
    "3. Sıcaklığın, fahrenayt cinsinden değerini göster.\n",
    "\n",
    "Akış Diagramı\n",
    "\n",
    "![Akış Diagramı](../Images/akis_diagrami.png)\n"
   ]
  },
  {
   "cell_type": "markdown",
   "metadata": {},
   "source": [
    "# Kodlama \n",
    "Oluşturduğumuz yapay kod algoritmasını veya akış diyagramını kullanarak adım adım Python koduna dönüştürebiliriz. Yapay kod algoritmasının, Python koduna dönüşmüş hali aşağıdaki gibidir. Programcı tarafından, herhangi bir dilin kuralları içinde yazılmış program, kaynak kodu (source code) olarak isimlendirilir. Bu aşamada kaynak kodu, derlenip çalıştırılmaya hazırdır.\n",
    "Şu an için aşağıdaki programın detaylarına anlamanız elbette mümkün olmayacak. İlerleyen bölümlerde kodu ayrıntılarını öğreneceksiniz."
   ]
  },
  {
   "cell_type": "code",
   "execution_count": 1,
   "metadata": {},
   "outputs": [
    {
     "name": "stdout",
     "output_type": "stream",
     "text": [
      "fahrenayt cinsinden sicaklik:  135.0\n"
     ]
    }
   ],
   "source": [
    "# Sıcaklığın derece cinsinden değerini al\n",
    "sicaklik_C = float(input(\"sicakligin derece cinsinden degerini girin: \"))\n",
    "\n",
    "# Santigradı fahrenayta çevir\n",
    "sicaklik_F = (float)(9/2 * sicaklik_C)\n",
    "\n",
    "# Sıcaklığın, fahrenayt cinsinden değerini göster.\n",
    "print (\"fahrenayt cinsinden sicaklik: \", sicaklik_F)"
   ]
  },
  {
   "cell_type": "markdown",
   "metadata": {},
   "source": []
  },
  {
   "cell_type": "markdown",
   "metadata": {},
   "source": [
    "# Test\n",
    "sicakligi derece cinsinden girin :30\n",
    "fahrenayt cinsinden sicaklik:135.0\n"
   ]
  }
 ],
 "metadata": {
  "kernelspec": {
   "display_name": "Python 3.8.9 64-bit",
   "language": "python",
   "name": "python3"
  },
  "language_info": {
   "codemirror_mode": {
    "name": "ipython",
    "version": 3
   },
   "file_extension": ".py",
   "mimetype": "text/x-python",
   "name": "python",
   "nbconvert_exporter": "python",
   "pygments_lexer": "ipython3",
   "version": "3.8.9"
  },
  "orig_nbformat": 4,
  "vscode": {
   "interpreter": {
    "hash": "31f2aee4e71d21fbe5cf8b01ff0e069b9275f58929596ceb00d14d90e3e16cd6"
   }
  }
 },
 "nbformat": 4,
 "nbformat_minor": 2
}
