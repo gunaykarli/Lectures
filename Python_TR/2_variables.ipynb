{
 "cells": [
  {
   "attachments": {},
   "cell_type": "markdown",
   "metadata": {},
   "source": [
    "# Değişkenler\n",
    "Python değişkenleri, bir Python programındaki değerleri depolamak için kullanılan ayrılmış bellek konumlarıdır. Bir değişken oluşturmanız, bellekte bir miktar yer ayırdığınız anlamına gelir."
   ]
  },
  {
   "attachments": {},
   "cell_type": "markdown",
   "metadata": {},
   "source": [
    "# Python Değişkenleri Oluşturma\n",
    "Python değişkenleri değer atadığınızda otomatik olarak oluşturulur. Değişkenlere değer atamak için eşittir işareti (=) kullanılır.\n",
    "= operatörünün solundaki işlenen, değişkenin adıdır ve = operatörünün sağındaki işlenen, değişkende depolanan değerdir. Örneğin"
   ]
  },
  {
   "cell_type": "code",
   "execution_count": 2,
   "metadata": {},
   "outputs": [],
   "source": [
    "# tamsayı değişken oluştur (integer)\n",
    "age = 17\n",
    "\n",
    "# kayan nokta değişken oluştur (floating point)\n",
    "pi = 3.14\n",
    "\n",
    "# metin/dizi değişken oluştur (string)\n",
    "message = 'Ve şimdi tamamen farklı birşey'"
   ]
  },
  {
   "attachments": {},
   "cell_type": "markdown",
   "metadata": {},
   "source": [
    "# Python Değişkenlerini Yazdırma\n",
    "Bir Python değişkeni oluşturup ona bir değer atadığımızda, bunu print() işlevini kullanarak yazdırabiliriz.\n",
    "\n",
    "Not: Değişken türünü kontrol etmek için yerleşik Python yöntemi type() kullanılır."
   ]
  },
  {
   "cell_type": "code",
   "execution_count": 3,
   "metadata": {},
   "outputs": [
    {
     "name": "stdout",
     "output_type": "stream",
     "text": [
      "17\n",
      "3.14\n",
      "Ve şimdi tamamen farklı birşey\n"
     ]
    }
   ],
   "source": [
    "print(age)\n",
    "print(pi)\n",
    "print(message)"
   ]
  },
  {
   "cell_type": "code",
   "execution_count": 4,
   "metadata": {},
   "outputs": [
    {
     "name": "stdout",
     "output_type": "stream",
     "text": [
      "<class 'int'>\n",
      "<class 'float'>\n",
      "<class 'str'>\n"
     ]
    }
   ],
   "source": [
    "print(type(age))\n",
    "print(type(pi))\n",
    "print(type(message))"
   ]
  },
  {
   "attachments": {},
   "cell_type": "markdown",
   "metadata": {},
   "source": [
    "# Çoklu Atama\n",
    "Python, birkaç değişkene aynı anda tek bir değer atamanıza izin verir, bu da aynı anda birden çok değişken oluşturabileceğiniz anlamına gelir. Birden çok değişkene birden çok nesne de atayabilirsiniz."
   ]
  },
  {
   "cell_type": "code",
   "execution_count": 4,
   "metadata": {},
   "outputs": [
    {
     "name": "stdout",
     "output_type": "stream",
     "text": [
      "101\n",
      "101\n",
      "101\n"
     ]
    }
   ],
   "source": [
    "a = b = c = 101\n",
    "\n",
    "print(a)\n",
    "print(b)\n",
    "print(c)"
   ]
  },
  {
   "cell_type": "code",
   "execution_count": 5,
   "metadata": {},
   "outputs": [
    {
     "name": "stdout",
     "output_type": "stream",
     "text": [
      "17\n",
      "3.14\n",
      "And now for something completely different\n"
     ]
    }
   ],
   "source": [
    "age, pi, message = 17, 3.14, 'And now for something completely different'\n",
    "\n",
    "print(age)\n",
    "print(pi)\n",
    "print(message)"
   ]
  },
  {
   "attachments": {},
   "cell_type": "markdown",
   "metadata": {},
   "source": [
    "# Python Değişken Adları\n",
    "Her Python değişkeninin a, b, c gibi benzersiz bir adı olmalıdır. Bir değişken ismi renk, yaş, isim gibi anlamlı olabilir. Bir Python değişkenini isimlendirilirken dikkat edilmesi gereken bazı kurallar vardır:\n",
    "* Değişken adı bir harf veya alt çizgi karakteri ile başlamalıdır.\n",
    "* Bir değişken adı bir sayı veya $, (, * % vb.) ile başlayamaz.\n",
    "* Bir değişken adı yalnızca alfanümerik karakterler ve alt çizgiler içerebilir (A-z, 0-9 ve _ )\n",
    "* Python değişken adları büyük/küçük harfe duyarlıdır, yani ad ve AD Python'da iki farklı değişkendir.\n",
    "* Python'a ayrılmış anahtar kelimeler, değişken adlandırmak için kullanılamaz."
   ]
  },
  {
   "cell_type": "code",
   "execution_count": 6,
   "metadata": {},
   "outputs": [],
   "source": [
    "counter = 100\n",
    "_count  = 100\n",
    "name1 = \"Irem\"\n",
    "name2 = \"Kerem\"\n",
    "Age  = 20\n",
    "irem_salary = 10000"
   ]
  },
  {
   "attachments": {},
   "cell_type": "markdown",
   "metadata": {},
   "source": [
    "# Quiz\n",
    "\n",
    "1. print(type(10)) veri tipi nedir?\n",
    "\n",
    "2. Aşağıdaki değişkenlerin adlarını düzeltin"
   ]
  },
  {
   "cell_type": "code",
   "execution_count": null,
   "metadata": {},
   "outputs": [],
   "source": [
    "$_count  = 100\n",
    "1name = \"Irem\"\n",
    "2name = \"Kerem\"\n",
    "irem-salary = 10000"
   ]
  }
 ],
 "metadata": {
  "kernelspec": {
   "display_name": "Python 3.8.9 64-bit",
   "language": "python",
   "name": "python3"
  },
  "language_info": {
   "codemirror_mode": {
    "name": "ipython",
    "version": 3
   },
   "file_extension": ".py",
   "mimetype": "text/x-python",
   "name": "python",
   "nbconvert_exporter": "python",
   "pygments_lexer": "ipython3",
   "version": "3.9.6 (default, Oct 18 2022, 12:41:40) \n[Clang 14.0.0 (clang-1400.0.29.202)]"
  },
  "orig_nbformat": 4,
  "vscode": {
   "interpreter": {
    "hash": "31f2aee4e71d21fbe5cf8b01ff0e069b9275f58929596ceb00d14d90e3e16cd6"
   }
  }
 },
 "nbformat": 4,
 "nbformat_minor": 2
}
