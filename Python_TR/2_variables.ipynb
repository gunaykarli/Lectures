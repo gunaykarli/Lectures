{
 "cells": [
  {
   "cell_type": "markdown",
   "metadata": {},
   "source": [
    "# Variables\n",
    "Python variables are the reserved memory locations used to store values with in a Python Program. This means that when you create a variable you reserve some space in the memory."
   ]
  },
  {
   "cell_type": "markdown",
   "metadata": {},
   "source": [
    "# Creating Python Variables\n",
    "A Python variable is created automatically when you assign a value to it. The equal sign (=) is used to assign values to variables.\n",
    "The operand to the left of the = operator is the name of the variable and the operand to the right of the = operator is the value stored in the variable. For example −"
   ]
  },
  {
   "cell_type": "code",
   "execution_count": 2,
   "metadata": {},
   "outputs": [],
   "source": [
    "# Creates an integer variable\n",
    "age = 17\n",
    "\n",
    "# Creates a floating point variable\n",
    "pi = 3.14\n",
    "\n",
    "# Creates a string variable\n",
    "message = 'And now for something completely different'"
   ]
  },
  {
   "cell_type": "markdown",
   "metadata": {},
   "source": [
    "# Printing Python Variables\n",
    "Once we create a Python variable and assign a value to it, we can print it using print() function."
   ]
  },
  {
   "cell_type": "code",
   "execution_count": null,
   "metadata": {},
   "outputs": [],
   "source": [
    "print(age)\n",
    "print(pi)\n",
    "print(message)"
   ]
  },
  {
   "cell_type": "markdown",
   "metadata": {},
   "source": [
    "# Multiple Assignment\n",
    "Python allows you to assign a single value to several variables simultaneously which means you can create multiple variables at a time. You can also assign multiple objects to multiple variables"
   ]
  },
  {
   "cell_type": "code",
   "execution_count": null,
   "metadata": {},
   "outputs": [],
   "source": [
    "a = b = c = 101\n",
    "\n",
    "print(a)\n",
    "print(b)\n",
    "print(c)"
   ]
  },
  {
   "cell_type": "code",
   "execution_count": null,
   "metadata": {},
   "outputs": [],
   "source": [
    "age, pi, message = 17, 3.14, 'And now for something completely different'\n",
    "\n",
    "print(age)\n",
    "print(pi)\n",
    "print(message)"
   ]
  },
  {
   "cell_type": "markdown",
   "metadata": {},
   "source": [
    "# Python Variable Names\n",
    "Every Python variable should have a unique name like a, b, c. A variable name can be meaningful like color, age, name etc. There are certain rules which should be taken care while naming a Python variable:\n",
    "* A variable name must start with a letter or the underscore character\n",
    "* A variable name cannot start with a number or any special character like $, (, * % etc.\n",
    "* A variable name can only contain alpha-numeric characters and underscores (A-z, 0-9, and _ )\n",
    "* Python variable names are case-sensitive which means Name and NAME are two different variables in Python.\n",
    "* Python reserved keywords cannot be used naming the variable."
   ]
  },
  {
   "cell_type": "code",
   "execution_count": null,
   "metadata": {},
   "outputs": [],
   "source": [
    "counter = 100\n",
    "_count  = 100\n",
    "name1 = \"Irem\"\n",
    "name2 = \"Kerem\"\n",
    "Age  = 20\n",
    "irem_salary = 10000"
   ]
  },
  {
   "cell_type": "code",
   "execution_count": null,
   "metadata": {},
   "outputs": [],
   "source": [
    "$_count  = 100\n",
    "1name = \"Irem\"\n",
    "2name = \"Kerem\"\n",
    "irem-salary = 10000"
   ]
  }
 ],
 "metadata": {
  "kernelspec": {
   "display_name": "Python 3.8.9 64-bit",
   "language": "python",
   "name": "python3"
  },
  "language_info": {
   "codemirror_mode": {
    "name": "ipython",
    "version": 3
   },
   "file_extension": ".py",
   "mimetype": "text/x-python",
   "name": "python",
   "nbconvert_exporter": "python",
   "pygments_lexer": "ipython3",
   "version": "3.9.6 (default, Oct 18 2022, 12:41:40) \n[Clang 14.0.0 (clang-1400.0.29.202)]"
  },
  "orig_nbformat": 4,
  "vscode": {
   "interpreter": {
    "hash": "31f2aee4e71d21fbe5cf8b01ff0e069b9275f58929596ceb00d14d90e3e16cd6"
   }
  }
 },
 "nbformat": 4,
 "nbformat_minor": 2
}
