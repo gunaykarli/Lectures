{
 "cells": [
  {
   "cell_type": "markdown",
   "metadata": {},
   "source": [
    "# Python Functions\n",
    "In Python, the function is a block of code defined with a name. We use functions whenever we need to perform the same task multiple times without writing the same code again. It can take arguments and returns the value.\n",
    "\n",
    "Python has a DRY principle like other programming languages. DRY stands for Don’t Repeat Yourself. Consider a scenario where we need to do some action/task many times. We can define that action only once using a function and call that function whenever required to do the same activity.\n",
    "\n",
    "Function improves efficiency and reduces errors because of the reusability of a code. Once we create a function, we can call it anywhere and anytime. The benefit of using a function is reusability and modularity."
   ]
  },
  {
   "cell_type": "markdown",
   "metadata": {},
   "source": [
    "# Types of Functions\n",
    "Python support two types of functions\n",
    "\n",
    "- Built-in function\n",
    "- User-defined function\n",
    "\n",
    "**Built-in function**\n",
    "The functions which are come along with Python itself are called a built-in function or predefined function. Some of them are listed below.\n",
    "range(), input(), type() etc.\n",
    "\n",
    "**User-defined function**\n",
    "Functions which are created by programmer explicitly according to the requirement are called a user-defined function."
   ]
  },
  {
   "cell_type": "markdown",
   "metadata": {},
   "source": [
    "# Defining a function\n",
    "Use the following steps to to define a function in Python.\n",
    "\n",
    "Use the \"def\" keyword with the \"function name\" to define a function.\n",
    "Next, pass the number of \"parameters\" as per your requirement. (Optional).\n",
    "Next, define the \"function body\" with a block of code. This block of code is nothing but the action you wanted to perform.\n",
    "In Python, no need to specify curly braces for the function body. The only indentation is essential to separate code blocks. Otherwise, you will get an error.\n",
    "\n",
    "def function_name(parameter1, parameter2):\n",
    "       # function body    \n",
    "       # write some action\n",
    "return value\n"
   ]
  },
  {
   "cell_type": "code",
   "execution_count": null,
   "metadata": {},
   "outputs": [],
   "source": [
    "def function_name(parameter1, parameter2):\n",
    "       # function body    \n",
    "       # write some action\n",
    "return value"
   ]
  },
  {
   "cell_type": "markdown",
   "metadata": {},
   "source": [
    "function_name: Function name is the name of the function. We can give any name to function.\n",
    "parameter: Parameter is the value passed to the function. We can pass any number of parameters. Function body uses the parameter’s value to perform an action\n",
    "function_body: The function body is a block of code that performs some task. This block of code is nothing but the action you wanted to accomplish.\n",
    "return value: Return value is the output of the function."
   ]
  },
  {
   "cell_type": "markdown",
   "metadata": {},
   "source": [
    "# Example\n",
    "Even or odd with function"
   ]
  },
  {
   "cell_type": "code",
   "execution_count": 1,
   "metadata": {},
   "outputs": [
    {
     "name": "stdout",
     "output_type": "stream",
     "text": [
      "7 is an ODD number\n"
     ]
    }
   ],
   "source": [
    "# function defination\n",
    "def even_odd(number):\n",
    "    # check number is even or odd\n",
    "    if number % 2 == 0:\n",
    "        print(number, 'is an EVEN number')\n",
    "    else:\n",
    "        print(number, 'is an ODD number')\n",
    "\n",
    "\n",
    "# take a number from the user\n",
    "test_number = int(input(\"Enter a test number: \"))\n",
    "# calling function by its name\n",
    "even_odd(test_number)"
   ]
  },
  {
   "cell_type": "markdown",
   "metadata": {},
   "source": [
    "# Example\n",
    "sum of two number with function"
   ]
  },
  {
   "cell_type": "code",
   "execution_count": 5,
   "metadata": {},
   "outputs": [
    {
     "name": "stdout",
     "output_type": "stream",
     "text": [
      "4  +  6  =  10\n"
     ]
    }
   ],
   "source": [
    "# function\n",
    "def sum(a, b):\n",
    "    result = a + b\n",
    "    # return the addition\n",
    "    return result\n",
    "\n",
    "# take numbers from the user\n",
    "number1 = int(input(\"Enter first number: \"))\n",
    "number2 = int(input(\"Enter second number: \"))\n",
    "\n",
    "# call sum function with the arguments\n",
    "result_sum = sum(number1, number2)\n",
    "\n",
    "print(number1, \" + \", number2, \" = \", result_sum)"
   ]
  },
  {
   "attachments": {},
   "cell_type": "markdown",
   "metadata": {},
   "source": [
    "# IREM\n",
    "# Return Multiple Values\n",
    "You can also return multiple values from a function. Use the return statement by separating each expression by a comma."
   ]
  },
  {
   "attachments": {},
   "cell_type": "markdown",
   "metadata": {},
   "source": [
    "# Example\n",
    "\n",
    "In this example, we are returning three values from a function. We will also see how to process or read multiple return values in our code."
   ]
  },
  {
   "cell_type": "code",
   "execution_count": null,
   "metadata": {},
   "outputs": [],
   "source": [
    "def arithmetic(num1, num2):\n",
    "    add = num1 + num2\n",
    "    sub = num1 - num2\n",
    "    multiply = num1 * num2\n",
    "    division = num1 / num2\n",
    "    # return four values\n",
    "    return add, sub, multiply, division\n",
    "\n",
    "# read four return values in four variables\n",
    "a, b, c, d = arithmetic(10, 2)\n",
    "\n",
    "print(\"Addition: \", a)\n",
    "print(\"Subtraction: \", b)\n",
    "print(\"Multiplication: \", c)\n",
    "print(\"Division: \", d)"
   ]
  },
  {
   "attachments": {},
   "cell_type": "markdown",
   "metadata": {},
   "source": [
    "# IREM\n",
    "# Default Arguments\n",
    "Default arguments take the default value during the function call if we do not pass them. We can assign a default value to an argument in function definition using the = assignment operator."
   ]
  },
  {
   "attachments": {},
   "cell_type": "markdown",
   "metadata": {},
   "source": [
    "# Example"
   ]
  },
  {
   "cell_type": "code",
   "execution_count": null,
   "metadata": {},
   "outputs": [],
   "source": [
    "# function with default argument\n",
    "def message(name=\"Guest\"):\n",
    "    print(\"Hello\", name)\n",
    "\n",
    "# calling function with argument\n",
    "message(\"John\")\n",
    "\n",
    "# calling function without argument\n",
    "message()"
   ]
  },
  {
   "attachments": {},
   "cell_type": "markdown",
   "metadata": {},
   "source": [
    "# Quiz\n",
    "A function show_employee() that accepts the employee’s name and salary and displays both. If salary value is missing in the function call, the function automatically takes default value 9000 as a salary."
   ]
  },
  {
   "cell_type": "code",
   "execution_count": null,
   "metadata": {},
   "outputs": [],
   "source": [
    "# function with default argument\n",
    "def show_employee(name, salary=9000):\n",
    "    print(\"Hello\", name)\n",
    "\n",
    "# calling function with argument\n",
    "show_employee(\"John\", 8000)\n",
    "\n",
    "# calling function without argument\n",
    "show_employee(\"Eva\")"
   ]
  },
  {
   "cell_type": "markdown",
   "metadata": {},
   "source": [
    "# Scope and Lifetime of Variables\n",
    "When we define a function with variables, then those variables’ scope is limited to that function. In Python, the scope of a variable is an area where a variable is declared. It is called the variable’s local scope.\n",
    "\n",
    "We cannot access the local variables from outside of the function. Because the scope is local, those variables are not visible from the outside of the function.\n",
    "\n",
    "When we are executing a function, the life of the variables is up to running time. Once we return from the function, those variables get destroyed. So function does no need to remember the value of a variable from its previous call."
   ]
  },
  {
   "cell_type": "code",
   "execution_count": null,
   "metadata": {},
   "outputs": [],
   "source": [
    "def function1():\n",
    "    # local variable\n",
    "    number = 888\n",
    "    print(\"Value of the number is :\", number)\n",
    "\n",
    "def function2():\n",
    "    print(\"Value of the number is :\", number)\n",
    "\n",
    "function1()\n",
    "function2()\n",
    "# print(\"Value of the number is :\", number)"
   ]
  },
  {
   "cell_type": "code",
   "execution_count": 8,
   "metadata": {},
   "outputs": [
    {
     "name": "stdout",
     "output_type": "stream",
     "text": [
      "Value of the number is : 1\n",
      "Value of the number is : 2\n"
     ]
    }
   ],
   "source": [
    "def function1():\n",
    "    # local variable\n",
    "    number = 1\n",
    "    print(\"Value of the number is :\", number)\n",
    "\n",
    "def function2():\n",
    "    number = 2\n",
    "    print(\"Value of the number is :\", number)\n",
    "\n",
    "function1()\n",
    "function2()\n",
    "# print(\"Value of the number is :\", number)"
   ]
  },
  {
   "cell_type": "markdown",
   "metadata": {},
   "source": [
    "# Example\n",
    "Get largest number of three numbers"
   ]
  },
  {
   "cell_type": "code",
   "execution_count": 10,
   "metadata": {},
   "outputs": [
    {
     "name": "stdout",
     "output_type": "stream",
     "text": [
      "Largest Number:  8\n"
     ]
    }
   ],
   "source": [
    "\"\"\" Get largest number from the three numbers \"\"\"\n",
    "def get_largest_number(num1, num2, num3):\n",
    "    if num1 > num2 and num1 > num3 :\n",
    "        return num1\n",
    "    elif num2 > num3 :\n",
    "        return num2\n",
    "    else :\n",
    "        return num3\n",
    "\n",
    "\n",
    "def main():\n",
    "    number1 = int(input(\"Enter first number: \"))\n",
    "    number2 = int(input(\"Enter second number: \"))\n",
    "    number3 = int(input(\"Enter third number: \"))\n",
    "    \n",
    "    # call the function to get the largest number\n",
    "    largestNumber = get_largest_number(number1, number2, number3)\n",
    "    print(\"Largest Number: \", largestNumber)\n",
    "\n",
    "main()"
   ]
  },
  {
   "cell_type": "markdown",
   "metadata": {},
   "source": [
    "# Exercise\n",
    "Write a function that generates a random password. The password should have a random length of between 7 and 10 characters. Each character should be randomly selected from positions 33 to 126 in the ASCII table. Your function will not take any parameters. It will return the randomly generated password as its only result. Display the randomly generated password in your main program. "
   ]
  },
  {
   "cell_type": "code",
   "execution_count": 11,
   "metadata": {},
   "outputs": [
    {
     "name": "stdout",
     "output_type": "stream",
     "text": [
      "Your random password is:  <3vE[axD__\n"
     ]
    }
   ],
   "source": [
    "\n",
    "import random\n",
    "\n",
    "SHORTEST = 7\n",
    "LONGEST = 10\n",
    "MIN_ASCII = 33\n",
    "MAX_ASCII = 126\n",
    "\n",
    "def random_password():\n",
    "    random_length = random.randint(SHORTEST, LONGEST)\n",
    "    result = ''\n",
    "    for i in range(random_length):\n",
    "        random_char = chr(random.randint(MIN_ASCII, MAX_ASCII))\n",
    "        result += random_char\n",
    "    return result \n",
    "\n",
    "def main(): \n",
    "    print(\"Your random password is: \", random_password())\n",
    "\n",
    "\n",
    "main()\n",
    "\n"
   ]
  },
  {
   "cell_type": "markdown",
   "metadata": {},
   "source": [
    "# Exercise\n",
    "In this exercise you will write a function that determines whether or not a password is good. We will define a good password to be a one that is at least 8 characters long and contains at least one uppercase letter, at least one lowercase letter, and at least one number. Your function should return true if the password passed to it as its only parameter is good. Otherwise it should return false. Include a main program that reads a password from the user and reports whether or not it is good."
   ]
  },
  {
   "cell_type": "code",
   "execution_count": 14,
   "metadata": {},
   "outputs": [
    {
     "name": "stdout",
     "output_type": "stream",
     "text": [
      "The password is good\n"
     ]
    }
   ],
   "source": [
    "def check_password(password): \n",
    "    has_upper = False\n",
    "    has_lower = False\n",
    "    has_num = False\n",
    "    \n",
    "    for ch in password: \n",
    "        if ch >= 'A' and ch <= 'Z': \n",
    "            has_upper = True\n",
    "        elif ch >= 'a' and ch <= 'z': \n",
    "            has_lower = True\n",
    "        elif ch >= '0' and ch <= '9':    \n",
    "            has_num = True\n",
    "    \n",
    "    if len(password) >= 8 and has_upper and has_lower and has_num:\n",
    "        return True\n",
    "    return False\n",
    "\n",
    "def main(): \n",
    "    password = input(\"Enter your password: \" )\n",
    "    if check_password(password): \n",
    "        print(\"The password is good\")\n",
    "    else: \n",
    "        print(\"The password is NOT good\")\n",
    "\n",
    "main()"
   ]
  }
 ],
 "metadata": {
  "kernelspec": {
   "display_name": "Python 3.8.9 64-bit",
   "language": "python",
   "name": "python3"
  },
  "language_info": {
   "codemirror_mode": {
    "name": "ipython",
    "version": 3
   },
   "file_extension": ".py",
   "mimetype": "text/x-python",
   "name": "python",
   "nbconvert_exporter": "python",
   "pygments_lexer": "ipython3",
   "version": "3.8.9"
  },
  "orig_nbformat": 4,
  "vscode": {
   "interpreter": {
    "hash": "31f2aee4e71d21fbe5cf8b01ff0e069b9275f58929596ceb00d14d90e3e16cd6"
   }
  }
 },
 "nbformat": 4,
 "nbformat_minor": 2
}
