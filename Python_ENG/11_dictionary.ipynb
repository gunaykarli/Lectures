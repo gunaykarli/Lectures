{
 "cells": [
  {
   "cell_type": "markdown",
   "metadata": {},
   "source": [
    "# Dictionary\n",
    "In python, a dictionary is a kind of container that stores the items in key-value pairs, like,\n",
    "\n",
    "KEY     VALUE\n",
    "John    45\n",
    "Ahmet   34\n",
    "Eva     30\n",
    "Azra    39\n",
    "\n",
    "This is an example of dictionary, which contain employee names as keys and their age as values. Elements in the dictionary are stored as key-value pairs, where each value is mapped with a key. It is also known as associative array or hash table."
   ]
  },
  {
   "cell_type": "markdown",
   "metadata": {},
   "source": [
    "As a dictionary, keeps the elements in key-value mapping format and internally uses hashing for it; therefore, we can get a value from the dictionary by its key very QUICKLY."
   ]
  },
  {
   "cell_type": "markdown",
   "metadata": {},
   "source": [
    "# Essential points about keys in the dictionary\n",
    "Keys are always UNIQUE in the dictionary\n",
    "keys must be of an immutable data type, i.e., strings, numbers, or tuples.\n",
    "It means once a key-value pair is added in the dictionary then it cannot modify the key itself, although we can change the value associated with it."
   ]
  },
  {
   "cell_type": "markdown",
   "metadata": {},
   "source": [
    "# Creating a dictionary\n",
    "There are following three ways to create a dictionary.\n",
    "\n",
    "Using curly brackets: The dictionaries are created by enclosing the comma-separated Key: Value pairs inside the {} curly brackets. The colon ‘:‘ is used to separate the key and value in a pair.\n",
    "Using dict() constructor:  Create a dictionary by passing the comma-separated key: value pairs inside the dict().\n",
    "Using sequence having each item as a pair (key-value)"
   ]
  },
  {
   "cell_type": "code",
   "execution_count": null,
   "metadata": {},
   "outputs": [],
   "source": [
    "# create a dictionary using {}\n",
    "person = {\"name\": \"Jessa\", \"country\": \"USA\", \"telephone\": 1178}\n",
    "print(person)"
   ]
  },
  {
   "cell_type": "code",
   "execution_count": null,
   "metadata": {},
   "outputs": [],
   "source": [
    "# create a dictionary using dict()\n",
    "person = dict({\"name\": \"Jessa\", \"country\": \"USA\", \"telephone\": 1178})\n",
    "print(person)"
   ]
  },
  {
   "cell_type": "code",
   "execution_count": null,
   "metadata": {},
   "outputs": [],
   "source": [
    "# create a dictionary from sequence having each item as a pair\n",
    "person = dict([(\"name\", \"Mark\"), (\"country\", \"USA\"), (\"telephone\", 1178)])\n",
    "print(person)"
   ]
  },
  {
   "cell_type": "code",
   "execution_count": null,
   "metadata": {},
   "outputs": [],
   "source": [
    "# create dictionary with mixed keys keys\n",
    "# first key is string and second is an integer\n",
    "sample_dict = {\"name\": \"Jessa\", 10: \"Mobile\"}\n",
    "print(sample_dict)"
   ]
  },
  {
   "cell_type": "code",
   "execution_count": null,
   "metadata": {},
   "outputs": [],
   "source": [
    "# create dictionary with value as a list\n",
    "person = {\"name\": \"Jessa\", \"telephones\": [1178, 2563, 4569]}\n",
    "print(person)"
   ]
  },
  {
   "cell_type": "markdown",
   "metadata": {},
   "source": [
    "# Empty Dictionary\n",
    "When we create a dictionary without any elements inside the curly brackets then it will be an empty dictionary."
   ]
  },
  {
   "cell_type": "code",
   "execution_count": null,
   "metadata": {},
   "outputs": [],
   "source": [
    "emptydict = {}\n",
    "print(type(emptydict)) "
   ]
  },
  {
   "cell_type": "markdown",
   "metadata": {},
   "source": [
    "# Accessing elements of a dictionary\n",
    "There are two different ways to access the elements of a dictionary.\n",
    "\n",
    "- Retrieve value using the key name inside the [] square brackets\n",
    "- Retrieve value by passing key name as a parameter to the get() method of a dictionary."
   ]
  },
  {
   "cell_type": "code",
   "execution_count": null,
   "metadata": {},
   "outputs": [],
   "source": [
    "# create a dictionary named person\n",
    "person = {\"name\": \"Jessa\", \"country\": \"USA\", \"telephone\": 1178}"
   ]
  },
  {
   "cell_type": "code",
   "execution_count": null,
   "metadata": {},
   "outputs": [],
   "source": [
    "# access value using key name in []\n",
    "print(person['name'])"
   ]
  },
  {
   "cell_type": "code",
   "execution_count": null,
   "metadata": {},
   "outputs": [],
   "source": [
    "#  get key value using key name in get()\n",
    "print(person.get('telephone'))"
   ]
  },
  {
   "cell_type": "markdown",
   "metadata": {},
   "source": [
    "# Get all keys and values\n",
    "Use the following dictionary methods to retrieve all key and values at once\n",
    "\n",
    "- keys()\tReturns the list of all keys present in the dictionary.\n",
    "- values()\tReturns the list of all values present in the dictionary\n",
    "- items()\tReturns all the items present in the dictionary. Each item will be inside a tuple as a key-value pair."
   ]
  },
  {
   "cell_type": "code",
   "execution_count": null,
   "metadata": {},
   "outputs": [],
   "source": [
    "person = {\"name\": \"Jessa\", \"country\": \"USA\", \"telephone\": 1178}"
   ]
  },
  {
   "cell_type": "code",
   "execution_count": null,
   "metadata": {},
   "outputs": [],
   "source": [
    "# Get all keys\n",
    "print(person.keys())\n",
    "print(type(person.keys()))"
   ]
  },
  {
   "cell_type": "code",
   "execution_count": null,
   "metadata": {},
   "outputs": [],
   "source": [
    "# Get all values\n",
    "print(person.values())\n",
    "print(type(person.values()))  "
   ]
  },
  {
   "cell_type": "code",
   "execution_count": null,
   "metadata": {},
   "outputs": [],
   "source": [
    "# Get all key-value pair\n",
    "print(person.items())\n",
    "print(type(person.items()))"
   ]
  },
  {
   "cell_type": "markdown",
   "metadata": {},
   "source": [
    "# Iterating a dictionary\n",
    "We can iterate through a dictionary using a for-loop and access the individual keys and their corresponding values."
   ]
  },
  {
   "cell_type": "code",
   "execution_count": null,
   "metadata": {},
   "outputs": [],
   "source": [
    "person = {\"name\": \"Jessa\", \"country\": \"USA\", \"telephone\": 1178}\n",
    "\n",
    "# Iterating the dictionary using for-loop\n",
    "print('key', ':', 'value')\n",
    "for key in person:\n",
    "    print(key, ':', person[key])\n",
    "\n",
    "# using items() method\n",
    "print('key', ':', 'value')\n",
    "for key_value in person.items():\n",
    "    # first is key, and second is value\n",
    "    print(key_value[0], key_value[1])"
   ]
  },
  {
   "cell_type": "markdown",
   "metadata": {},
   "source": [
    "# Find a length of a dictionary\n",
    "In order to find the number of items in a dictionary, we can use the len() function. Let us consider the personal details dictionary which we created in the above example and find its length."
   ]
  },
  {
   "cell_type": "code",
   "execution_count": null,
   "metadata": {},
   "outputs": [],
   "source": [
    "person = {\"name\": \"Jessa\", \"country\": \"USA\", \"telephone\": 1178}\n",
    "\n",
    "# count number of keys present in  a dictionary\n",
    "print(len(person))  "
   ]
  },
  {
   "cell_type": "markdown",
   "metadata": {},
   "source": [
    "# Adding items to the dictionary\n",
    "We can add new items to the dictionary using the following two ways.\n",
    "\n",
    "- Using key-value assignment: Using a simple assignment statement where value can be assigned directly to the new key.\n",
    "- Using update() Method: In this method, the item passed inside the update() method will be inserted into the dictionary. The item can be another dictionary or any iterable like a tuple of key-value pairs."
   ]
  },
  {
   "cell_type": "code",
   "execution_count": null,
   "metadata": {},
   "outputs": [],
   "source": [
    "person = {\"name\": \"Jessa\", 'country': \"USA\", \"telephone\": 1178}\n",
    "\n",
    "# update dictionary by adding 2 new keys\n",
    "person[\"weight\"] = 50\n",
    "person.update({\"height\": 6})\n",
    "\n",
    "# print the updated dictionary\n",
    "print(person)"
   ]
  },
  {
   "cell_type": "markdown",
   "metadata": {},
   "source": [
    "Note: We can also add more than one key using the update() method."
   ]
  },
  {
   "cell_type": "code",
   "execution_count": null,
   "metadata": {},
   "outputs": [],
   "source": [
    "person = {\"name\": \"Jessa\", 'country': \"USA\"}\n",
    "\n",
    "# Adding 2 new keys at once\n",
    "# pass new keys as dict\n",
    "person.update({\"weight\": 50, \"height\": 6})\n",
    "# print the updated dictionary\n",
    "print(person)\n",
    "\n",
    "# pass new keys as as list of tuple\n",
    "person.update([(\"city\", \"Texas\"), (\"company\", \"Google\",)])\n",
    "# print the updated dictionary\n",
    "print(person)"
   ]
  },
  {
   "cell_type": "markdown",
   "metadata": {},
   "source": [
    "# Modify the values of the dictionary keys\n",
    "We can modify the values of the existing dictionary keys using the following two ways.\n",
    "\n",
    "- Using key name: We can directly assign new values by using its key name. The key name will be the existing one and we can mention the new value.\n",
    "- Using update() method: We can use the update method by passing the key-value pair to change the value. Here the key name will be the existing one, and the value to be updated will be new."
   ]
  },
  {
   "cell_type": "code",
   "execution_count": null,
   "metadata": {},
   "outputs": [],
   "source": [
    "person = {\"name\": \"Jessa\", \"country\": \"USA\"}"
   ]
  },
  {
   "cell_type": "code",
   "execution_count": null,
   "metadata": {},
   "outputs": [],
   "source": [
    "# updating the country name\n",
    "person[\"country\"] = \"Canada\"\n",
    "# print the updated country\n",
    "print(person['country'])"
   ]
  },
  {
   "cell_type": "code",
   "execution_count": null,
   "metadata": {},
   "outputs": [],
   "source": [
    "# updating the country name using update() method\n",
    "person.update({\"country\": \"USA\"})\n",
    "# print the updated country\n",
    "print(person['country'])"
   ]
  },
  {
   "cell_type": "markdown",
   "metadata": {},
   "source": [
    "# Removing items from the dictionary\n",
    "There are several methods to remove items from the dictionary. Whether we want to remove the single item or the last inserted item or delete the entire dictionary, we can choose the method to be used.\n",
    "\n",
    "\n",
    "Use the following dictionary methods to remove keys from a dictionary.\n",
    "\n",
    "\n",
    "- pop(key[,d]):\tReturn and removes the item with the key and return its value. If the key is not found, it raises KeyError.\n",
    "- popitem():\tReturn and removes the last inserted item from the dictionary. If the dictionary is empty, it raises KeyError.\n",
    "- del key:\tThe del keyword will delete the item with the key that is passed\n",
    "- clear():\tRemoves all items from the dictionary. Empty the dictionary\n",
    "- del dict_name: \tDelete the entire dictionary"
   ]
  },
  {
   "cell_type": "code",
   "execution_count": null,
   "metadata": {},
   "outputs": [],
   "source": [
    "person = {'name': 'Jessa', 'country': 'USA', 'telephone': 1178, 'weight': 50, 'height': 6}"
   ]
  },
  {
   "cell_type": "code",
   "execution_count": null,
   "metadata": {},
   "outputs": [],
   "source": [
    "# Remove last inserted item from the dictionary\n",
    "deleted_item = person.popitem()\n",
    "print(deleted_item)  # output ('height', 6)\n",
    "# display updated dictionary\n",
    "print(person)  "
   ]
  },
  {
   "cell_type": "code",
   "execution_count": null,
   "metadata": {},
   "outputs": [],
   "source": [
    "# Remove key 'telephone' from the dictionary\n",
    "deleted_item = person.pop('telephone')\n",
    "print(deleted_item)  # output 1178\n",
    "# display updated dictionary\n",
    "print(person)  "
   ]
  },
  {
   "cell_type": "code",
   "execution_count": null,
   "metadata": {},
   "outputs": [],
   "source": [
    "# delete key 'weight'\n",
    "del person['weight']\n",
    "# display updated dictionary\n",
    "print(person)"
   ]
  },
  {
   "cell_type": "code",
   "execution_count": null,
   "metadata": {},
   "outputs": [],
   "source": [
    "# remove all item (key-values) from dict\n",
    "person.clear()\n",
    "# display updated dictionary\n",
    "print(person)  # {}"
   ]
  },
  {
   "cell_type": "code",
   "execution_count": null,
   "metadata": {},
   "outputs": [],
   "source": [
    "# Delete the entire dictionary\n",
    "del person"
   ]
  },
  {
   "cell_type": "markdown",
   "metadata": {},
   "source": [
    "# Checking if a key exists\n",
    "In order to check whether a particular key exists in a dictionary, we can use the keys() method and in operator. We can use the in operator to check whether the key is present in the list of keys returned by the keys() method.\n",
    "\n",
    "In this method, we can just check whether our key is present in the list of keys that will be returned from the keys() method.\n",
    "\n",
    "Let’s check whether the ‘country’ key exists and prints its value if found."
   ]
  },
  {
   "cell_type": "code",
   "execution_count": null,
   "metadata": {},
   "outputs": [],
   "source": [
    "person = {'name': 'Jessa', 'country': 'USA', 'telephone': 1178}\n",
    "\n",
    "# Get the list of keys and check if 'country' key is present\n",
    "key_name = 'country'\n",
    "if key_name in person.keys():\n",
    "    print(\"country name is\", person[key_name])\n",
    "else:\n",
    "    print(\"Key not found\")"
   ]
  },
  {
   "cell_type": "markdown",
   "metadata": {},
   "source": [
    "# Join two dictionary\n",
    "We can add two dictionaries using the update() method or unpacking arbitrary keywords operator **. "
   ]
  },
  {
   "cell_type": "markdown",
   "metadata": {},
   "source": [
    "- Using update() method\n",
    "In this method, the dictionary to be added will be passed as the argument to the update() method and the updated dictionary will have items of both the dictionaries."
   ]
  },
  {
   "cell_type": "code",
   "execution_count": null,
   "metadata": {},
   "outputs": [],
   "source": [
    "dict1 = {'Jessa': 70, 'Arul': 80, 'Emma': 55}\n",
    "dict2 = {'Kelly': 68, 'Harry': 50, 'Olivia': 66}\n",
    "\n",
    "# copy second dictionary into first dictionary\n",
    "dict1.update(dict2)\n",
    "# printing the updated dictionary\n",
    "print(dict1)"
   ]
  },
  {
   "cell_type": "markdown",
   "metadata": {},
   "source": [
    "- Using **kwargs to unpack\n",
    "We can unpack any number of dictionary and add their contents to another dictionary using **kwargs. In this way, we can add multiple length arguments to one dictionary in a single statement."
   ]
  },
  {
   "cell_type": "code",
   "execution_count": null,
   "metadata": {},
   "outputs": [],
   "source": [
    "student_dict1 = {'Aadya': 1, 'Arul': 2, }\n",
    "student_dict2 = {'Harry': 5, 'Olivia': 6}\n",
    "student_dict3 = {'Nancy': 7, 'Perry': 9}\n",
    "\n",
    "# join three dictionaries \n",
    "student_dict = {**student_dict1, **student_dict2, **student_dict3}\n",
    "# printing the final Merged dictionary\n",
    "print(student_dict)"
   ]
  },
  {
   "cell_type": "markdown",
   "metadata": {},
   "source": [
    "# Join two dictionaries having few items in common\n",
    "Note: One thing to note here is that if both the dictionaries have a common key then the first dictionary value will be overridden with the second dictionary value."
   ]
  },
  {
   "cell_type": "code",
   "execution_count": null,
   "metadata": {},
   "outputs": [],
   "source": [
    "dict1 = {'Jessa': 70, 'Arul': 80, 'Emma': 55}\n",
    "dict2 = {'Kelly': 68, 'Harry': 50, 'Emma': 66}\n",
    "\n",
    "# join two dictionaries with some common items\n",
    "dict1.update(dict2)\n",
    "# printing the updated dictionary\n",
    "print(dict1['Emma'])"
   ]
  },
  {
   "cell_type": "markdown",
   "metadata": {},
   "source": [
    "# Copy a Dictionary\n",
    "We can create a copy of a dictionary using the following two ways\n",
    "\n",
    "- Using copy() method.\n",
    "- Using the dict() constructor"
   ]
  },
  {
   "cell_type": "code",
   "execution_count": null,
   "metadata": {},
   "outputs": [],
   "source": [
    "dict1 = {'Jessa': 70, 'Emma': 55}"
   ]
  },
  {
   "cell_type": "code",
   "execution_count": null,
   "metadata": {},
   "outputs": [],
   "source": [
    "# Copy dictionary using copy() method\n",
    "dict2 = dict1.copy()\n",
    "# printing the new  dictionary\n",
    "print(dict2)"
   ]
  },
  {
   "cell_type": "code",
   "execution_count": null,
   "metadata": {},
   "outputs": [],
   "source": [
    "# Copy dictionary using dict() constructor\n",
    "dict3 = dict(dict1)\n",
    "print(dict3)"
   ]
  },
  {
   "cell_type": "code",
   "execution_count": null,
   "metadata": {},
   "outputs": [],
   "source": [
    "# Copy dictionary using the output of items() methods\n",
    "dict4 = dict(dict1.items())\n",
    "print(dict4)"
   ]
  },
  {
   "cell_type": "markdown",
   "metadata": {},
   "source": [
    "# Copy using the assignment operator\n",
    "We can simply use the '=' operator to create a copy.\n",
    "\n",
    "Note: When you set dict2 = dict1, you are making them refer to the same dict object, so when you modify one of them, all references associated with that object reflect the current state of the object. So don’t use the assignment operator to copy the dictionary instead use the copy() method."
   ]
  },
  {
   "cell_type": "code",
   "execution_count": null,
   "metadata": {},
   "outputs": [],
   "source": [
    "dict1 = {'Jessa': 70, 'Emma': 55}"
   ]
  },
  {
   "cell_type": "code",
   "execution_count": null,
   "metadata": {},
   "outputs": [],
   "source": [
    "# Copy dictionary using assignment = operator\n",
    "dict2 = dict1\n",
    "# modify dict2\n",
    "dict2.update({'Jessa': 90})\n",
    "print(dict2)\n",
    "\n",
    "print(dict1)"
   ]
  },
  {
   "cell_type": "markdown",
   "metadata": {},
   "source": [
    "# Nested dictionary\n",
    "Nested dictionaries are dictionaries that have one or more dictionaries as their members. It is a collection of many dictionaries in one dictionary.\n",
    "\n",
    "An example of creating a nested dictionary ‘Address’ inside a ‘person’ dictionary."
   ]
  },
  {
   "cell_type": "code",
   "execution_count": null,
   "metadata": {},
   "outputs": [],
   "source": [
    "# address dictionary to store person address\n",
    "address = {\"state\": \"Texas\", 'city': 'Houston'}\n",
    "\n",
    "# dictionary to store person details with address as a nested dictionary\n",
    "person = {'name': 'Jessa', 'company': 'Google', 'address': address}"
   ]
  },
  {
   "cell_type": "code",
   "execution_count": null,
   "metadata": {},
   "outputs": [],
   "source": [
    "# Display dictionary\n",
    "print(\"person:\", person)"
   ]
  },
  {
   "cell_type": "code",
   "execution_count": null,
   "metadata": {},
   "outputs": [],
   "source": [
    "# Get nested dictionary key 'city'\n",
    "print(\"City:\", person['address']['city'])"
   ]
  },
  {
   "cell_type": "code",
   "execution_count": null,
   "metadata": {},
   "outputs": [],
   "source": [
    "# Iterating outer dictionary\n",
    "print(\"Person details\")\n",
    "for key, value in person.items():\n",
    "    if key == 'address':\n",
    "        # Iterating through nested dictionary\n",
    "        print(\"Person Address\")\n",
    "        for nested_key, nested_value in value.items():\n",
    "            print(nested_key, ':', nested_value)\n",
    "    else:\n",
    "        print(key, ':', value)"
   ]
  }
 ],
 "metadata": {
  "kernelspec": {
   "display_name": "Python 3.8.9 64-bit",
   "language": "python",
   "name": "python3"
  },
  "language_info": {
   "name": "python",
   "version": "3.8.9"
  },
  "orig_nbformat": 4,
  "vscode": {
   "interpreter": {
    "hash": "31f2aee4e71d21fbe5cf8b01ff0e069b9275f58929596ceb00d14d90e3e16cd6"
   }
  }
 },
 "nbformat": 4,
 "nbformat_minor": 2
}
