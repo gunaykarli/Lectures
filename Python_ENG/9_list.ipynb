{
 "cells": [
  {
   "cell_type": "markdown",
   "metadata": {},
   "source": [
    "Python list\n",
    "The list"
   ]
  },
  {
   "cell_type": "markdown",
   "metadata": {},
   "source": [
    "# What is a List?\n",
    "The list is a sequential data structure in Python. It can contain a group of elements, which can be of the same or different data types.\n",
    "\n",
    "Some of the use-cases where we generally use lists are,\n",
    "\n",
    "- List of active players in the game.\n",
    "- List of items in the shopping cart.\n",
    "- List of the running processes in the system.\n",
    "- List of messages received by the server.\n",
    "etc."
   ]
  },
  {
   "cell_type": "markdown",
   "metadata": {},
   "source": [
    "# Why do we need a list in Python?\n",
    "A list helps to store a group of elements together. But many other sequential data structures do the same, like a set, tuple, etc. Then why do we need lists?\n",
    "\n",
    "There are many unique properties of the list that make it different from other data types. It makes a list of one of the most used sequential data types in Python. Let’s explore these properties one by one,\n",
    "\n",
    "- Lists are Dynamic\n",
    "A list is dynamic; it means we can add multiple elements to it and update or delete elements. Also, we don’t need to predefine the size of the list. You can insert any number of items in the list, and it can dynamically increase its size internally.\n",
    "- Lists are ordered\n",
    "Elements in the list will remain in the order in which you add them, and it will not change the order of elements internally.\n",
    "- Lists are Heterogenous\n",
    "A list can contain elements of different data types. For example, in a single list object, you can keep integers, floats, strings, tuples, lists, and other things too.\n",
    "- Duplicates are allowed in a list\n",
    "A list in Python can contain duplicate elements.\n",
    "So, wherever you are looking for a heterogeneous data structure that can dynamically change its size, keep elements ordered, and contain duplicates. Then a list is a perfect choice.\n"
   ]
  },
  {
   "cell_type": "markdown",
   "metadata": {},
   "source": [
    "# Creating a Python list\n",
    "The list can be created using either the list constructor or using square brackets [].\n",
    "\n",
    "- Using list() constructor: In general, the constructor of a class has its class name. Similarly, Create a list by passing the comma-separated values inside the list().\n",
    "- Using square bracket ([]): In this method, we can create a list simply by enclosing the items inside the square brackets."
   ]
  },
  {
   "cell_type": "code",
   "execution_count": 1,
   "metadata": {},
   "outputs": [
    {
     "name": "stdout",
     "output_type": "stream",
     "text": [
      "[1, 2, 3]\n",
      "[1, 2, 3]\n",
      "[1.0, 'Jessa', 3]\n",
      "[]\n",
      "[]\n"
     ]
    }
   ],
   "source": [
    "# Using list constructor\n",
    "my_list1 = list((1, 2, 3))\n",
    "print(my_list1)\n",
    "# Output [1, 2, 3]\n",
    "\n",
    "# Using square brackets[]\n",
    "my_list2 = [1, 2, 3]\n",
    "print(my_list2)\n",
    "# Output [1, 2, 3]\n",
    "\n",
    "# with heterogeneous items\n",
    "my_list3 = [1.0, 'Jessa', 3]\n",
    "print(my_list3)\n",
    "# Output [1.0, 'Jessa', 3]\n",
    "\n",
    "# empty list using list()\n",
    "my_list4 = list()\n",
    "print(my_list4)\n",
    "# Output []\n",
    "\n",
    "# empty list using []\n",
    "my_list5 = []\n",
    "print(my_list5)\n",
    "# Output []"
   ]
  },
  {
   "cell_type": "markdown",
   "metadata": {},
   "source": [
    "# Length of a List\n",
    "In order to find the number of items present in a list, we can use the len() function."
   ]
  },
  {
   "cell_type": "code",
   "execution_count": null,
   "metadata": {},
   "outputs": [],
   "source": [
    "my_list = [1, 2, 3]\n",
    "print(len(my_list))\n",
    "# output 3"
   ]
  },
  {
   "cell_type": "markdown",
   "metadata": {},
   "source": [
    "# Accessing items of a List\n",
    "The items in a list can be accessed through indexing and slicing. This section will guide you by accessing the list using the following two ways\n",
    "\n",
    "- Using indexing, we can access any item from a list using its index number\n",
    "- Using slicing, we can access a range of items from a list"
   ]
  },
  {
   "cell_type": "markdown",
   "metadata": {},
   "source": [
    "# Indexing\n",
    "The list elements can be accessed using the “indexing” technique. Lists are ordered collections with unique indexes for each item. We can access the items in the list using this index number.\n",
    "\n",
    "To access the elements in the list from left to right, the index value starts from zero to (length of the list-1) can be used. For example, if we want to access the 3rd element we need to use 2 since the index value starts from 0.\n",
    "\n",
    "Note:\n",
    "As Lists are ordered sequences of items, the index values start from 0 to the Lists length.\n",
    "Whenever we try to access an item with an index more than the Lists length, it will throw the 'Index Error'.\n",
    "Similarly, the index values are always an integer. If we give any other type, then it will throw Type Error."
   ]
  },
  {
   "cell_type": "code",
   "execution_count": null,
   "metadata": {},
   "outputs": [],
   "source": [
    "my_list = [10, 20, 'Jessa', 12.50, 'Emma']\n",
    "# accessing 2nd element of the list\n",
    "print(my_list[1])  \n",
    "# accessing 5th element of the list\n",
    "print(my_list[4]) "
   ]
  },
  {
   "cell_type": "markdown",
   "metadata": {},
   "source": [
    "# Negative Indexing\n",
    "The elements in the list can be accessed from right to left by using negative indexing. The negative value starts from -1 to -length of the list. It indicates that the list is indexed from the reverse/backward."
   ]
  },
  {
   "cell_type": "code",
   "execution_count": null,
   "metadata": {},
   "outputs": [],
   "source": [
    "my_list = [10, 20, 'Jessa', 12.50, 'Emma']\n",
    "# accessing last element of the list\n",
    "print(my_list[-1])\n",
    "\n",
    "# accessing second last element of the list\n",
    "print(my_list[-2])\n",
    "\n",
    "# accessing 4th element from last\n",
    "print(my_list[-4])\n"
   ]
  },
  {
   "cell_type": "markdown",
   "metadata": {},
   "source": [
    "# List Slicing\n",
    "Slicing a list implies, accessing a range of elements in a list. For example, if we want to get the elements in the position from 3 to 7, we can use the slicing method. We can even modify the values in a range by using this slicing technique.\n",
    "\n",
    "The below is the syntax for list slicing.\n",
    "\n",
    "**listname[start_index : end_index : step]**\n",
    "\n",
    "The start_index denotes the index position from where the slicing should begin and the end_index parameter denotes the index positions till which the slicing should be done.\n",
    "The step allows you to take each nth-element within a start_index:end_index range."
   ]
  },
  {
   "cell_type": "code",
   "execution_count": null,
   "metadata": {},
   "outputs": [],
   "source": [
    "my_list = [10, 20, 'Jessa', 12.50, 'Emma', 25, 50]\n",
    "# Extracting a portion of the list from 2nd till 5th element\n",
    "print(my_list[2:5])"
   ]
  },
  {
   "cell_type": "code",
   "execution_count": null,
   "metadata": {},
   "outputs": [],
   "source": [
    "my_list = [5, 8, 'Tom', 7.50, 'Emma']\n",
    "\n",
    "# slice first four items\n",
    "print(my_list[:4])\n",
    "\n",
    "# print every second element\n",
    "# with a skip count 2\n",
    "print(my_list[::2])\n",
    "\n",
    "# reversing the list\n",
    "print(my_list[::-1])\n",
    "\n",
    "# Without end_value\n",
    "# Stating from 3nd item to last item\n",
    "print(my_list[3:])"
   ]
  },
  {
   "cell_type": "markdown",
   "metadata": {},
   "source": [
    "# Iterating a List\n",
    "The objects in the list can be iterated over one by one, by using a for a loop."
   ]
  },
  {
   "cell_type": "code",
   "execution_count": null,
   "metadata": {},
   "outputs": [],
   "source": [
    "my_list = [5, 8, 'Tom', 7.50, 'Emma']\n",
    "\n",
    "# iterate a list\n",
    "for item in my_list:\n",
    "    print(item)"
   ]
  },
  {
   "cell_type": "markdown",
   "metadata": {},
   "source": [
    "# Iterate along with an index number\n",
    "The index value starts from 0 to (length of the list-1). Hence using the function range() is ideal for this scenario.\n",
    "\n",
    "The range function returns a sequence of numbers. By default, it returns starting from 0 to the specified number (increments by 1). The starting and ending values can be passed according to our needs."
   ]
  },
  {
   "cell_type": "code",
   "execution_count": null,
   "metadata": {},
   "outputs": [],
   "source": [
    "my_list = [5, 8, 'Tom', 7.50, 'Emma']\n",
    "\n",
    "# iterate a list\n",
    "for i in range(0, len(my_list)):\n",
    "    # print each item using index number\n",
    "    print(my_list[i])"
   ]
  },
  {
   "cell_type": "markdown",
   "metadata": {},
   "source": [
    "# Adding elements to the list\n",
    "We can add a new element/list of elements to the list using the list methods such as append(), insert(), and extend().\n",
    "\n",
    "Append item at the end of the list\n",
    "The append() method will accept only one parameter and add it at the end of the list.\n",
    "\n",
    "Let’s see the example to add the element ‘Emma’ at the end of the list."
   ]
  },
  {
   "cell_type": "code",
   "execution_count": null,
   "metadata": {},
   "outputs": [],
   "source": [
    "my_list = list([5, 8, 'Tom', 7.50])\n",
    "\n",
    "# Using append()\n",
    "my_list.append('Emma')\n",
    "print(my_list)\n",
    "\n",
    "# append the nested list at the end\n",
    "my_list.append([25, 50, 75])\n",
    "print(my_list)"
   ]
  },
  {
   "cell_type": "markdown",
   "metadata": {},
   "source": [
    "# Add item at the specified position in the list\n",
    "Use the insert() method to add the object/item at the specified position in the list. The insert method accepts two parameters position and object.\n",
    "\n",
    "insert(index, object)\n",
    "\n",
    "It will insert the object in the specified index. Let us see this with an example."
   ]
  },
  {
   "cell_type": "code",
   "execution_count": null,
   "metadata": {},
   "outputs": [],
   "source": [
    "my_list = list([5, 8, 'Tom', 7.50])\n",
    "\n",
    "# Using insert()\n",
    "# insert 25 at position 2\n",
    "my_list.insert(2, 25)\n",
    "print(my_list)\n",
    "\n",
    "\n",
    "# insert nested list at at position 3\n",
    "my_list.insert(3, [25, 50, 75])\n",
    "print(my_list)"
   ]
  },
  {
   "cell_type": "markdown",
   "metadata": {},
   "source": [
    "# Using extend()\n",
    "The extend method will accept the list of elements and add them at the end of the list. We can even add another list by using this method.\n",
    "\n",
    "Let’s add three items at the end of the list."
   ]
  },
  {
   "cell_type": "code",
   "execution_count": null,
   "metadata": {},
   "outputs": [],
   "source": [
    "my_list = list([5, 8, 'Tom', 7.50])\n",
    "\n",
    "# Using extend()\n",
    "my_list.extend([25, 75, 100])\n",
    "print(my_list)"
   ]
  },
  {
   "cell_type": "markdown",
   "metadata": {},
   "source": [
    "# Modify the items of a List\n",
    "The list is a mutable sequence of iterable objects. It means we can modify the items of a list. Use the index number and assignment operator (=) to assign a new value to an item.\n",
    "\n",
    "Let’s see how to perform the following two modification scenarios\n",
    "\n",
    "- Modify the individual item.\n",
    "- Modify the range of items"
   ]
  },
  {
   "cell_type": "code",
   "execution_count": null,
   "metadata": {},
   "outputs": [],
   "source": [
    "my_list = list([2, 4, 6, 8, 10, 12])\n",
    "\n",
    "# modify single item\n",
    "my_list[0] = 20\n",
    "print(my_list)\n",
    "\n",
    "# modify range of items\n",
    "# modify from 1st index to 4th\n",
    "my_list[1:4] = [40, 60, 80]\n",
    "print(my_list)\n",
    "\n",
    "# modify from 3rd index to end\n",
    "my_list[3:] = [80, 100, 120]\n",
    "print(my_list)"
   ]
  },
  {
   "cell_type": "markdown",
   "metadata": {},
   "source": [
    "# Modify all items\n",
    "Use for loop to iterate and modify all items at once. Let’s see how to modify each item of a list."
   ]
  },
  {
   "cell_type": "code",
   "execution_count": null,
   "metadata": {},
   "outputs": [],
   "source": [
    "my_list = list([2, 4, 6, 8])\n",
    "\n",
    "# change value of all items\n",
    "for i in range(len(my_list)):\n",
    "    # calculate square of each number\n",
    "    square = my_list[i] * my_list[i]\n",
    "    my_list[i] = square\n",
    "\n",
    "print(my_list)"
   ]
  },
  {
   "cell_type": "markdown",
   "metadata": {},
   "source": [
    "# Remove item present at given index\n",
    "Use the pop() method to remove the item at the given index. The pop() method removes and returns the item present at the given index.\n",
    "\n",
    "Note: It will remove the last time from the list if the index number is not p"
   ]
  },
  {
   "cell_type": "code",
   "execution_count": null,
   "metadata": {},
   "outputs": [],
   "source": [
    "my_list = list([2, 4, 6, 8, 10, 12])\n",
    "\n",
    "# remove item present at index 2\n",
    "my_list.pop(2)\n",
    "print(my_list)\n",
    "\n",
    "# remove item without passing index number\n",
    "my_list.pop()\n",
    "print(my_list)\n"
   ]
  },
  {
   "cell_type": "markdown",
   "metadata": {},
   "source": [
    "# Remove the range of items\n",
    "Use del keyword along with list slicing to remove the range of items"
   ]
  },
  {
   "cell_type": "code",
   "execution_count": null,
   "metadata": {},
   "outputs": [],
   "source": [
    "my_list = list([2, 4, 6, 8, 10, 12])\n",
    "\n",
    "# remove range of items\n",
    "# remove item from index 2 to 5\n",
    "del my_list[2:5]\n",
    "print(my_list)\n",
    "\n",
    "# remove all items starting from index 3\n",
    "my_list = list([2, 4, 6, 8, 10, 12])\n",
    "del my_list[3:]\n",
    "print(my_list)\n"
   ]
  },
  {
   "cell_type": "markdown",
   "metadata": {},
   "source": [
    "# Remove all items\n",
    "Use the list’ clear() method to remove all items from the list. The clear() method truncates the list.\n",
    "\n"
   ]
  },
  {
   "cell_type": "code",
   "execution_count": null,
   "metadata": {},
   "outputs": [],
   "source": [
    "my_list = list([2, 4, 6, 8, 10, 12])\n",
    "\n",
    "# clear list\n",
    "my_list.clear()\n",
    "print(my_list)\n",
    "\n",
    "# Delete entire list\n",
    "del my_list"
   ]
  },
  {
   "cell_type": "markdown",
   "metadata": {},
   "source": [
    "# Finding an element in the list\n",
    "Use the index() function to find an item in a list.\n",
    "\n",
    "The index() function will accept the value of the element as a parameter and returns the first occurrence of the element or returns ValueError if the element does not exist."
   ]
  },
  {
   "cell_type": "code",
   "execution_count": null,
   "metadata": {},
   "outputs": [],
   "source": [
    "my_list = list([2, 4, 6, 8, 10, 12])\n",
    "\n",
    "print(my_list.index(8))\n",
    "\n",
    "# returns error since the element does not exist in the list.\n",
    "my_list.index(100)"
   ]
  },
  {
   "cell_type": "markdown",
   "metadata": {},
   "source": [
    "# Concatenation of two lists\n",
    "The concatenation of two lists means merging of two lists. There are two ways to do that.\n",
    "\n",
    "Using the + operator.\n",
    "Using the extend() method. The extend() method appends the new list’s items at the end of the calling list."
   ]
  },
  {
   "cell_type": "code",
   "execution_count": null,
   "metadata": {},
   "outputs": [],
   "source": [
    "my_list1 = [1, 2, 3]\n",
    "my_list2 = [4, 5, 6]\n",
    "\n",
    "# Using + operator\n",
    "my_list3 = my_list1 + my_list2\n",
    "print(my_list3)\n",
    "\n",
    "\n",
    "# Using extend() method\n",
    "my_list1.extend(my_list2)\n",
    "print(my_list1)\n"
   ]
  },
  {
   "cell_type": "markdown",
   "metadata": {},
   "source": [
    "# Copying a list\n",
    "There are two ways by which a copy of a list can be created.\n",
    "\n",
    "- Using assignment operator (=)\n",
    "This is a straightforward way of creating a copy. In this method, the new list will be a deep copy. The changes that we make in the original list will be reflected in the new list.\n",
    "\n",
    "This is called deep copying.\n",
    "\n",
    "Note: When you set list1 = list2, you are making them refer to the same list object, so when you modify one of them, all references associated with that object reflect the current state of the object. So don’t use the assignment operator to copy the dictionary instead use the copy() method."
   ]
  },
  {
   "cell_type": "code",
   "execution_count": null,
   "metadata": {},
   "outputs": [],
   "source": [
    "my_list1 = [1, 2, 3]\n",
    "\n",
    "# Using = operator\n",
    "new_list = my_list1\n",
    "# printing the new list\n",
    "print(new_list)\n",
    "\n",
    "# making changes in the original list\n",
    "my_list1.append(4)\n",
    "\n",
    "# print both copies\n",
    "print(my_list1)\n",
    "\n",
    "print(new_list)\n"
   ]
  },
  {
   "cell_type": "markdown",
   "metadata": {},
   "source": [
    "- Using the copy() method\n",
    "The copy method can be used to create a copy of a list. This will create a new list and any changes made in the original list will not reflect in the new list. This is shallow copying."
   ]
  },
  {
   "cell_type": "code",
   "execution_count": null,
   "metadata": {},
   "outputs": [],
   "source": [
    "my_list1 = [1, 2, 3]\n",
    "\n",
    "# Using copy() method\n",
    "new_list = my_list1.copy()\n",
    "# printing the new list\n",
    "print(new_list)\n",
    "\n",
    "# making changes in the original list\n",
    "my_list1.append(4)\n",
    "\n",
    "# print both copies\n",
    "print(my_list1)\n",
    "\n",
    "print(new_list)\n"
   ]
  },
  {
   "cell_type": "markdown",
   "metadata": {},
   "source": [
    "# List operations\n",
    "We can perform some operations over the list by using certain functions like sort(), reverse(), clear() etc.\n",
    "\n",
    "- Sort List using sort()\n",
    "The sort function sorts the elements in the list in ascending order.\n",
    "- Reverse a List using reverse()\n",
    "The reverse function is used to reverse the elements in the list."
   ]
  },
  {
   "cell_type": "code",
   "execution_count": null,
   "metadata": {},
   "outputs": [],
   "source": [
    "mylist = [3,2,1]\n",
    "mylist.sort()\n",
    "print(mylist)"
   ]
  },
  {
   "cell_type": "code",
   "execution_count": null,
   "metadata": {},
   "outputs": [],
   "source": [
    "mylist = [3, 4, 5, 6, 1]\n",
    "mylist.reverse()\n",
    "print(mylist)"
   ]
  },
  {
   "cell_type": "markdown",
   "metadata": {},
   "source": [
    "# Python Built-in functions with List\n",
    "In addition to the built-in methods available in the list, we can use the built-in functions as well on the list. Let us see a few of them for example.\n",
    "\n",
    "- Using max() and min()\n",
    "The max function returns the maximum value in the list while the min function returns the minimum value in the list.\n",
    "- Using sum()\n",
    "The sum function returns the sum of all the elements in the list.\n",
    "- all()\n",
    "In the case of all() function, the return value will be true only when all the values inside the list are true.\n",
    "- any()\n",
    "The any() method will return true if there is at least one true value. In the case of Empty List, it will return false."
   ]
  },
  {
   "cell_type": "code",
   "execution_count": null,
   "metadata": {},
   "outputs": [],
   "source": [
    "mylist = [3, 4, 5, 6, 1]\n",
    "print(max(mylist)) #returns the maximum number in the list.\n",
    "print(min(mylist)) #returns the minimum number in the list."
   ]
  },
  {
   "cell_type": "code",
   "execution_count": null,
   "metadata": {},
   "outputs": [],
   "source": [
    "mylist = [3, 4, 5, 6, 1]\n",
    "print(sum(mylist)) "
   ]
  },
  {
   "cell_type": "code",
   "execution_count": null,
   "metadata": {},
   "outputs": [],
   "source": [
    "#with all true values\n",
    "samplelist1 = [1,1,True]\n",
    "print(\"all() All True values::\",all(samplelist1))\n",
    "\n",
    "#with one false\n",
    "samplelist2 = [0,1,True,1]\n",
    "print(\"all() with One false value ::\",all(samplelist2))\n",
    "\n",
    "#with all false\n",
    "samplelist3 = [0,0,False]\n",
    "print(\"all() with all false values ::\",all(samplelist3))\n",
    "\n",
    "#empty list\n",
    "samplelist4 = []"
   ]
  },
  {
   "cell_type": "code",
   "execution_count": null,
   "metadata": {},
   "outputs": [],
   "source": [
    "#with all true values\n",
    "samplelist1 = [1,1,True]\n",
    "print(\"any() True values::\",any(samplelist1))\n",
    "\n",
    "#with one false\n",
    "samplelist2 = [0,1,True,1]\n",
    "print(\"any() One false value ::\",any(samplelist2))\n",
    "\n",
    "\n",
    "#with all false\n",
    "samplelist3 = [0,0,False]\n",
    "print(\"any() all false values ::\",any(samplelist3))\n",
    "\n",
    "#empty list\n",
    "samplelist4 = []\n",
    "print(\"any() Empty list ::\",any(samplelist4))"
   ]
  },
  {
   "cell_type": "markdown",
   "metadata": {},
   "source": [
    "# List Comprehension\n",
    "List comprehension is a simpler method to create a list from an existing list. It is generally a list of iterables generated with an option to include only the items which satisfy a condition.\n",
    "\n",
    "outputList = {expression(variable) for variable in inputList [if variable condition1][if variable condition2]\n",
    "\n",
    "- expression: Optional. expression to compute the members of the output List which satisfies the optional conditions\n",
    "- variable: Required. a variable that represents the members of the input List.\n",
    "- inputList: Required. Represents the input set.\n",
    "- condition1, condition2 etc; : Optional. Filter conditions for the members of the output List."
   ]
  },
  {
   "cell_type": "code",
   "execution_count": null,
   "metadata": {},
   "outputs": [],
   "source": [
    "inputList = [4,7,11,13,18,20]\n",
    "\n",
    "#creating a list with square values of only the even numbers\n",
    "squareList = [var**2 for var in inputList if var%2==0]\n",
    "print(squareList)"
   ]
  },
  {
   "cell_type": "code",
   "execution_count": null,
   "metadata": {},
   "outputs": [],
   "source": [
    "#creating even square list for a range of numbers\n",
    "squarelist1 = [s**2 for s in range(10)if s%2 == 0]\n",
    "print(squarelist1)"
   ]
  },
  {
   "cell_type": "markdown",
   "metadata": {},
   "source": [
    "# Exercise \n",
    "Create a list of six school subjects. Ask the user which of these subjects they don’t like. Delete the subject they have chosen from the list before you display the list again."
   ]
  },
  {
   "cell_type": "code",
   "execution_count": null,
   "metadata": {},
   "outputs": [],
   "source": [
    "subject_list = [\"maths\", \"english\", \"computing\", \"history\", \"science\", \"spanish\"]\n",
    "print(subject_list)\n",
    "dislike = input (\"Which of these subjects do you dislike? \")\n",
    "getrid = subject_list.index (dislike)\n",
    "del subject_list[getrid]\n",
    "print(subject_list)"
   ]
  },
  {
   "cell_type": "markdown",
   "metadata": {},
   "source": [
    "# Exercise\n",
    "Ask the user to enter the names of three people they want to invite to a party and store them in a list. After they have entered all three names, ask them if they want to add another. If they do, allow them to add more names until they answer “no”. When they answer “no”, display how many people they have invited to the party."
   ]
  },
  {
   "cell_type": "code",
   "execution_count": null,
   "metadata": {},
   "outputs": [],
   "source": [
    "name_list = []\n",
    "for i in range(3):\n",
    "    name_list.append(str(input('Enter name to invite to party : ')))\n",
    "print(name_list)\n",
    "add_more = str(input('Enter more people to party? yes|no : ').lower())\n",
    "while add_more == 'yes':\n",
    "    name_list.append(str(input('Enter name to invite to party : ')))\n",
    "    add_more = str(input('Enter more people to party? yes|no : ').lower())\n",
    "print(len(name_list))"
   ]
  },
  {
   "cell_type": "markdown",
   "metadata": {},
   "source": [
    "# Exercise\n",
    "Write a program that reads integers from the user and stores them in a list. Your program should continue reading values until the user enters 0. Then it should display all of the values entered by the user (except for the 0) in order from smallest to largest, with one value appearing on each line. Use either the \"sort\" method or the \"sorted\" function to sort the list."
   ]
  },
  {
   "cell_type": "code",
   "execution_count": 5,
   "metadata": {},
   "outputs": [
    {
     "name": "stdout",
     "output_type": "stream",
     "text": [
      "The values, sorted into ascending order, are:\n",
      "3\n",
      "5\n",
      "8\n"
     ]
    }
   ],
   "source": [
    "# Display the integers entered by the user in ascending order.\n",
    "\n",
    "# Start with an empty list\n",
    "data = []\n",
    "# Read values, adding them to the list, until the user enters 0  \n",
    "num = int(input(\"Enter an integer (0 to quit): \")) \n",
    "while num != 0:\n",
    "    data.append(num)\n",
    "    num = int(input (\"Enter an integer (0 to quit): \"))\n",
    "# Sort the values \n",
    "data.sort()\n",
    "# Display the values in ascending order\n",
    "print (\"The values, sorted into ascending order, are:\")\n",
    "for num in data:\n",
    "    print (num)"
   ]
  },
  {
   "cell_type": "markdown",
   "metadata": {},
   "source": [
    "# Exercise \n",
    "Avoiding Duplicates\n",
    "In this exercise, you will create a program that reads words from the user until the user enters a blank line. After the user enters a blank line your program should dis- play each word entered by the user exactly once. The words should be displayed in the same order that they were entered. For example, if the user enters:\n",
    "\n",
    "first\n",
    "second\n",
    "first\n",
    "third\n",
    "second\n",
    "\n",
    "then your program should display:\n",
    "\n",
    "first\n",
    "second\n",
    "third\n"
   ]
  },
  {
   "cell_type": "code",
   "execution_count": 6,
   "metadata": {},
   "outputs": [
    {
     "name": "stdout",
     "output_type": "stream",
     "text": [
      "aa\n",
      "gg\n",
      "bb\n",
      "ee\n"
     ]
    }
   ],
   "source": [
    "##\n",
    "# Read a collection of words entered by the user. Display each word entered\n",
    "# by the user only once, in the same order that the words were entered.\n",
    "#\n",
    "# Begin reading words into a list\n",
    "words = []\n",
    "word = input (\"Enter a word (blank line to quit): \")\n",
    "while word != \"\":\n",
    "    # Only add the word to the list if it is not already present in it\n",
    "    if word not in words:\n",
    "        words.append (word)\n",
    "\n",
    "    # Read the next word from the user\n",
    "    word = input (\"Enter a word (blank line to quit): \")\n",
    "\n",
    "# Display the unique words\n",
    "for word in words:\n",
    "    print (word)"
   ]
  },
  {
   "cell_type": "markdown",
   "metadata": {},
   "source": []
  },
  {
   "cell_type": "code",
   "execution_count": null,
   "metadata": {},
   "outputs": [],
   "source": []
  }
 ],
 "metadata": {
  "kernelspec": {
   "display_name": "Python 3.8.9 64-bit",
   "language": "python",
   "name": "python3"
  },
  "language_info": {
   "codemirror_mode": {
    "name": "ipython",
    "version": 3
   },
   "file_extension": ".py",
   "mimetype": "text/x-python",
   "name": "python",
   "nbconvert_exporter": "python",
   "pygments_lexer": "ipython3",
   "version": "3.8.9"
  },
  "orig_nbformat": 4,
  "vscode": {
   "interpreter": {
    "hash": "31f2aee4e71d21fbe5cf8b01ff0e069b9275f58929596ceb00d14d90e3e16cd6"
   }
  }
 },
 "nbformat": 4,
 "nbformat_minor": 2
}
