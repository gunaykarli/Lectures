{
 "cells": [
  {
   "cell_type": "markdown",
   "metadata": {},
   "source": [
    "# The Way of Thinking\n",
    "The single most important skill for a person in bussiness world is problem solving. Problem solving means the ability to formulate problems, think creatively about solutions, and express a solution clearly and accurately. "
   ]
  },
  {
   "cell_type": "markdown",
   "metadata": {},
   "source": [
    "# What is a program? \n",
    "A program is a sequence of instructions that specifies how to perform a computation. \n",
    "The computation might be something mathematical, such as solving a system of equations, but it can also be a symbolic computation, such as searching and replacing text in a document or something graphical, like processing an image or playing a video. \n",
    "The details look different in different languages, but a few basic instructions appear in just about every language: \n",
    "\n",
    "- input: Get data from the keyboard, a file, the network, or some other device. \n",
    "- output: Display data on the screen, save it in a file, send it over the network, etc. \n",
    "- math: Perform basic mathematical operations like addition and multiplication. \n",
    "- conditional execution: Check for certain conditions and run the appropriate code. \n",
    "- repetition: Perform some action repeatedly, usually with some variation.\n",
    "\n",
    "Believe it or not, that’s pretty much all there is to it."
   ]
  },
  {
   "cell_type": "markdown",
   "metadata": {},
   "source": [
    "\n",
    "# Python\n",
    "Python has become one of the most popular programming languages in the world in recent years. It's used in everything from machine learning to building websites and software testing.\n",
    "\n",
    "# Python is a general-purpose language\n",
    "Python has created everything from Netflix’s recommendation algorithm to the software that controls self-driving cars. Python is a general-purpose language, which means it’s designed to be used in a range of applications, including data science, software and web development, automation, and generally getting stuff done.\n",
    "\n",
    "# Data analysis and machine learning\n",
    "Python has become a staple in data science, allowing data analysts, scientists and other professionals to use the language to conduct complex calculations, create data visualizations, build machine learning algorithms, manipulate and analyze data, and complete other data-related tasks."
   ]
  },
  {
   "cell_type": "markdown",
   "metadata": {},
   "source": [
    "# Running a Python Program\n",
    "The Python interpreter is a program that reads and executes Python code. Depending on your environment, you might start the interpreter by clicking on an icon, or by typing python on a command line. When it starts, you should see output of the program."
   ]
  },
  {
   "cell_type": "markdown",
   "metadata": {},
   "source": [
    "# Debugging\n",
    "Programmers make mistakes. For whimsical reasons, programming errors are called bugs\n",
    "and the process of tracking them down is called debugging.\n",
    "Programming, and especially debugging, sometimes brings out strong emotions. If you\n",
    "are struggling with a difficult bug, you might feel angry, despondent, or embarrassed.\n",
    "Patience..."
   ]
  },
  {
   "cell_type": "markdown",
   "metadata": {},
   "source": [
    "# Hello World!\n",
    "There’s a long-held tradition in the programming world that printing a Hello world! message to the screen as your first program in a new language will bring you good luck."
   ]
  },
  {
   "cell_type": "code",
   "execution_count": null,
   "metadata": {},
   "outputs": [
    {
     "ename": "",
     "evalue": "",
     "output_type": "error",
     "traceback": [
      "\u001b[1;31mFailed to start the Kernel. \n",
      "\u001b[1;31mJupyter server crashed. Unable to connect. \n",
      "\u001b[1;31mError code from Jupyter: 1\n",
      "\u001b[1;31musage: jupyter.py [-h] [--version] [--config-dir] [--data-dir] [--runtime-dir]\n",
      "\u001b[1;31m                  [--paths] [--json] [--debug]\n",
      "\u001b[1;31m                  [subcommand]\n",
      "\u001b[1;31m\n",
      "\u001b[1;31mJupyter: Interactive Computing\n",
      "\u001b[1;31m\n",
      "\u001b[1;31mpositional arguments:\n",
      "\u001b[1;31m  subcommand     the subcommand to launch\n",
      "\u001b[1;31m\n",
      "\u001b[1;31moptional arguments:\n",
      "\u001b[1;31m  -h, --help     show this help message and exit\n",
      "\u001b[1;31m  --version      show the versions of core jupyter packages and exit\n",
      "\u001b[1;31m  --config-dir   show Jupyter config dir\n",
      "\u001b[1;31m  --data-dir     show Jupyter data dir\n",
      "\u001b[1;31m  --runtime-dir  show Jupyter runtime dir\n",
      "\u001b[1;31m  --paths        show all Jupyter paths. Add --json for machine-readable\n",
      "\u001b[1;31m                 format.\n",
      "\u001b[1;31m  --json         output paths as machine-readable json\n",
      "\u001b[1;31m  --debug        output debug information about paths\n",
      "\u001b[1;31m\n",
      "\u001b[1;31mAvailable subcommands:\n",
      "\u001b[1;31m\n",
      "\u001b[1;31mJupyter command `jupyter-notebook` not found. \n",
      "\u001b[1;31mView Jupyter <a href='command:jupyter.viewOutput'>log</a> for further details."
     ]
    }
   ],
   "source": [
    "print(\"Hello World!\")"
   ]
  }
 ],
 "metadata": {
  "kernelspec": {
   "display_name": "data_science",
   "language": "python",
   "name": "python3"
  },
  "language_info": {
   "codemirror_mode": {
    "name": "ipython",
    "version": 3
   },
   "file_extension": ".py",
   "mimetype": "text/x-python",
   "name": "python",
   "nbconvert_exporter": "python",
   "pygments_lexer": "ipython3",
   "version": "3.8.16"
  },
  "orig_nbformat": 4,
  "vscode": {
   "interpreter": {
    "hash": "bf9aa040b34c638ae02de92f49927fffc67d98e1c5b08b351140434fc43bedc8"
   }
  }
 },
 "nbformat": 4,
 "nbformat_minor": 2
}
