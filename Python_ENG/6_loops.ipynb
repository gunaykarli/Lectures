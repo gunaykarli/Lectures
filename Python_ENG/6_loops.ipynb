{
 "cells": [
  {
   "cell_type": "markdown",
   "metadata": {},
   "source": [
    "# Loops\n",
    "A loop statement allows us to execute a statement or group of statements multiple times. The following diagram illustrates a loop statement."
   ]
  },
  {
   "attachments": {},
   "cell_type": "markdown",
   "metadata": {},
   "source": [
    "\n",
    "![for loop](../Images/for_loop.png)"
   ]
  },
  {
   "cell_type": "markdown",
   "metadata": {},
   "source": [
    "Python programming language provides following types of loops to handle looping requirements.\n",
    "- for loop\n",
    "    Executes a sequence of statements multiple times and abbreviates the code that manages the loop variable.\n",
    "- while loop\n",
    "    Repeats a statement or group of statements while a given condition is TRUE. It tests the condition before executing the loop body.\n",
    "- nested loops\n",
    "    You can use one or more loop inside any another while, for or do..while loop."
   ]
  },
  {
   "cell_type": "markdown",
   "metadata": {},
   "source": [
    "# For Loop\n",
    "In Python, the for loop is used to iterate over a sequence such as a list, string, tuple, other iterable objects such as range.\n",
    "\n",
    "With the for loop we can repeat the block of statements a fixed number of times."
   ]
  },
  {
   "cell_type": "code",
   "execution_count": null,
   "metadata": {},
   "outputs": [],
   "source": [
    "# Print first 10 numbers using a for loop\n",
    "\n",
    "for number in range(10):\n",
    "    print(number)"
   ]
  },
  {
   "cell_type": "markdown",
   "metadata": {},
   "source": [
    "# for loop with range()\n",
    "The range() function returns a sequence of numbers starting from 0 (by default) if the initial limit is not specified and it increments by 1 (by default) until a final limit is reached.\n",
    "\n",
    "The range() function is used with a loop to specify the range (how many times) the code block will be executed. "
   ]
  },
  {
   "cell_type": "code",
   "execution_count": null,
   "metadata": {},
   "outputs": [],
   "source": [
    "# Print first 10 numbers  \n",
    "\n",
    "for number in range(1, 11, 1):\n",
    "    print(number)"
   ]
  },
  {
   "cell_type": "code",
   "execution_count": null,
   "metadata": {},
   "outputs": [],
   "source": [
    "#Print numbers from 10 to 1 \n",
    "\n",
    "for number in range(11, 1, -1):\n",
    "    print(number)"
   ]
  },
  {
   "cell_type": "code",
   "execution_count": null,
   "metadata": {},
   "outputs": [],
   "source": [
    "#Calculate sum of numbers from 1 to 10\n",
    "sum = 0\n",
    "for number in range(11):\n",
    "    sum = sum + number\n",
    "\n",
    "print(\"Total: \", sum )"
   ]
  },
  {
   "cell_type": "code",
   "execution_count": null,
   "metadata": {},
   "outputs": [],
   "source": [
    "# Sum of all EVEN numbers from 1 to 10 (1)\n",
    "total_even_numbers = 0\n",
    "for number in range(11):\n",
    "    if number % 2 == 0:\n",
    "        total_even_numbers = total_even_numbers + number\n",
    "\n",
    "print(\"Total: \", total_even_numbers )"
   ]
  },
  {
   "cell_type": "code",
   "execution_count": null,
   "metadata": {},
   "outputs": [],
   "source": [
    "# Sum of all EVEN numbers from 1 to 10 (2)\n",
    "total_even_numbers = 0\n",
    "for number in range(2, 11, 2):\n",
    "    total_even_numbers = total_even_numbers + number\n",
    "\n",
    "print(total_even_numbers)"
   ]
  },
  {
   "cell_type": "markdown",
   "metadata": {},
   "source": [
    "# Quiz\n",
    "Print sum of all ODD numbers from 1 to 10"
   ]
  },
  {
   "cell_type": "code",
   "execution_count": null,
   "metadata": {},
   "outputs": [],
   "source": [
    "# Print sum of all ODD numbers from 1 to 10\n",
    "total_odd_numbers = 0\n",
    "for number in range(1, 11, 2):\n",
    "    total_odd_numbers = total_odd_numbers + number\n",
    "\n",
    "print(total_even_numbers)"
   ]
  },
  {
   "cell_type": "markdown",
   "metadata": {},
   "source": [
    "# The break statement\n",
    "The break statement is used to terminate the loop. You can use the break statement whenever you want to stop the loop. \n",
    "\n",
    "When the break statement is encountered, Python stops the current loop, and the control flow is transferred to the following line of code immediately following the loop."
   ]
  },
  {
   "cell_type": "code",
   "execution_count": null,
   "metadata": {},
   "outputs": [],
   "source": [
    "control_number = int(input(\"Enter the control number (1..10)\"))\n",
    "for number in range(11):\n",
    "    if number == control_number:\n",
    "        print(\"Döngüden çıkılıyor...\")\n",
    "        break\n",
    "        print(\"Bu ifade hiçbir zaman çalıştırılmaz\")\n",
    "    else:\n",
    "        print(number)\n",
    "\n",
    "print(\"Döndüden sonraki ilk ifade\")"
   ]
  },
  {
   "cell_type": "markdown",
   "metadata": {},
   "source": [
    "# The continue statement\n",
    "The continue statement skips the current iteration of a loop and immediately jumps to the next iteration\n",
    "\n",
    "Use the continue statement when you want to jump to the next iteration of the loop immediately. In simple terms, when the interpreter found the continue statement inside the loop, it skips the remaining code and moves to the next iteration.\n",
    "\n",
    "The continue statement skips a block of code in the loop for the current iteration only. It doesn’t terminate the loop but continues in the next iteration ignoring the specified block of code. Let us see the usage of the continue statement with an example."
   ]
  },
  {
   "cell_type": "code",
   "execution_count": 5,
   "metadata": {},
   "outputs": [
    {
     "name": "stdout",
     "output_type": "stream",
     "text": [
      "0\n",
      "1\n",
      "2\n",
      "3\n",
      "4\n",
      "Döngüden bir sonraki iterasyonuna geçiliyor...\n",
      "6\n",
      "7\n",
      "8\n",
      "9\n",
      "10\n",
      "Döndüden sonraki ilk ifade\n"
     ]
    }
   ],
   "source": [
    "control_number = int(input(\"Enter the control number (1..10)\"))\n",
    "for number in range(11):\n",
    "    if number == control_number:\n",
    "        print(\"Döngüden bir sonraki iterasyonuna geçiliyor...\")\n",
    "        continue\n",
    "        print(\"Bu ifade hiçbir zaman çalıştırılmaz\")\n",
    "    else:\n",
    "        print(number)\n",
    "\n",
    "print(\"Döndüden sonraki ilk ifade\")"
   ]
  },
  {
   "cell_type": "markdown",
   "metadata": {},
   "source": [
    "# While Loop\n",
    "Python While Loop is used to execute a block of statements repeatedly until a given condition is satisfied. And when the condition becomes false, the line immediately after the loop in the program is executed.\n",
    "While loop falls under the category of indefinite iteration. Indefinite iteration means that the number of times the loop is executed isn’t specified explicitly in advance. \n",
    "\n",
    "Syntax: \n",
    "\n",
    "while expression:\n",
    "    statement(s)\n",
    "\n",
    "\n",
    "A while statement starts with a while keyword followed by a condition and a colon in the end. After the while statement, the block of the while loop starts. It includes a group of statements with one indent level. These statements in a block are also called a suite of statements in python."
   ]
  },
  {
   "cell_type": "markdown",
   "metadata": {},
   "source": [
    "# Example - 1\n",
    "Calculate sum of numbers from 1 to 10."
   ]
  },
  {
   "cell_type": "code",
   "execution_count": 3,
   "metadata": {},
   "outputs": [
    {
     "name": "stdout",
     "output_type": "stream",
     "text": [
      "Total:  55\n"
     ]
    }
   ],
   "source": [
    "total = 0\n",
    "number = 1\n",
    "while number <= 10:\n",
    "    total = total + number\n",
    "    number = number + 1 \n",
    "print(\"Total: \", total )"
   ]
  },
  {
   "cell_type": "markdown",
   "metadata": {},
   "source": [
    "# Quiz\n",
    "What will be the output of the following Python code?"
   ]
  },
  {
   "cell_type": "code",
   "execution_count": null,
   "metadata": {},
   "outputs": [],
   "source": [
    "i = 1\n",
    "while True:\n",
    "    if i%3 == 0:\n",
    "        break\n",
    "    print(i)\n",
    " \n",
    "    i += 1"
   ]
  },
  {
   "cell_type": "markdown",
   "metadata": {},
   "source": [
    "# Example - 2\n",
    "Calculate sum of even numbers from 1 to 10."
   ]
  },
  {
   "cell_type": "code",
   "execution_count": 4,
   "metadata": {},
   "outputs": [
    {
     "name": "stdout",
     "output_type": "stream",
     "text": [
      "Total:  30\n"
     ]
    }
   ],
   "source": [
    "total_even_numbers = 0\n",
    "number = 1\n",
    "while number <= 10:\n",
    "    if number % 2 == 0:\n",
    "        total_even_numbers = total_even_numbers + number\n",
    "    number = number + 1 \n",
    "print(\"Total: \", total_even_numbers )"
   ]
  },
  {
   "cell_type": "markdown",
   "metadata": {},
   "source": [
    "# Example - 3\n",
    "Calculate sum of even and odd numbers from 1 to 10."
   ]
  },
  {
   "cell_type": "code",
   "execution_count": 6,
   "metadata": {},
   "outputs": [
    {
     "name": "stdout",
     "output_type": "stream",
     "text": [
      "Total Even Numbers:  30\n",
      "Total Odd Numbers:  25\n"
     ]
    }
   ],
   "source": [
    "total_even_numbers = 0\n",
    "total_odd_numbers = 0\n",
    "number = 1\n",
    "while number <= 10:\n",
    "    if number % 2 == 0:\n",
    "        total_even_numbers = total_even_numbers + number\n",
    "    else:\n",
    "        total_odd_numbers = total_odd_numbers + number \n",
    "    number = number + 1 \n",
    "\n",
    "print(\"Total Even Numbers: \", total_even_numbers )\n",
    "print(\"Total Odd Numbers: \", total_odd_numbers )\n"
   ]
  },
  {
   "cell_type": "markdown",
   "metadata": {},
   "source": [
    "# While Loop - Sentinel Controlled Statement\n",
    "In this, we don’t use any counter variable because we don’t know that how many times the loop will execute. Here user decides that how many times he wants to execute the loop. For this, we use a sentinel value. A sentinel value is a value that is used to terminate a loop whenever a user enters it, generally, the sentinel value is -1."
   ]
  },
  {
   "cell_type": "markdown",
   "metadata": {},
   "source": [
    "# Example - 4\n",
    "In this exercise you will create a program that computes the sum of a collection of value entered by the user. The user will enter -1 as a sentinel value to indicate that no further values will be provided. "
   ]
  },
  {
   "cell_type": "code",
   "execution_count": null,
   "metadata": {},
   "outputs": [],
   "source": [
    "# Version 1\n",
    "sum = 0\n",
    "value = int(input('Enter a value (-1 to quit): '))\n",
    "  \n",
    "while value != -1:\n",
    "    sum = sum + value\n",
    "    value = int(input('Enter a number (-1 to quit): '))\n",
    "print(\"Sum: \", sum)"
   ]
  },
  {
   "cell_type": "code",
   "execution_count": null,
   "metadata": {},
   "outputs": [],
   "source": [
    "# Version 2\n",
    "sum = 0\n",
    "\n",
    "interrupted = False\n",
    "while not interrupted:\n",
    "\tvalue = int(input(\"Enter a value (-1 to exit): \"))\n",
    "\tif value != -1:\n",
    "\t\tsum += value\n",
    "\telse:\n",
    "\t\tinterrupted = True \n",
    "\t\t\n",
    "print(\"Sum: \", sum)"
   ]
  },
  {
   "cell_type": "markdown",
   "metadata": {},
   "source": [
    "# Example - 5\n",
    "In this exercise you will create a program that computes the average of a collection of values entered by the user. The user will enter 0 as a sentinel value to indicate that no further values will be provided. "
   ]
  },
  {
   "cell_type": "code",
   "execution_count": null,
   "metadata": {},
   "outputs": [],
   "source": [
    "sum = 0\n",
    "number_of_entered_value = 0\n",
    "\n",
    "interrupted = False\n",
    "while not interrupted:\n",
    "\tvalue = int(input(\"Enter a value (0 to exit): \"))\n",
    "\tif value != 0:\n",
    "\t\tsum += value\n",
    "\t\tnumber_of_entered_value += 1\n",
    "\telse:\n",
    "\t\tinterrupted = True \n",
    "\t\t\n",
    "avg = sum / number_of_entered_value \n",
    "print(\"The average is {}.\".format(avg))"
   ]
  }
 ],
 "metadata": {
  "kernelspec": {
   "display_name": "Python 3.8.9 64-bit",
   "language": "python",
   "name": "python3"
  },
  "language_info": {
   "codemirror_mode": {
    "name": "ipython",
    "version": 3
   },
   "file_extension": ".py",
   "mimetype": "text/x-python",
   "name": "python",
   "nbconvert_exporter": "python",
   "pygments_lexer": "ipython3",
   "version": "3.9.6 (default, Oct 18 2022, 12:41:40) \n[Clang 14.0.0 (clang-1400.0.29.202)]"
  },
  "orig_nbformat": 4,
  "vscode": {
   "interpreter": {
    "hash": "31f2aee4e71d21fbe5cf8b01ff0e069b9275f58929596ceb00d14d90e3e16cd6"
   }
  }
 },
 "nbformat": 4,
 "nbformat_minor": 2
}
