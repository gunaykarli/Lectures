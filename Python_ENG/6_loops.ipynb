{
 "cells": [
  {
   "cell_type": "markdown",
   "metadata": {},
   "source": [
    "# Loops\n",
    "A loop statement allows us to execute a statement or group of statements multiple times. The following diagram illustrates a loop statement."
   ]
  },
  {
   "attachments": {},
   "cell_type": "markdown",
   "metadata": {},
   "source": [
    "\n",
    "![for loop](../Images/for_loop.png)"
   ]
  },
  {
   "cell_type": "markdown",
   "metadata": {},
   "source": [
    "Python programming language provides following types of loops to handle looping requirements.\n",
    "for loop\n",
    "    Executes a sequence of statements multiple times and abbreviates the code that manages the loop variable.\n",
    "while loop\n",
    "    Repeats a statement or group of statements while a given condition is TRUE. It tests the condition before executing the loop body.\n",
    "nested loops\n",
    "    You can use one or more loop inside any another while, for or do..while loop."
   ]
  },
  {
   "cell_type": "markdown",
   "metadata": {},
   "source": [
    "# While Loop\n",
    "Python While Loop is used to execute a block of statements repeatedly until a given condition is satisfied. And when the condition becomes false, the line immediately after the loop in the program is executed.\n",
    "While loop falls under the category of indefinite iteration. Indefinite iteration means that the number of times the loop is executed isn’t specified explicitly in advance. \n",
    "\n",
    "Syntax: \n",
    "\n",
    "while expression:\n",
    "    statement-1\n",
    "    statement-2\n",
    "    ...\n",
    "    statement-N\n",
    "\n",
    "\n",
    "A while statement starts with a while keyword followed by a condition and a colon in the end. After the while statement, the block of the while loop starts. It includes a group of statements with one indent level. These statements in a block are also called a suite of statements in python."
   ]
  },
  {
   "cell_type": "markdown",
   "metadata": {},
   "source": [
    "# Example - 1\n",
    "Calculate sum of numbers from 1 to 10."
   ]
  },
  {
   "cell_type": "code",
   "execution_count": 3,
   "metadata": {},
   "outputs": [
    {
     "name": "stdout",
     "output_type": "stream",
     "text": [
      "Total:  55\n"
     ]
    }
   ],
   "source": [
    "sum = 0\n",
    "number = 1\n",
    "while sum <= 10:\n",
    "    sum = sum + number\n",
    "    number = number + 1 \n",
    "    \n",
    "print(\"Sum: \", sum)"
   ]
  },
  {
   "cell_type": "markdown",
   "metadata": {},
   "source": [
    "# Example - 2\n",
    "Calculate sum of even numbers from 1 to 10."
   ]
  },
  {
   "cell_type": "code",
   "execution_count": 4,
   "metadata": {},
   "outputs": [
    {
     "name": "stdout",
     "output_type": "stream",
     "text": [
      "Total:  30\n"
     ]
    }
   ],
   "source": [
    "sum_even_numbers = 0\n",
    "number = 1\n",
    "while number <= 10:\n",
    "    if number % 2 == 0:\n",
    "        sum_even_numbers = sum_even_numbers + number\n",
    "    number = number + 1 \n",
    "    \n",
    "print(\"Total: \", sum_even_numbers )"
   ]
  },
  {
   "cell_type": "markdown",
   "metadata": {},
   "source": [
    "# Example - 3\n",
    "Calculate sum of even and odd numbers from 1 to 10."
   ]
  },
  {
   "cell_type": "code",
   "execution_count": 5,
   "metadata": {},
   "outputs": [
    {
     "name": "stdout",
     "output_type": "stream",
     "text": [
      "Total Even Numbers:  30\n",
      "Total Odd Numbers:  25\n"
     ]
    }
   ],
   "source": [
    "sum_even_numbers = 0\n",
    "sum_odd_numbers = 0\n",
    "number = 1\n",
    "while number <= 10:\n",
    "    if number % 2 == 0:\n",
    "        sum_even_numbers = sum_even_numbers + number\n",
    "    else:\n",
    "        sum_odd_numbers = sum_odd_numbers + number \n",
    "    number = number + 1 \n",
    "\n",
    "print(\"Total Even Numbers: \", sum_even_numbers)\n",
    "print(\"Total Odd Numbers: \", sum_odd_numbers)\n"
   ]
  },
  {
   "cell_type": "markdown",
   "metadata": {},
   "source": [
    "# Example - 4\n",
    "Calculate sum of 3 numbers entered by the user"
   ]
  },
  {
   "cell_type": "code",
   "execution_count": 6,
   "metadata": {},
   "outputs": [
    {
     "name": "stdout",
     "output_type": "stream",
     "text": [
      "Sum:  19\n"
     ]
    }
   ],
   "source": [
    "sum = 0\n",
    "counter = 1\n",
    "while counter <= 3:\n",
    "    number = int(input(\"Enter a number: \"))\n",
    "    sum = sum + number\n",
    "    counter = counter + 1\n",
    "    \n",
    "print(\"Sum: \", sum)"
   ]
  },
  {
   "cell_type": "markdown",
   "metadata": {},
   "source": [
    "# While Loop - Sentinel Controlled Statement\n",
    "In this, we don’t use any counter variable because we don’t know that how many times the loop will execute. Here user decides that how many times he wants to execute the loop. For this, we use a sentinel value. A sentinel value is a value that is used to terminate a loop whenever a user enters it, generally, the sentinel value is -1."
   ]
  },
  {
   "cell_type": "markdown",
   "metadata": {},
   "source": [
    "# Example - 5\n",
    "In this exercise you will create a program that computes the sum of a collection of value entered by the user. The user will enter -1 as a sentinel value to indicate that no further values will be provided. "
   ]
  },
  {
   "cell_type": "code",
   "execution_count": null,
   "metadata": {},
   "outputs": [],
   "source": [
    "# Version 1\n",
    "sum = 0\n",
    "value = int(input('Enter a value (-1 to quit): '))\n",
    "  \n",
    "while value != -1:\n",
    "    sum = sum + value\n",
    "    value = int(input('Enter a number (-1 to quit): '))\n",
    "print(\"Sum: \", sum)"
   ]
  },
  {
   "cell_type": "code",
   "execution_count": null,
   "metadata": {},
   "outputs": [],
   "source": [
    "# Version 2\n",
    "sum = 0\n",
    "\n",
    "interrupted = False\n",
    "while not interrupted:\n",
    "\tvalue = int(input(\"Enter a value (-1 to exit): \"))\n",
    "\tif value != -1:\n",
    "\t\tsum += value\n",
    "\telse:\n",
    "\t\tinterrupted = True \n",
    "\t\t\n",
    "print(\"Sum: \", sum)"
   ]
  },
  {
   "cell_type": "markdown",
   "metadata": {},
   "source": [
    "# Example - 6\n",
    "In this exercise you will create a program that computes the average of a collection of values entered by the user. The user will enter 0 as a sentinel value to indicate that no further values will be provided. "
   ]
  },
  {
   "cell_type": "code",
   "execution_count": null,
   "metadata": {},
   "outputs": [],
   "source": [
    "sum = 0\n",
    "number_of_entered_value = 0\n",
    "\n",
    "interrupted = False\n",
    "while not interrupted:\n",
    "\tvalue = int(input(\"Enter a value (0 to exit): \"))\n",
    "\tif value != 0:\n",
    "\t\tsum += value\n",
    "\t\tnumber_of_entered_value += 1\n",
    "\telse:\n",
    "\t\tinterrupted = True \n",
    "\t\t\n",
    "avg = sum / number_of_entered_value \n",
    "print(\"The average is {}.\".format(avg))"
   ]
  },
  {
   "cell_type": "markdown",
   "metadata": {},
   "source": [
    "# For Döngüsü\n",
    "For döngüsü, genel olarak sayaç kontrollü döngülerin gerçekleştirilmesini sağlar.\n",
    "Ayrıca, Python For loop is used for sequential traversal i.e. it is used for iterating over an iterable like String, Tuple, List, Set or Dictionary.\n",
    "\n",
    "For Loops Syntax\n",
    "for var in iterable:\n",
    "    statement-1\n",
    "    statement-2\n",
    "    ...\n",
    "    statement-N\n",
    "\n",
    "\n",
    "range() function in Python\n",
    "The range() function is used to generate a sequence of numbers from start (inclusive) to stop (exclusive) by step. \n",
    "range(4) produces 0, 1, 2, 3. These are exactly the valid indices for a list of 4 elements. When step is given, it specifies the increment (or decrement)."
   ]
  },
  {
   "cell_type": "markdown",
   "metadata": {},
   "source": [
    "# Example - \n",
    "Calculate sum of numbers from 1 to 10."
   ]
  },
  {
   "cell_type": "code",
   "execution_count": 10,
   "metadata": {},
   "outputs": [
    {
     "name": "stdout",
     "output_type": "stream",
     "text": [
      "Sum of first 10 numbers : 55\n"
     ]
    }
   ],
   "source": [
    "sum = 0\n",
    "for number in range(11):\n",
    "    sum = sum + number\n",
    "    \n",
    "print(\"Sum of first 10 numbers :\", sum)"
   ]
  },
  {
   "cell_type": "markdown",
   "metadata": {},
   "source": [
    "# Example - \n",
    "Calculate sum of even numbers from 1 to 10."
   ]
  },
  {
   "cell_type": "code",
   "execution_count": null,
   "metadata": {},
   "outputs": [],
   "source": [
    "sum_of_even = 0\n",
    "for number in range(2,11,2):\n",
    "    sum_of_even = sum_of_even + number\n",
    "\n",
    "print(\"Sum of even numbers from 1 to 10 numbers :\", sum)"
   ]
  },
  {
   "cell_type": "markdown",
   "metadata": {},
   "source": [
    "# Example - \n",
    "Calculate sum of odd numbers from 1 to 10."
   ]
  },
  {
   "cell_type": "code",
   "execution_count": 11,
   "metadata": {},
   "outputs": [
    {
     "name": "stdout",
     "output_type": "stream",
     "text": [
      "Sum of odd numbers from 1 to 10 numbers : 55\n"
     ]
    }
   ],
   "source": [
    "sum_of_odd = 0\n",
    "for number in range(1,11,2):\n",
    "    sum_of_odd = sum_of_odd + number\n",
    "\n",
    "print(\"Sum of odd numbers from 1 to 10 numbers :\", sum)"
   ]
  },
  {
   "cell_type": "code",
   "execution_count": 9,
   "metadata": {},
   "outputs": [
    {
     "name": "stdout",
     "output_type": "stream",
     "text": [
      "Total Even Numbers:  30\n",
      "Total Odd Numbers:  25\n"
     ]
    }
   ],
   "source": [
    "sum_even_numbers = 0\n",
    "sum_odd_numbers = 0\n",
    "\n",
    "for number in range(11):\n",
    "    if number % 2 == 0:\n",
    "        sum_even_numbers = sum_even_numbers + number\n",
    "    else:\n",
    "        sum_odd_numbers = sum_odd_numbers + number \n",
    "\n",
    "print(\"Total Even Numbers: \", sum_even_numbers)\n",
    "print(\"Total Odd Numbers: \", sum_odd_numbers)"
   ]
  },
  {
   "cell_type": "markdown",
   "metadata": {},
   "source": []
  },
  {
   "cell_type": "markdown",
   "metadata": {},
   "source": [
    "# Loop Control Statements\n",
    "Loop control statements change execution from its normal sequence. \n",
    "\n",
    "Break komutu, yazılacak programın analizinde oluşturulan şart ortaya çıktığında, döngülerin, yukarıda bahsettiğimiz normal işleme süreçleri sonlandırabilir. Bunun anlamı, döngü şartı bozulmadan döngülerden çıkılması demektir. Döngüden çıkıldığında program akışı döngüden sonraki ilk ifadenin işletilmesi ile devam eder.\n",
    "\n",
    "Break komutu gibi continue komutu da, döngülerin normal akışına müdahele eden bir komuttur. Continue komutu ile döngünün bir sonraki adımına geçiş yapılır. \n",
    "\n",
    "Continue Statement in Python"
   ]
  },
  {
   "cell_type": "code",
   "execution_count": 13,
   "metadata": {},
   "outputs": [
    {
     "name": "stdout",
     "output_type": "stream",
     "text": [
      "The number is equal to  4\n",
      "The loop passes the next iteration...\n",
      "Sum:  51\n"
     ]
    }
   ],
   "source": [
    "control_number = int(input(\"Enter the control number less than 10): \"))\n",
    "\n",
    "sum = 0\n",
    "for number in range(11):\n",
    "    if number == control_number:\n",
    "        print(\"The number is equal to \", control_number)\n",
    "        print(\"The loop passes the next iteration...\")\n",
    "        continue\n",
    "    else:\n",
    "        sum = sum + number\n",
    "\n",
    "print(\"Sum: \", sum)\n",
    "\n"
   ]
  },
  {
   "cell_type": "code",
   "execution_count": 14,
   "metadata": {},
   "outputs": [
    {
     "name": "stdout",
     "output_type": "stream",
     "text": [
      "The number is equal to  5\n",
      "The loop is broken\n",
      "Sum:  10\n"
     ]
    }
   ],
   "source": [
    "control_number = int(input(\"Enter the control number less than 10): \"))\n",
    "\n",
    "sum = 0\n",
    "for number in range(11):\n",
    "    if number == control_number:\n",
    "        print(\"The number is equal to \", control_number)\n",
    "        print(\"The loop is broken\")\n",
    "        break\n",
    "    else:\n",
    "        sum = sum + number\n",
    "\n",
    "print(\"Sum: \", sum)"
   ]
  }
 ],
 "metadata": {
  "kernelspec": {
   "display_name": "Python 3.8.9 64-bit",
   "language": "python",
   "name": "python3"
  },
  "language_info": {
   "codemirror_mode": {
    "name": "ipython",
    "version": 3
   },
   "file_extension": ".py",
   "mimetype": "text/x-python",
   "name": "python",
   "nbconvert_exporter": "python",
   "pygments_lexer": "ipython3",
   "version": "3.8.9"
  },
  "orig_nbformat": 4,
  "vscode": {
   "interpreter": {
    "hash": "31f2aee4e71d21fbe5cf8b01ff0e069b9275f58929596ceb00d14d90e3e16cd6"
   }
  }
 },
 "nbformat": 4,
 "nbformat_minor": 2
}
