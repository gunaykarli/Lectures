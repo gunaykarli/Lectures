{
 "cells": [
  {
   "cell_type": "markdown",
   "metadata": {},
   "source": [
    "# IREM\n",
    "# Conditional statements\n",
    "In Python, condition statements act depending on whether a given condition is true or false. You can execute different blocks of codes depending on the outcome of a condition. Condition statements always evaluate to either True or False.\n",
    "There are four types of conditional statements.\n",
    "\n",
    "- if statement\n",
    "- if-else\n",
    "- if-elif-else\n",
    "- nested if-else"
   ]
  },
  {
   "cell_type": "markdown",
   "metadata": {},
   "source": [
    "# if statement; conditional execution\n",
    "In order to write useful programs, we almost always need the ability to check conditions and change the behavior of the program accordingly. Conditional statements give us this ability. The simplest form is the if statement: "
   ]
  },
  {
   "cell_type": "code",
   "execution_count": 1,
   "metadata": {},
   "outputs": [],
   "source": [
    "x = int(input(\"Enter a number\"))\n",
    "if x > 0:\n",
    "    print('x is positive')\n",
    "\n",
    "print('end of the program')"
   ]
  },
  {
   "cell_type": "markdown",
   "metadata": {},
   "source": [
    "The boolean expression after if is called the condition. If it is true, the indented statement runs. If not, nothing happens."
   ]
  },
  {
   "cell_type": "markdown",
   "metadata": {},
   "source": [
    "# IREM\n",
    "- calculate the square of a number if it greater than 5"
   ]
  },
  {
   "cell_type": "code",
   "execution_count": null,
   "metadata": {},
   "outputs": [],
   "source": [
    "number = int(input(\"Enter a number\"))\n",
    "if number > 5:\n",
    "    # Calculate square\n",
    "    print(number * number)\n",
    "    \n",
    "print('Next lines of code')"
   ]
  },
  {
   "cell_type": "markdown",
   "metadata": {},
   "source": [
    "# Quiz\n",
    "Take a price of an mobile application. if the price is not zero, program outputs \"the application is NOT free \""
   ]
  },
  {
   "cell_type": "code",
   "execution_count": null,
   "metadata": {},
   "outputs": [],
   "source": [
    "price = int(input(\"Enter the price of the application\"))\n",
    "\n",
    "if price != 0:\n",
    "    print(\"The application is NOT free\")"
   ]
  },
  {
   "cell_type": "markdown",
   "metadata": {},
   "source": [
    "# if-else; alternative execution\n",
    "A second form of the if statement is “alternative execution”, in which there are two possibilities and the condition determines which one runs. The syntax looks like this:"
   ]
  },
  {
   "cell_type": "code",
   "execution_count": null,
   "metadata": {},
   "outputs": [],
   "source": [
    "x = int(input(\"Enter a number\"))\n",
    "\n",
    "if x % 2 == 0:\n",
    "    print('x is even')\n",
    "else:\n",
    "    print('x is odd')"
   ]
  },
  {
   "cell_type": "markdown",
   "metadata": {},
   "source": [
    "If the remainder when x is divided by 2 is 0, then we know that x is even, and the program displays an appropriate message. If the condition is false, the second set of statements runs. Since the condition must be true or false, exactly one of the alternatives will run. "
   ]
  },
  {
   "cell_type": "markdown",
   "metadata": {},
   "source": [
    "# IREM\n",
    "- Password check"
   ]
  },
  {
   "cell_type": "code",
   "execution_count": null,
   "metadata": {},
   "outputs": [],
   "source": [
    "password = input('Enter password ')\n",
    "\n",
    "if password == \"123.qaz\":\n",
    "    print(\"Correct password\")\n",
    "else:\n",
    "    print(\"Incorrect Password\")"
   ]
  },
  {
   "cell_type": "markdown",
   "metadata": {},
   "source": [
    "# Quiz\n",
    "if-else statement in the code box below that sets the variable m to the smaller of a and b."
   ]
  },
  {
   "cell_type": "code",
   "execution_count": null,
   "metadata": {},
   "outputs": [],
   "source": [
    "a = 100\n",
    "b = 50"
   ]
  },
  {
   "cell_type": "markdown",
   "metadata": {},
   "source": [
    "# if-elif-else; chained conditionals \n",
    "Sometimes there are more than two possibilities and we need more than two branches. One way to express a computation like that is a chained conditional: "
   ]
  },
  {
   "cell_type": "code",
   "execution_count": null,
   "metadata": {},
   "outputs": [],
   "source": [
    "x = int(input(\"Enter x: \"))\n",
    "y = int(input(\"Enter y: \"))\n",
    "\n",
    "if x < y:\n",
    "    print('x is less than y')\n",
    "elif x > y:\n",
    "    print('x is greater than y')\n",
    "else:\n",
    "    print('x and y are equal')"
   ]
  },
  {
   "cell_type": "markdown",
   "metadata": {},
   "source": [
    "elif is an abbreviation of “else if”. Again, exactly one branch will run. There is no limit on the number of elif statements. If there is an else clause, it has to be at the end, but there doesn’t have to be one."
   ]
  },
  {
   "cell_type": "markdown",
   "metadata": {},
   "source": [
    "# IREM\n",
    "- role in the system"
   ]
  },
  {
   "cell_type": "code",
   "execution_count": null,
   "metadata": {},
   "outputs": [],
   "source": [
    "role = int(input(\"Enter your enterance role number\"))\n",
    "if role == 1:\n",
    "    print(\"You have entered the system as Admin\")\n",
    "elif role == 2:\n",
    "    print(\"You have entered the system as Editor\")\n",
    "elif role == 3:\n",
    "    print(\"You have entered the system as Guest\")\n",
    "else:\n",
    "    print(\"Wrong entry\")"
   ]
  },
  {
   "cell_type": "markdown",
   "metadata": {},
   "source": [
    "# Quiz\n",
    "What gets printed as the output of the below code?"
   ]
  },
  {
   "cell_type": "code",
   "execution_count": null,
   "metadata": {},
   "outputs": [],
   "source": [
    "x = True\n",
    "y = False\n",
    "z = False\n",
    "if not x or y:\n",
    "    print(\"1\")\n",
    "elif not x or not y and z:\n",
    "    print(\"2\")\n",
    "elif not x or y or not y and x:\n",
    "    print(\"3\")\n",
    "else:\n",
    "    print(\"4\")"
   ]
  },
  {
   "cell_type": "markdown",
   "metadata": {},
   "source": [
    "# IREM\n",
    "# Nested if-else statement\n",
    "In Python, the nested if-else statement is an if statement inside another if-else statement. It is allowed in Python to put any number of if statements in another if statement.\n",
    "\n",
    "Indentation is the only way to differentiate the level of nesting. The nested if-else is useful when we want to make a series of decisions.\n",
    "\n",
    "Syntax of the nested-if-else:\n",
    "\n",
    "if conditon_outer:\n",
    "    if condition_inner:\n",
    "        statement of inner if\n",
    "    else:\n",
    "        statement of inner else:\n",
    "    statement ot outer if\n",
    "else:\n",
    "    Outer else \n",
    "statement outside if block"
   ]
  },
  {
   "cell_type": "code",
   "execution_count": null,
   "metadata": {},
   "outputs": [],
   "source": [
    "# Find a greater number between two numbers\n",
    "num1 = int(input('Enter first number '))\n",
    "num2 = int(input('Enter second number '))\n",
    "\n",
    "if num1 >= num2:\n",
    "    if num1 == num2:\n",
    "        print(num1, 'and', num2, 'are equal')\n",
    "    else:\n",
    "        print(num1, 'is greater than', num2)\n",
    "else:\n",
    "    print(num1, 'is smaller than', num2)"
   ]
  },
  {
   "cell_type": "markdown",
   "metadata": {},
   "source": [
    "# Example - 1\n",
    "In this exercise you will create a program that reads a letter of the alphabet from the user. If the user enters a, e, i, o or u then your program should display a message indicating that the entered letter is a vowel. Otherwise your program should display a message indicating that the letter is a consonant. "
   ]
  },
  {
   "cell_type": "code",
   "execution_count": null,
   "metadata": {},
   "outputs": [],
   "source": [
    "# version 1\n",
    "letter = input(\"Please enter a letter of the alphabet: \").lower()\n",
    "\n",
    "if letter == \"a\":\n",
    "\tprint(\"This letter is a vowel.\")\n",
    "elif letter == \"e\":\n",
    "\tprint(\"This letter is a vowel.\")\n",
    "elif letter == \"i\":\n",
    "\tprint(\"This letter is a vowel.\")\n",
    "elif letter == \"o\":\n",
    "\tprint(\"This letter is a vowel.\")\n",
    "elif letter == \"u\":\n",
    "\tprint(\"This letter is a vowel.\")\n",
    "else:\n",
    "\tprint(\"This letter is a consonant.\")"
   ]
  },
  {
   "cell_type": "code",
   "execution_count": null,
   "metadata": {},
   "outputs": [],
   "source": [
    "# version 1\n",
    "harf = input(\"Please enter a harf of the alphabet: \").lower()\n",
    "\n",
    "if harf == \"a\":\n",
    "    print(\"This harf is a vowel.\")\n",
    "elif harf == \"e\":\n",
    "    print(\"This harf is a vowel.\")\n",
    "elif harf == \"i\":\n",
    "    print(\"This harf is a vowel.\")\n",
    "elif harf == \"o\":\n",
    "    print(\"This harf is a vowel.\")\n",
    "elif harf == \"u\":\n",
    "    print(\"This harf is a vowel.\")\n",
    "else:\n",
    "    print(\"This harf is a consonant.\")"
   ]
  },
  {
   "cell_type": "code",
   "execution_count": null,
   "metadata": {},
   "outputs": [],
   "source": [
    "# version 2\n",
    "letter = input(\"Please enter a letter of the alphabet: \").lower()\n",
    "\n",
    "if letter == \"a\" or letter == \"e\" or letter == \"i\" or letter == \"o\" or letter == \"u\":\n",
    "    print(\"This letter is a vowel.\")\n",
    "else:\n",
    "\tprint(\"This letter is a consonant.\")"
   ]
  },
  {
   "cell_type": "code",
   "execution_count": null,
   "metadata": {},
   "outputs": [],
   "source": [
    "# version 3\n",
    "letter = input(\"Please enter a letter of the alphabet: \").lower()\n",
    "\n",
    "if letter in \"aeiou\":\n",
    "\tprint(\"This letter is a vowel.\")\n",
    "else:\n",
    "\tprint(\"This letter is a consonant.\")"
   ]
  },
  {
   "cell_type": "markdown",
   "metadata": {},
   "source": [
    "# Example - 2\n",
    "The length of a month varies from 28 to 31 days. In this exercise you will create a program that reads the name of a month from the user as a string. Then your program should display the number of days in that month. Display “28 or 29 days”  for February so that leap years are addressed. "
   ]
  },
  {
   "cell_type": "code",
   "execution_count": null,
   "metadata": {},
   "outputs": [],
   "source": [
    "# version 1\n",
    "month = input(\"Please enter the name of a month: \").lower()\n",
    "\n",
    "if month == \"september\" or month == \"april\" or month == \"june\" or month == \"november\":\n",
    "\tprint(\"There are 30 days in this month.\")\n",
    "elif month == \"february\":\n",
    "\tprint(\"There are 28 or 29 days in this month.\")\n",
    "else:\n",
    "\tprint(\"There are 31 days in this month.\")"
   ]
  },
  {
   "cell_type": "code",
   "execution_count": null,
   "metadata": {},
   "outputs": [],
   "source": [
    "# version 2\n",
    "month = input(\"Please enter the name of a month: \").lower()\n",
    "year = int(input(\"Please enter the year: \"))\n",
    "\n",
    "if month == \"september\" or month == \"april\" or month == \"june\" or month == \"november\":\n",
    "\tprint(\"There are 30 days in this month.\")\n",
    "elif month == \"february\":\n",
    "    if year % 4 == 0:\n",
    "\t    print(\"There are 29 days in this month.\")\n",
    "    else:\n",
    "        print(\"There are 28 days in this month.\")\n",
    "else:\n",
    "\tprint(\"There are 31 days in this month.\")"
   ]
  },
  {
   "cell_type": "markdown",
   "metadata": {},
   "source": [
    "# Example - 3\n",
    "A triangle can be classified based on the lengths of its sides as equilateral, isosceles or scalene. All 3 sides of an equilateral triangle have the same length. An isosceles triangle has two sides that are the same length, and a third side that is a different length. If all of the sides have different lengths then the triangle is scalene.Write a program that reads the lengths of 3 sides of a triangle from the user. \n",
    "Display a message indicating the type of the triangle. "
   ]
  },
  {
   "cell_type": "code",
   "execution_count": null,
   "metadata": {},
   "outputs": [],
   "source": [
    "s1 = float(input(\"Please enter the length of first side of a triangle: \"))\n",
    "s2 = float(input(\"Please enter the length of the second side of the triangle: \"))\n",
    "s3 = float(input(\"Please enter the length of the third side of the triangle: \"))\n",
    "\n",
    "triangle_type = \"\"\n",
    "\n",
    "if s1 == s2 == s3:\n",
    "\ttriangle_type = \"equilateral\"\n",
    "elif s1 == s2 or s1 == s3 or s2 == s3:\n",
    "\ttriangle_type = \"isosceles\"\n",
    "else:\n",
    "\ttriangle_type = \"scalene\"\n",
    "\t\n",
    "print(\"That is a {} triangle.\".format(triangle_type))"
   ]
  },
  {
   "cell_type": "markdown",
   "metadata": {},
   "source": [
    "# Example - 4\n",
    "It is common for images of a country’s previous leaders, or other individuals of his- torical significance, to appear on its money. The individuals that appear on banknotes\n",
    "in the United States are listed in Table 2.1.\n",
    "Write a program that begins by reading the denomination of a banknote from the\n",
    "user. Then your program should display the name of the individual that appears on the banknote of the entered amount. An appropriate error message should be displayed if no such note exists.\n",
    "\n",
    "Individual          Amount \n",
    "George Washington   $1\n",
    "Thomas Jefferson    $2\n",
    "Abraham Lincoln     $5\n",
    "Alexander Hamilton  $10\n",
    "Andrew Jackson      $20\n",
    "Ulysses S. Grant    $50\n",
    "Benjamin Franklin   $100"
   ]
  },
  {
   "cell_type": "code",
   "execution_count": null,
   "metadata": {},
   "outputs": [],
   "source": [
    "bank_note_amount = int(input(\"Please enter a bank note amount: $\"))\n",
    "\n",
    "individual_name = \"\"\n",
    "\n",
    "if bank_note_amount == 1:\n",
    "\tindividual_name = \"George Washington\"\n",
    "if bank_note_amount == 2:\n",
    "\tindividual_name = \"Thomas Jefferson\"\n",
    "if bank_note_amount == 5:\n",
    "\tindividual_name = \"Abraham Lincoln\"\n",
    "if bank_note_amount == 10:\n",
    "\tindividual_name = \"Alexander Hamilton\"\n",
    "if bank_note_amount == 20:\n",
    "\tindividual_name = \"Andrew Jackson\"\n",
    "if bank_note_amount == 50:\n",
    "\tindividual_name = \"Ulysses S. Grant\"\n",
    "if bank_note_amount == 100:\n",
    "\tindividual_name = \"Benjamin Franklin\"\n",
    "\t\n",
    "if individual_name == \"\":\n",
    "\tprint(\"That is not an American bank note in circulation.\")\n",
    "else:\n",
    "\tprint(\"The individual on this bank note is {}.\".format(individual_name))"
   ]
  },
  {
   "cell_type": "markdown",
   "metadata": {},
   "source": [
    "# Example - 5\n",
    "The year is divided into four seasons: spring, summer, fall and winter. While the exact dates that the seasons change vary a little bit from year to year because of the way that the calendar is constructed, we will use the following dates for this exercise: \n",
    "\n",
    "Season  First day\n",
    "Spring  March 20\n",
    "Summer  June 21\n",
    "Fall    September 22\n",
    "Winter  December 21\n",
    "    "
   ]
  },
  {
   "cell_type": "code",
   "execution_count": null,
   "metadata": {},
   "outputs": [],
   "source": [
    "month = input(\"Please enter the name of a month: \").lower()\n",
    "day = int(input(\"Please enter a day from that month: \"))\n",
    "\n",
    "season = \"\"\n",
    "\n",
    "spring, summer, fall, winter = False\n",
    "\n",
    "if month == \"march\" or month == \"april\" or month == \"may\" or month == \"june\":\n",
    "\tif month == \"march\" and day >= 20:\n",
    "\t\tspring = True\n",
    "\t\t\n",
    "\telif month == \"april\" or month == \"may\":\n",
    "\t\tspring  = True\n",
    "\t\t\n",
    "\telif month == \"june\" and day < 21:\n",
    "\t\tspring = True\n",
    "\t\t\n",
    "if month == \"june\" or month == \"july\" or month == \"august\" or month == \"septemper\":\n",
    "\tif month  == \"june\" and day >= 21:\n",
    "\t\tsummer = True\n",
    "\t\t\n",
    "\telif month == \"july\" or month == \"august\":\n",
    "\t\tsummer = True\n",
    "\t\t\n",
    "\telif month == \"september\" and day < 22:\n",
    "\t\tsummer = True\n",
    "\t\t\n",
    "\n",
    "if month == \"septemper\" or month == \"october\" or month == \"november\" or month == \"december\":\n",
    "\tif month == \"september\" and day >= 22:\n",
    "\t\tfall = True\n",
    "\t\t\n",
    "\telif month == \"october\" or month == \"november\":\n",
    "\t\tfall = True\n",
    "\t\t\n",
    "\telif month == \"december\" and day < 21:\n",
    "\t\tfall = True\n",
    "\t\t\n",
    "if month == \"december\" or month == \"january\" or month == \"february\" or month == \"march\":\n",
    "\tif month == \"december\" and day >= 20:\n",
    "\t\twinter = True\n",
    "\t\t\n",
    "\telif month == \"january\" or month == \"february\":\n",
    "\t\twinter = True\n",
    "\t\t\n",
    "\telif month == \"march\" and day < 20:\n",
    "\t\twinter = True\n",
    "\t\t\n",
    "if spring:\n",
    "\tprint(\"That date falls in spring.\")\n",
    "elif summer:\n",
    "\tprint(\"That date falls in summer.\")\n",
    "elif fall:\n",
    "\tprint(\"That date falls in fall.\")\n",
    "elif winter:\n",
    "\tprint(\"That date falls in winter.\")"
   ]
  },
  {
   "cell_type": "markdown",
   "metadata": {},
   "source": [
    "# Example - 6\n",
    "The following table contains earthquake magnitude ranges on the Richter scale and\n",
    "their descriptors:\n",
    "Magnitude               Descriptor\n",
    "Less than 2.0           Micro\n",
    "2.0 to less than 3.0    Very minor\n",
    "3.0 to less than 4.0    Minor\n",
    "4.0 to less than 5.0    Light\n",
    "5.0 to less than 6.0    Moderate\n",
    "6.0 to less than 7.0    Strong \n",
    "7.0 to less than 8.0    Major\n",
    "8.0 to less than 10.0   Great \n",
    "10.0 or more            Meteoric       \n",
    "        \n",
    "Write a program that reads a magnitude from the user and displays the appropriate descriptor as part of a meaningful message. For example, if the user enters 5.5 then your program should indicate that a magnitude 5.5 earthquake is considered to be a moderate earthquake."
   ]
  },
  {
   "cell_type": "code",
   "execution_count": null,
   "metadata": {},
   "outputs": [],
   "source": [
    "magnitude = float(input(\"Enter an earthquake magnitude: \"))\n",
    "\n",
    "if magnitude < 2.0:\n",
    "\tdescriptor = \"Micro\"\n",
    "elif magnitude >= 2.0 and magnitude < 3.0:\n",
    "\tdescriptor = \"Very minor\"\n",
    "elif magnitude >= 3.0 and magnitude < 4.0:\n",
    "\tdescriptor = \"Minor\"\n",
    "elif magnitude >= 4.0 and magnitude < 5.0:\n",
    "\tdescriptor = \"Light\"\n",
    "elif magnitude >= 5.0 and magnitude < 6.0:\n",
    "\tdescriptor = \"Moderate\"\n",
    "elif magnitude >= 6.0 and magnitude < 7.0:\n",
    "\tdescriptor = \"Strong\"\n",
    "elif magnitude >= 7.0 and magnitude < 8.0:\n",
    "\tdescriptor = \"Major\"\n",
    "elif magnitude >= 8.0 and magnitude < 10.0:\n",
    "\tdescriptor = \"Great\"\n",
    "else:\n",
    "\tdescriptor = \"Meteoric\"\n",
    "\t\n",
    "print(\"This earthquake is classified as '{}'. \".format(descriptor))"
   ]
  }
 ],
 "metadata": {
  "kernelspec": {
   "display_name": "Python 3.8.9 64-bit",
   "language": "python",
   "name": "python3"
  },
  "language_info": {
   "codemirror_mode": {
    "name": "ipython",
    "version": 3
   },
   "file_extension": ".py",
   "mimetype": "text/x-python",
   "name": "python",
   "nbconvert_exporter": "python",
   "pygments_lexer": "ipython3",
   "version": "3.8.9"
  },
  "orig_nbformat": 4,
  "vscode": {
   "interpreter": {
    "hash": "31f2aee4e71d21fbe5cf8b01ff0e069b9275f58929596ceb00d14d90e3e16cd6"
   }
  }
 },
 "nbformat": 4,
 "nbformat_minor": 2
}
