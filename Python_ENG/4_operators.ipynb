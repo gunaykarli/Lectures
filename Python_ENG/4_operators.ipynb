{
 "cells": [
  {
   "attachments": {},
   "cell_type": "markdown",
   "metadata": {},
   "source": [
    "# Python operators\n",
    "Python operators are the constructs which can manipulate the value of operands. These are symbols used for the purpose of logical, arithmetic and various other operations.\\\n",
    "Consider the expression 4 + 5 = 9. Here, 4 and 5 are called operands and + is called operator. In this tutorial, we will study different types of Python operators.\n",
    "\n",
    "Types of Python Operators\n",
    "Python language supports the following types of operators.\n",
    "* Arithmetic Operators\n",
    "* Comparison (Relational) Operators\n",
    "* Assignment Operators\n",
    "* Logical Operators\n",
    "* Bitwise Operators\n",
    "* Membership Operators\n",
    "* Identity Operators"
   ]
  },
  {
   "attachments": {},
   "cell_type": "markdown",
   "metadata": {},
   "source": [
    "# Python Arithmetic Operators\n",
    "Python arithmetic operators are used to perform mathematical operations on numerical values. These operations are Addition, Subtraction, Multiplication, Division, Modulus, Exponents and Floor Division.\n",
    "\n",
    "- \"+\"\tAddition\t10 + 20 = 30\n",
    "- \"-\"\tSubtraction\t20 – 10 = 10\n",
    "- \"*\"\tMultiplication\t10 * 20 = 200\n",
    "- \"/\"\tDivision\t20 / 10 = 2\n",
    "- \"%\"\tModulus\t22 % 10 = 2\n",
    "- \"**\tExponent\t4**2 = 16\n",
    "- \"//\"Floor Division\t9//2 = 4\n",
    "\n",
    "Note: The order of precedence in Python; Parentheses, Exponential, Multiplication, Division, Addition, Subtraction"
   ]
  },
  {
   "cell_type": "code",
   "execution_count": 5,
   "metadata": {},
   "outputs": [
    {
     "name": "stdout",
     "output_type": "stream",
     "text": [
      "a + b :  25\n",
      "a - b :  17\n",
      "a * b :  84\n",
      "a / b :  5.25\n",
      "a % b :  1\n",
      "a ** b :  194481\n",
      "a // b :  5\n"
     ]
    }
   ],
   "source": [
    "a = 21\n",
    "b = 4\n",
    "\n",
    "# Addition\n",
    "print (\"a + b : \", a + b)\n",
    "\n",
    "# Subtraction\n",
    "print (\"a - b : \", a - b)\n",
    "\n",
    "# Multiplication\n",
    "print (\"a * b : \", a * b)\n",
    "\n",
    "# Division\n",
    "print (\"a / b : \", a / b)\n",
    "\n",
    "# Modulus\n",
    "print (\"a % b : \", a % b)\n",
    "\n",
    "# Exponent\n",
    "print (\"a ** b : \", a ** b)\n",
    "\n",
    "# Floor Division\n",
    "print (\"a // b : \", a // b)"
   ]
  },
  {
   "attachments": {},
   "cell_type": "markdown",
   "metadata": {},
   "source": [
    "# Python Comparison Operators\n",
    "Python comparison operators compare the values on either sides of them and decide the relation among them. They are also called relational operators. These operators are equal, not equal, greater than, less than, greater than or equal to and less than or equal to.\n",
    "\n",
    "\n",
    "- \"==\"\tEqual\t4 == 5 is not true.\n",
    "- \"!=\"\tNot Equal\t4 != 5 is true.\n",
    "- \">\"\t    Greater Than\t4 > 5 is not true.\n",
    "- \"<\"\t    Less Than\t4 < 5 is true.\n",
    "- \">=\"\"\tGreater than or Equal to\t4 >= 5 is not true.\n",
    "- \"<=\"\t    Less than or Equal to\t4 <= 5 is true."
   ]
  },
  {
   "cell_type": "code",
   "execution_count": null,
   "metadata": {},
   "outputs": [],
   "source": [
    "a = 4\n",
    "b = 5\n",
    "\n",
    "# Equal\n",
    "print (\"a == b : \", a == b)\n",
    "\n",
    "# Not Equal\n",
    "print (\"a != b : \", a != b)\n",
    "\n",
    "# Greater Than\n",
    "print (\"a > b : \", a > b)\n",
    "\n",
    "# Less Than\n",
    "print (\"a < b : \", a < b)\n",
    "\n",
    "# Greater Than or Equal to\n",
    "print (\"a >= b : \", a >= b)\n",
    "\n",
    "# Less Than or Equal to\n",
    "print (\"a <= b : \", a <= b)"
   ]
  },
  {
   "attachments": {},
   "cell_type": "markdown",
   "metadata": {},
   "source": [
    "# Python Assignment Operators\n",
    "Python assignment operators are used to assign values to variables. These operators include simple assignment operator, addition assign, subtraction assign, multiplication assign, division and assign operators etc.\n",
    "\n",
    "- \"=\"\t    Assignment Operator\ta = 10\n",
    "- \"+=\"\tAddition Assignment\ta += 5 (Same as a = a + 5)\n",
    "- \"-=\"\tSubtraction Assignment\ta -= 5 (Same as a = a - 5)\n",
    "- \"*=\"\tMultiplication Assignment\ta *= 5 (Same as a = a * 5)\n",
    "- \"/=\"\tDivision Assignment\ta /= 5 (Same as a = a / 5)\n",
    "- \"%=\"\tRemainder Assignment\ta %= 5 (Same as a = a % 5)\n",
    "- \"**=\"\tExponent Assignment\ta **= 2 (Same as a = a ** 2)\n",
    "- \"//=\"\tFloor Division Assignment\ta //= 3 (Same as a = a // 3)"
   ]
  },
  {
   "cell_type": "code",
   "execution_count": null,
   "metadata": {},
   "outputs": [],
   "source": [
    "# Assignment Operator\n",
    "a = 10\n",
    "print (\"a : \", a)\n",
    "\n",
    "# Addition Assignment\n",
    "a += 5\n",
    "print (\"a += 5 : \", a)\n",
    "\n",
    "# Subtraction Assignment\n",
    "a -= 5\n",
    "print (\"a -= 5 : \", a)\n",
    "\n",
    "# Multiplication Assignment\n",
    "a *= 5\n",
    "print (\"a *= 5 : \", a)\n",
    "\n",
    "# Division Assignment\n",
    "a /= 5\n",
    "print (\"a /= 5 : \",a)\n",
    "\n",
    "# Remainder Assignment\n",
    "a %= 3\n",
    "print (\"a %= 3 : \", a)\n",
    "\n",
    "# Exponent Assignment\n",
    "a **= 2\n",
    "print (\"a **= 2 : \", a)"
   ]
  },
  {
   "cell_type": "markdown",
   "metadata": {},
   "source": [
    "# Quiz"
   ]
  },
  {
   "attachments": {},
   "cell_type": "markdown",
   "metadata": {},
   "source": [
    "1. What are the outputs of the following code?"
   ]
  },
  {
   "cell_type": "code",
   "execution_count": null,
   "metadata": {},
   "outputs": [],
   "source": [
    "x = 7\n",
    "y = 2\n",
    "result1 = x ** y\n",
    "result2 = x // y\n",
    "result3 = x / y\n",
    "result4 = x % y "
   ]
  },
  {
   "attachments": {},
   "cell_type": "markdown",
   "metadata": {},
   "source": [
    "2. What are the outputs of the following code?"
   ]
  },
  {
   "cell_type": "code",
   "execution_count": null,
   "metadata": {},
   "outputs": [],
   "source": [
    "output1 = (10 - 4 * 2)\n",
    "output2 = (2 * 3 ** 2 * 4)"
   ]
  },
  {
   "attachments": {},
   "cell_type": "markdown",
   "metadata": {},
   "source": [
    "3. What are the outputs of the following code?"
   ]
  },
  {
   "cell_type": "code",
   "execution_count": null,
   "metadata": {},
   "outputs": [],
   "source": [
    "a = 4\n",
    "b = 11\n",
    "output1 = (a == b)\n",
    "output2 = (a < b)\n",
    "output3 = (a != b)"
   ]
  },
  {
   "cell_type": "markdown",
   "metadata": {},
   "source": [
    "4. What is the value of x and y in the following code?"
   ]
  },
  {
   "cell_type": "code",
   "execution_count": null,
   "metadata": {},
   "outputs": [],
   "source": [
    "x = 20\n",
    "y = 10\n",
    "y += 2\n",
    "x -= y"
   ]
  }
 ],
 "metadata": {
  "kernelspec": {
   "display_name": "deneme",
   "language": "python",
   "name": "python3"
  },
  "language_info": {
   "codemirror_mode": {
    "name": "ipython",
    "version": 3
   },
   "file_extension": ".py",
   "mimetype": "text/x-python",
   "name": "python",
   "nbconvert_exporter": "python",
   "pygments_lexer": "ipython3",
   "version": "3.9.15"
  },
  "orig_nbformat": 4,
  "vscode": {
   "interpreter": {
    "hash": "1f508c096ef581a8b194e24fe3c7de8c47ac0f3bf26b0d5a4dcbf9d70666f57f"
   }
  }
 },
 "nbformat": 4,
 "nbformat_minor": 2
}
