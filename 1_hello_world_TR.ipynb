{
 "cells": [
  {
   "cell_type": "markdown",
   "metadata": {},
   "source": [
    "# The Way of Thinking\n",
    "The single most important skill for a person in bussiness world is problem solving. Problem solving means the ability to formulate problems, think creatively about solutions, and express a solution clearly and accurately. "
   ]
  },
  {
   "cell_type": "markdown",
   "metadata": {},
   "source": [
    "# What is a program? \n",
    "A program is a sequence of instructions that specifies how to perform a computation. \n",
    "The computation might be something mathematical, such as solving a system of equations, but it can also be a symbolic computation, such as searching and replacing text in a document or something graphical, like processing an image or playing a video. \n",
    "The details look different in different languages, but a few basic instructions appear in just about every language: \n",
    "\n",
    "- input: Get data from the keyboard, a file, the network, or some other device. \n",
    "- output: Display data on the screen, save it in a file, send it over the network, etc. \n",
    "- math: Perform basic mathematical operations like addition and multiplication. \n",
    "- conditional execution: Check for certain conditions and run the appropriate code. \n",
    "- repetition: Perform some action repeatedly, usually with some variation.\n",
    "\n",
    "Believe it or not, that’s pretty much all there is to it."
   ]
  },
  {
   "cell_type": "markdown",
   "metadata": {},
   "source": [
    "\n",
    "# Python\n",
    "Python has become one of the most popular programming languages in the world in recent years. It's used in everything from machine learning to building websites and software testing.\n",
    "\n",
    "# Python is a general-purpose language\n",
    "Python has created everything from Netflix’s recommendation algorithm to the software that controls self-driving cars. Python is a general-purpose language, which means it’s designed to be used in a range of applications, including data science, software and web development, automation, and generally getting stuff done.\n",
    "\n",
    "# Data analysis and machine learning\n",
    "Python has become a staple in data science, allowing data analysts, scientists and other professionals to use the language to conduct complex calculations, create data visualizations, build machine learning algorithms, manipulate and analyze data, and complete other data-related tasks."
   ]
  },
  {
   "cell_type": "markdown",
   "metadata": {},
   "source": [
    "# Running a Python Program\n",
    "The Python interpreter is a program that reads and executes Python code. Depending on your environment, you might start the interpreter by clicking on an icon, or by typing python on a command line. When it starts, you should see output of the program."
   ]
  },
  {
   "cell_type": "markdown",
   "metadata": {},
   "source": [
    "# Debugging\n",
    "Programmers make mistakes. For whimsical reasons, programming errors are called bugs\n",
    "and the process of tracking them down is called debugging.\n",
    "Programming, and especially debugging, sometimes brings out strong emotions. If you\n",
    "are struggling with a difficult bug, you might feel angry, despondent, or embarrassed.\n",
    "Patience..."
   ]
  },
  {
   "cell_type": "markdown",
   "metadata": {},
   "source": [
    "# Hello World!\n",
    "There’s a long-held tradition in the programming world that printing a Hello world! message to the screen as your first program in a new language will bring you good luck."
   ]
  },
  {
   "cell_type": "code",
   "execution_count": 1,
   "metadata": {},
   "outputs": [],
   "source": [
    "numValue = int(input(\"Enter a number: \"))"
   ]
  }
 ],
 "metadata": {
  "kernelspec": {
   "display_name": "Python 3.8.9 64-bit",
   "language": "python",
   "name": "python3"
  },
  "language_info": {
   "codemirror_mode": {
    "name": "ipython",
    "version": 3
   },
   "file_extension": ".py",
   "mimetype": "text/x-python",
   "name": "python",
   "nbconvert_exporter": "python",
   "pygments_lexer": "ipython3",
   "version": "3.8.9"
  },
  "orig_nbformat": 4,
  "vscode": {
   "interpreter": {
    "hash": "31f2aee4e71d21fbe5cf8b01ff0e069b9275f58929596ceb00d14d90e3e16cd6"
   }
  }
 },
 "nbformat": 4,
 "nbformat_minor": 2
}
